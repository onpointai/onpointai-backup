{
 "cells": [
  {
   "cell_type": "markdown",
   "metadata": {
    "colab_type": "text",
    "id": "IYfWdgdIG_yb"
   },
   "source": [
    "# Tensorflow & Pytorch comparison with CIFAR10\n",
    "> The purpose of this notebook is to layout the typical workflow in a simple feed-forward classification problem using Tensorflow/Keras and Pytorch.\n",
    "\n",
    "- toc: true \n",
    "- badges: true\n",
    "- comments: true\n",
    "- categories: [jovian, tensorflow, keras, pytorch, fastpages, jupyter]\n",
    "- image: images/tf-pytorch-1.png"
   ]
  },
  {
   "cell_type": "markdown",
   "metadata": {
    "colab_type": "text",
    "id": "0ULp9v2nG_mx"
   },
   "source": [
    "# About\n",
    "\n",
    "The third assigment of the course [Pytorch Zero to GANS](https://jovian.ml/forum/c/pytorch-zero-to-gans/18) run by [JOVIAN.ML](https://www.jovian.ml) is to go through a simple classification problem using the CIFAR10 dataset. The course uses Pytorch and as an option course attendees were asked to use Tensorflow to repeat the task.\n",
    "\n",
    "The training was done on Google Colab with GPU.\n",
    "The good thing with running on Colab (and Binder, Kaggle to name a few others) is there is not much setup involved. Import the required libraries and off you go!\n",
    "\n",
    "The Tensorflow version will be done first followed by the Pytorch version. The course assignment was in Pytorch (as the course title suggests) so the TF example was made to match that setup."
   ]
  },
  {
   "cell_type": "markdown",
   "metadata": {
    "colab_type": "text",
    "id": "u6BBRnOaHZZA"
   },
   "source": [
    "# Colab setup\n",
    "> You will have to use your own API credentials.   "
   ]
  },
  {
   "cell_type": "code",
   "execution_count": 1,
   "metadata": {
    "colab": {
     "base_uri": "https://localhost:8080/",
     "height": 34
    },
    "colab_type": "code",
    "executionInfo": {
     "elapsed": 1515,
     "status": "ok",
     "timestamp": 1591963274573,
     "user": {
      "displayName": "Dexter D'Silva",
      "photoUrl": "",
      "userId": "09309547355199345888"
     },
     "user_tz": -60
    },
    "id": "mmYBWkoE0Ss6",
    "outputId": "4a158194-f49c-446e-a54b-caf08f4c293d"
   },
   "outputs": [
    {
     "name": "stdout",
     "output_type": "stream",
     "text": [
      "Mounted at /content/drive\n"
     ]
    }
   ],
   "source": [
    "from google.colab import drive\n",
    "drive.mount('/content/drive', force_remount=True)\n",
    "import os\n",
    "root_dir = '/content/drive/My Drive/Colab Notebooks/jovian/'"
   ]
  },
  {
   "cell_type": "markdown",
   "metadata": {
    "colab_type": "text",
    "id": "Qs3u005HsH-J"
   },
   "source": [
    "# Tensorflow/Keras"
   ]
  },
  {
   "cell_type": "markdown",
   "metadata": {
    "colab_type": "text",
    "id": "tgIYAij6Hvzj"
   },
   "source": [
    "## Import libraries"
   ]
  },
  {
   "cell_type": "code",
   "execution_count": 0,
   "metadata": {
    "colab": {},
    "colab_type": "code",
    "id": "c7LWCgscsHyE"
   },
   "outputs": [],
   "source": [
    "from __future__ import print_function\n",
    "import tensorflow as tf\n",
    "import keras\n",
    "from keras.datasets import cifar10\n",
    "from keras.preprocessing.image import ImageDataGenerator\n",
    "from keras.models import Sequential\n",
    "from keras.layers import Dense, Dropout, Activation, Flatten\n",
    "from keras.utils import to_categorical\n",
    "import os\n",
    "import numpy as np\n",
    "from sklearn.model_selection import train_test_split\n",
    "import matplotlib.pyplot as plt\n",
    "%matplotlib inline"
   ]
  },
  {
   "cell_type": "markdown",
   "metadata": {
    "colab_type": "text",
    "id": "DatE3rUEPekF"
   },
   "source": [
    "> Data augmentation not used because this was not used in the Pytorch example below. **"
   ]
  },
  {
   "cell_type": "code",
   "execution_count": 0,
   "metadata": {
    "colab": {},
    "colab_type": "code",
    "id": "c0BrqrvvsHwA"
   },
   "outputs": [],
   "source": [
    "batch_size=128\n",
    "epochs=20\n",
    "data_augmentation=False"
   ]
  },
  {
   "cell_type": "code",
   "execution_count": 8,
   "metadata": {
    "colab": {
     "base_uri": "https://localhost:8080/",
     "height": 51
    },
    "colab_type": "code",
    "executionInfo": {
     "elapsed": 7001,
     "status": "ok",
     "timestamp": 1591960700899,
     "user": {
      "displayName": "Dexter D'Silva",
      "photoUrl": "",
      "userId": "09309547355199345888"
     },
     "user_tz": -60
    },
    "id": "di4bDrlfsHss",
    "outputId": "3ba4a936-a66e-4d5a-e8bb-1a85c7823c7f"
   },
   "outputs": [
    {
     "name": "stdout",
     "output_type": "stream",
     "text": [
      "Downloading data from https://www.cs.toronto.edu/~kriz/cifar-10-python.tar.gz\n",
      "170500096/170498071 [==============================] - 4s 0us/step\n"
     ]
    }
   ],
   "source": [
    "(X,y), (x_test,y_test) = cifar10.load_data()"
   ]
  },
  {
   "cell_type": "markdown",
   "metadata": {
    "colab_type": "text",
    "id": "ChaEiDqxJ9VF"
   },
   "source": [
    "## Explore the CIFAR10 dataset"
   ]
  },
  {
   "cell_type": "code",
   "execution_count": 0,
   "metadata": {
    "colab": {
     "base_uri": "https://localhost:8080/",
     "height": 85
    },
    "colab_type": "code",
    "executionInfo": {
     "elapsed": 512,
     "status": "ok",
     "timestamp": 1591945219534,
     "user": {
      "displayName": "Dexter D'Silva",
      "photoUrl": "",
      "userId": "09309547355199345888"
     },
     "user_tz": -60
    },
    "id": "JHAQQxntoIBg",
    "outputId": "bcc1309e-5239-469f-e401-0b523f68c367"
   },
   "outputs": [
    {
     "name": "stdout",
     "output_type": "stream",
     "text": [
      "(50000, 32, 32, 3)\n",
      "(50000, 1)\n",
      "(10000, 32, 32, 3)\n",
      "(10000, 1)\n"
     ]
    }
   ],
   "source": [
    "# collapse-hide\n",
    "print(X.shape)\n",
    "print(y.shape)\n",
    "print(x_test.shape)\n",
    "print(y_test.shape)"
   ]
  },
  {
   "cell_type": "code",
   "execution_count": 0,
   "metadata": {
    "colab": {},
    "colab_type": "code",
    "id": "1wl8IQVU1wQp"
   },
   "outputs": [],
   "source": [
    "y_squeeze = np.squeeze(y)"
   ]
  },
  {
   "cell_type": "markdown",
   "metadata": {
    "colab_type": "text",
    "id": "vlIAVkReLB15"
   },
   "source": []
  },
  {
   "cell_type": "code",
   "execution_count": 0,
   "metadata": {
    "colab": {},
    "colab_type": "code",
    "id": "p86TdZ17n7gE"
   },
   "outputs": [],
   "source": [
    "# Create a classes list\n",
    "classes = ['airplane',\n",
    " 'automobile',\n",
    " 'bird',\n",
    " 'cat',\n",
    " 'deer',\n",
    " 'dog',\n",
    " 'frog',\n",
    " 'horse',\n",
    " 'ship',\n",
    " 'truck']"
   ]
  },
  {
   "cell_type": "code",
   "execution_count": 11,
   "metadata": {
    "colab": {
     "base_uri": "https://localhost:8080/",
     "height": 34
    },
    "colab_type": "code",
    "executionInfo": {
     "elapsed": 450,
     "status": "ok",
     "timestamp": 1591960703920,
     "user": {
      "displayName": "Dexter D'Silva",
      "photoUrl": "",
      "userId": "09309547355199345888"
     },
     "user_tz": -60
    },
    "id": "fHCr8_rlnbk2",
    "outputId": "91fc7302-4af7-4a42-a2e1-4cfd92ecf846"
   },
   "outputs": [
    {
     "data": {
      "text/plain": [
       "array([0, 1, 2, 3, 4, 5, 6, 7, 8, 9], dtype=uint8)"
      ]
     },
     "execution_count": 11,
     "metadata": {
      "tags": []
     },
     "output_type": "execute_result"
    }
   ],
   "source": [
    "#unique classes\n",
    "unique_classes = np.unique(y)\n",
    "num_classes = len(unique_classes)\n",
    "unique_classes"
   ]
  },
  {
   "cell_type": "code",
   "execution_count": 0,
   "metadata": {
    "colab": {},
    "colab_type": "code",
    "id": "NPx-S1Cpo95H"
   },
   "outputs": [],
   "source": [
    "unique, count = np.unique(y, return_counts=True)"
   ]
  },
  {
   "cell_type": "code",
   "execution_count": 0,
   "metadata": {
    "colab": {
     "base_uri": "https://localhost:8080/",
     "height": 187
    },
    "colab_type": "code",
    "executionInfo": {
     "elapsed": 949,
     "status": "ok",
     "timestamp": 1591945303908,
     "user": {
      "displayName": "Dexter D'Silva",
      "photoUrl": "",
      "userId": "09309547355199345888"
     },
     "user_tz": -60
    },
    "id": "Co2jPApi3PpT",
    "outputId": "bfd55e50-10cf-411c-ba99-9b508ac69305"
   },
   "outputs": [
    {
     "name": "stdout",
     "output_type": "stream",
     "text": [
      " class airplane has 5000 images\n",
      " class automobile has 5000 images\n",
      " class bird has 5000 images\n",
      " class cat has 5000 images\n",
      " class deer has 5000 images\n",
      " class dog has 5000 images\n",
      " class frog has 5000 images\n",
      " class horse has 5000 images\n",
      " class ship has 5000 images\n",
      " class truck has 5000 images\n"
     ]
    }
   ],
   "source": [
    "for i in range(len(unique)):\n",
    "  print(f' class {classes[i] } has {count[i].item()} images')"
   ]
  },
  {
   "cell_type": "code",
   "execution_count": 13,
   "metadata": {
    "colab": {
     "base_uri": "https://localhost:8080/",
     "height": 377
    },
    "colab_type": "code",
    "executionInfo": {
     "elapsed": 1859,
     "status": "ok",
     "timestamp": 1591960715062,
     "user": {
      "displayName": "Dexter D'Silva",
      "photoUrl": "",
      "userId": "09309547355199345888"
     },
     "user_tz": -60
    },
    "id": "oMPVnhUqmSAD",
    "outputId": "9535509b-77a7-448b-9a5b-816720853647"
   },
   "outputs": [
    {
     "data": {
      "image/png": "[encoded data removed]",
      "text/plain": [
       "<Figure size 432x432 with 9 Axes>"
      ]
     },
     "metadata": {
      "needs_background": "light",
      "tags": []
     },
     "output_type": "display_data"
    }
   ],
   "source": [
    "#collapse-hide\n",
    "fig = plt.figure(figsize=(6,6))\n",
    "for i in range(9):\n",
    "  plt.subplot(3,3,i+1)\n",
    "  plt.imshow(X[i])\n",
    "\n",
    "plt.show()"
   ]
  },
  {
   "cell_type": "markdown",
   "metadata": {
    "colab_type": "text",
    "id": "TPt9UJ8TKkJr"
   },
   "source": [
    "## Prepare the data for training\n",
    "> The Pytorch assignment used a 10% split of the training set for the validation set done using the randome_split Pytorch utility. \n",
    "So I will use scikitlearn's train_test_split to do the same the same on the training set."
   ]
  },
  {
   "cell_type": "code",
   "execution_count": 0,
   "metadata": {
    "colab": {},
    "colab_type": "code",
    "id": "MVKIILQYmEqa"
   },
   "outputs": [],
   "source": [
    "x_train, x_val, y_train, y_val= train_test_split(X, y,\n",
    "                                                     test_size=0.1,\n",
    "                                                     random_state=42)"
   ]
  },
  {
   "cell_type": "code",
   "execution_count": 0,
   "metadata": {
    "colab": {},
    "colab_type": "code",
    "id": "C-ebj8Jro_fx"
   },
   "outputs": [],
   "source": [
    "x_train=x_train.astype('float32')/255.\n",
    "x_val=x_val.astype('float32')/255."
   ]
  },
  {
   "cell_type": "code",
   "execution_count": 16,
   "metadata": {
    "colab": {
     "base_uri": "https://localhost:8080/",
     "height": 51
    },
    "colab_type": "code",
    "executionInfo": {
     "elapsed": 393,
     "status": "ok",
     "timestamp": 1591960724148,
     "user": {
      "displayName": "Dexter D'Silva",
      "photoUrl": "",
      "userId": "09309547355199345888"
     },
     "user_tz": -60
    },
    "id": "_oWs2srRp4-x",
    "outputId": "8afc8dcc-8526-4ccb-9700-57d1431cc92b"
   },
   "outputs": [
    {
     "name": "stdout",
     "output_type": "stream",
     "text": [
      "(45000, 32, 32, 3)\n",
      "(45000, 10)\n"
     ]
    }
   ],
   "source": [
    "y_train = to_categorical(y_train, num_classes)\n",
    "y_val = to_categorical(y_val, num_classes)\n",
    "print(x_train.shape)\n",
    "print(y_train.shape)"
   ]
  },
  {
   "cell_type": "code",
   "execution_count": 0,
   "metadata": {
    "colab": {},
    "colab_type": "code",
    "id": "4HsFJXpu5BYv"
   },
   "outputs": [],
   "source": [
    "y_train = np.squeeze(y_train)\n",
    "y_val=np.squeeze(y_val)"
   ]
  },
  {
   "cell_type": "markdown",
   "metadata": {
    "colab_type": "text",
    "id": "RFo8S9pfI89L"
   },
   "source": [
    "## Set up a simple Keras model"
   ]
  },
  {
   "cell_type": "code",
   "execution_count": 0,
   "metadata": {
    "colab": {},
    "colab_type": "code",
    "id": "Sd7Ey0NbsHkv"
   },
   "outputs": [],
   "source": [
    "model = Sequential()\n",
    "model.add(Flatten(input_shape=(32,32,3)))\n",
    "model.add(Dense(32,activation = 'relu'))\n",
    "model.add(Dense(num_classes))\n",
    "model.add(Activation('softmax'))"
   ]
  },
  {
   "cell_type": "code",
   "execution_count": 19,
   "metadata": {
    "colab": {
     "base_uri": "https://localhost:8080/",
     "height": 289
    },
    "colab_type": "code",
    "executionInfo": {
     "elapsed": 6574,
     "status": "ok",
     "timestamp": 1591960742670,
     "user": {
      "displayName": "Dexter D'Silva",
      "photoUrl": "",
      "userId": "09309547355199345888"
     },
     "user_tz": -60
    },
    "id": "L8DWGIbRsHii",
    "outputId": "3a138534-96b5-4681-c502-9d83cec018d7"
   },
   "outputs": [
    {
     "name": "stdout",
     "output_type": "stream",
     "text": [
      "Model: \"sequential_1\"\n",
      "_________________________________________________________________\n",
      "Layer (type)                 Output Shape              Param #   \n",
      "=================================================================\n",
      "flatten_1 (Flatten)          (None, 3072)              0         \n",
      "_________________________________________________________________\n",
      "dense_1 (Dense)              (None, 32)                98336     \n",
      "_________________________________________________________________\n",
      "dense_2 (Dense)              (None, 10)                330       \n",
      "_________________________________________________________________\n",
      "activation_1 (Activation)    (None, 10)                0         \n",
      "=================================================================\n",
      "Total params: 98,666\n",
      "Trainable params: 98,666\n",
      "Non-trainable params: 0\n",
      "_________________________________________________________________\n"
     ]
    }
   ],
   "source": [
    "model.summary() "
   ]
  },
  {
   "cell_type": "markdown",
   "metadata": {
    "colab_type": "text",
    "id": "07qGOb9vIbPY"
   },
   "source": [
    "> The number of model parameters must match that of Pytorch. "
   ]
  },
  {
   "cell_type": "code",
   "execution_count": 0,
   "metadata": {
    "colab": {},
    "colab_type": "code",
    "id": "KwzW957IsHgd"
   },
   "outputs": [],
   "source": [
    "opt = keras.optimizers.SGD(learning_rate=1e-3)"
   ]
  },
  {
   "cell_type": "code",
   "execution_count": 0,
   "metadata": {
    "colab": {},
    "colab_type": "code",
    "id": "cqIE2SYgsHcS"
   },
   "outputs": [],
   "source": [
    "model.compile(loss='categorical_crossentropy',\n",
    "              optimizer=opt,\n",
    "              metrics = ['accuracy'])"
   ]
  },
  {
   "cell_type": "code",
   "execution_count": 0,
   "metadata": {
    "colab": {},
    "colab_type": "code",
    "id": "dA2Px-XpsHaK"
   },
   "outputs": [],
   "source": [
    "H = model.fit(x_train, y_train,\n",
    "              batch_size=batch_size,\n",
    "              epochs = 20,\n",
    "              validation_data=(x_val,y_val))"
   ]
  },
  {
   "cell_type": "code",
   "execution_count": 23,
   "metadata": {
    "colab": {
     "base_uri": "https://localhost:8080/",
     "height": 34
    },
    "colab_type": "code",
    "executionInfo": {
     "elapsed": 412,
     "status": "ok",
     "timestamp": 1591960804998,
     "user": {
      "displayName": "Dexter D'Silva",
      "photoUrl": "",
      "userId": "09309547355199345888"
     },
     "user_tz": -60
    },
    "id": "oEOsDTrmsHYM",
    "outputId": "242a3d51-0bf7-4167-c6d3-cf47f1e23b44"
   },
   "outputs": [
    {
     "name": "stdout",
     "output_type": "stream",
     "text": [
      "dict_keys(['val_loss', 'val_accuracy', 'loss', 'accuracy'])\n"
     ]
    }
   ],
   "source": [
    "print(H.history.keys())"
   ]
  },
  {
   "cell_type": "code",
   "execution_count": 25,
   "metadata": {
    "colab": {
     "base_uri": "https://localhost:8080/",
     "height": 281
    },
    "colab_type": "code",
    "executionInfo": {
     "elapsed": 565,
     "status": "ok",
     "timestamp": 1591960832937,
     "user": {
      "displayName": "Dexter D'Silva",
      "photoUrl": "",
      "userId": "09309547355199345888"
     },
     "user_tz": -60
    },
    "id": "SmSY1ubGltUC",
    "outputId": "5ef043ef-fa45-49f7-d624-913d2ee6505d"
   },
   "outputs": [
    {
     "data": {
      "image/png": "[encoded data removed]",
      "text/plain": [
       "<Figure size 432x288 with 1 Axes>"
      ]
     },
     "metadata": {
      "needs_background": "light",
      "tags": []
     },
     "output_type": "display_data"
    }
   ],
   "source": [
    "plt.title(\"ACCURACY\")\n",
    "plt.plot(H.history['accuracy'], label='train_acc')\n",
    "plt.plot(H.history['val_accuracy'], label = 'val_acc')\n",
    "plt.legend()\n",
    "plt.show()"
   ]
  },
  {
   "cell_type": "markdown",
   "metadata": {
    "colab_type": "text",
    "id": "4vUwRMMqJMjk"
   },
   "source": [
    "## Evaluate the model on Test data"
   ]
  },
  {
   "cell_type": "code",
   "execution_count": 0,
   "metadata": {
    "colab": {},
    "colab_type": "code",
    "id": "hPIvx4G9sHPV"
   },
   "outputs": [],
   "source": [
    "x_test =x_test.astype('float32')/255.\n",
    "y_test = to_categorical(y_test, num_classes)"
   ]
  },
  {
   "cell_type": "code",
   "execution_count": 27,
   "metadata": {
    "colab": {
     "base_uri": "https://localhost:8080/",
     "height": 34
    },
    "colab_type": "code",
    "executionInfo": {
     "elapsed": 488,
     "status": "ok",
     "timestamp": 1591960839225,
     "user": {
      "displayName": "Dexter D'Silva",
      "photoUrl": "",
      "userId": "09309547355199345888"
     },
     "user_tz": -60
    },
    "id": "qahYxUh77dc1",
    "outputId": "22e92eba-d01b-4536-d4b7-dfbd1d308279"
   },
   "outputs": [
    {
     "data": {
      "text/plain": [
       "(10000, 10)"
      ]
     },
     "execution_count": 27,
     "metadata": {
      "tags": []
     },
     "output_type": "execute_result"
    }
   ],
   "source": [
    "y_test.shape"
   ]
  },
  {
   "cell_type": "code",
   "execution_count": 28,
   "metadata": {
    "colab": {
     "base_uri": "https://localhost:8080/",
     "height": 51
    },
    "colab_type": "code",
    "executionInfo": {
     "elapsed": 1369,
     "status": "ok",
     "timestamp": 1591960841719,
     "user": {
      "displayName": "Dexter D'Silva",
      "photoUrl": "",
      "userId": "09309547355199345888"
     },
     "user_tz": -60
    },
    "id": "pl9tKFgysHL1",
    "outputId": "15760bb6-2a62-4f12-9802-47cdfc35017b"
   },
   "outputs": [
    {
     "name": "stdout",
     "output_type": "stream",
     "text": [
      "10000/10000 [==============================] - 1s 94us/step\n"
     ]
    },
    {
     "data": {
      "text/plain": [
       "[1.8181508338928223, 0.3619999885559082]"
      ]
     },
     "execution_count": 28,
     "metadata": {
      "tags": []
     },
     "output_type": "execute_result"
    }
   ],
   "source": [
    "model.evaluate(x_test, y_test)"
   ]
  },
  {
   "cell_type": "markdown",
   "metadata": {
    "colab_type": "text",
    "id": "DMgJD4OEJTdZ"
   },
   "source": [
    "---"
   ]
  },
  {
   "cell_type": "markdown",
   "metadata": {
    "colab_type": "text",
    "id": "uljWBIal0Nmk"
   },
   "source": [
    "# Pytorch\n",
    "This is Assignment 03 modified for blogging purposes."
   ]
  },
  {
   "cell_type": "markdown",
   "metadata": {
    "colab_type": "text",
    "id": "drR6aqOrJd4N"
   },
   "source": [
    "## Import libraries"
   ]
  },
  {
   "cell_type": "code",
   "execution_count": 0,
   "metadata": {
    "colab": {},
    "colab_type": "code",
    "id": "1FLp-PX50Nmr"
   },
   "outputs": [],
   "source": [
    "import torch\n",
    "import torchvision\n",
    "import numpy as np\n",
    "import matplotlib.pyplot as plt\n",
    "import torch.nn as nn\n",
    "import torch.nn.functional as F\n",
    "from torchvision.datasets import CIFAR10\n",
    "from torchvision.transforms import ToTensor\n",
    "from torchvision.utils import make_grid\n",
    "from torch.utils.data.dataloader import DataLoader\n",
    "from torch.utils.data import random_split\n",
    "%matplotlib inline"
   ]
  },
  {
   "cell_type": "code",
   "execution_count": 0,
   "metadata": {
    "colab": {},
    "colab_type": "code",
    "id": "zh7_TRdY0Nmu"
   },
   "outputs": [],
   "source": [
    "# Project name used for jovian.commit\n",
    "project_name = '03-cifar10-feedforward'"
   ]
  },
  {
   "cell_type": "code",
   "execution_count": 4,
   "metadata": {
    "colab": {
     "base_uri": "https://localhost:8080/",
     "height": 34
    },
    "colab_type": "code",
    "executionInfo": {
     "elapsed": 556,
     "status": "ok",
     "timestamp": 1591963295125,
     "user": {
      "displayName": "Dexter D'Silva",
      "photoUrl": "",
      "userId": "09309547355199345888"
     },
     "user_tz": -60
    },
    "id": "JxspjbOc1AYP",
    "outputId": "7d54baf7-6dbe-4e2e-ea74-a7bf2b5b9eb0"
   },
   "outputs": [
    {
     "data": {
      "text/plain": [
       "'/content/drive/My Drive/Colab Notebooks/jovian/03-cifar10-feedforward'"
      ]
     },
     "execution_count": 4,
     "metadata": {
      "tags": []
     },
     "output_type": "execute_result"
    }
   ],
   "source": [
    "proj_dir = os.path.join(root_dir, project_name)\n",
    "proj_dir"
   ]
  },
  {
   "cell_type": "markdown",
   "metadata": {
    "colab_type": "text",
    "id": "3bYlJbLM0Nmy"
   },
   "source": [
    "## Exploring the CIFAR10 dataset"
   ]
  },
  {
   "cell_type": "code",
   "execution_count": 5,
   "metadata": {
    "colab": {
     "base_uri": "https://localhost:8080/",
     "height": 34
    },
    "colab_type": "code",
    "executionInfo": {
     "elapsed": 2998,
     "status": "ok",
     "timestamp": 1591963299367,
     "user": {
      "displayName": "Dexter D'Silva",
      "photoUrl": "",
      "userId": "09309547355199345888"
     },
     "user_tz": -60
    },
    "id": "ByPGJAuk0Nm5",
    "outputId": "3a25b438-f0f6-4e08-f2b7-d8f28f21ad5c"
   },
   "outputs": [
    {
     "name": "stdout",
     "output_type": "stream",
     "text": [
      "Files already downloaded and verified\n"
     ]
    }
   ],
   "source": [
    "dataset = CIFAR10(root=proj_dir, download=True, transform=ToTensor())\n",
    "\n",
    "test_dataset = CIFAR10(root=proj_dir, train=False, transform=ToTensor())"
   ]
  },
  {
   "cell_type": "code",
   "execution_count": 6,
   "metadata": {
    "colab": {
     "base_uri": "https://localhost:8080/",
     "height": 34
    },
    "colab_type": "code",
    "executionInfo": {
     "elapsed": 670,
     "status": "ok",
     "timestamp": 1591963301066,
     "user": {
      "displayName": "Dexter D'Silva",
      "photoUrl": "",
      "userId": "09309547355199345888"
     },
     "user_tz": -60
    },
    "id": "U04deHRK0Nm_",
    "outputId": "d9171683-c29d-4dd0-d62f-3e9080b3a4ad"
   },
   "outputs": [
    {
     "data": {
      "text/plain": [
       "50000"
      ]
     },
     "execution_count": 6,
     "metadata": {
      "tags": []
     },
     "output_type": "execute_result"
    }
   ],
   "source": [
    "dataset_size = len(dataset)\n",
    "dataset_size"
   ]
  },
  {
   "cell_type": "code",
   "execution_count": 8,
   "metadata": {
    "colab": {
     "base_uri": "https://localhost:8080/",
     "height": 34
    },
    "colab_type": "code",
    "executionInfo": {
     "elapsed": 430,
     "status": "ok",
     "timestamp": 1591963306805,
     "user": {
      "displayName": "Dexter D'Silva",
      "photoUrl": "",
      "userId": "09309547355199345888"
     },
     "user_tz": -60
    },
    "id": "tixZRp_c0NnD",
    "outputId": "7b8cb147-8cff-4e00-c962-7a39eb375272"
   },
   "outputs": [
    {
     "data": {
      "text/plain": [
       "10000"
      ]
     },
     "execution_count": 8,
     "metadata": {
      "tags": []
     },
     "output_type": "execute_result"
    }
   ],
   "source": [
    "test_dataset_size = len(test_dataset)\n",
    "test_dataset_size"
   ]
  },
  {
   "cell_type": "code",
   "execution_count": 9,
   "metadata": {
    "colab": {
     "base_uri": "https://localhost:8080/",
     "height": 187
    },
    "colab_type": "code",
    "executionInfo": {
     "elapsed": 419,
     "status": "ok",
     "timestamp": 1591963308132,
     "user": {
      "displayName": "Dexter D'Silva",
      "photoUrl": "",
      "userId": "09309547355199345888"
     },
     "user_tz": -60
    },
    "id": "TniLthZd0NnG",
    "outputId": "6eaba9f2-b410-4052-93ce-2b3826fd84dc"
   },
   "outputs": [
    {
     "data": {
      "text/plain": [
       "['airplane',\n",
       " 'automobile',\n",
       " 'bird',\n",
       " 'cat',\n",
       " 'deer',\n",
       " 'dog',\n",
       " 'frog',\n",
       " 'horse',\n",
       " 'ship',\n",
       " 'truck']"
      ]
     },
     "execution_count": 9,
     "metadata": {
      "tags": []
     },
     "output_type": "execute_result"
    }
   ],
   "source": [
    "classes = dataset.classes\n",
    "classes"
   ]
  },
  {
   "cell_type": "code",
   "execution_count": 10,
   "metadata": {
    "colab": {
     "base_uri": "https://localhost:8080/",
     "height": 34
    },
    "colab_type": "code",
    "executionInfo": {
     "elapsed": 689,
     "status": "ok",
     "timestamp": 1591963311095,
     "user": {
      "displayName": "Dexter D'Silva",
      "photoUrl": "",
      "userId": "09309547355199345888"
     },
     "user_tz": -60
    },
    "id": "HBPAZzV60NnJ",
    "outputId": "73117102-e4d1-4824-d01a-4d236d5a10fe"
   },
   "outputs": [
    {
     "data": {
      "text/plain": [
       "10"
      ]
     },
     "execution_count": 10,
     "metadata": {
      "tags": []
     },
     "output_type": "execute_result"
    }
   ],
   "source": [
    "num_classes = len(dataset.classes)\n",
    "num_classes"
   ]
  },
  {
   "cell_type": "markdown",
   "metadata": {
    "colab_type": "text",
    "id": "FgLqsqjE0NnQ"
   },
   "source": [
    "Note that this dataset consists of 3-channel color images (RGB). Let us look at a sample image from the dataset. `matplotlib` expects channels to be the last dimension of the image tensors (whereas in PyTorch they are the first dimension), so we'll the `.permute` tensor method to shift channels to the last dimension. Let's also print the label for the image."
   ]
  },
  {
   "cell_type": "markdown",
   "metadata": {
    "colab_type": "text",
    "id": "3BY0rb6xCrSx"
   },
   "source": [
    "#### The number of images belonging to each class\n",
    "[Credit](https://jovian.ml/shravankumar224/03-cifar10-feedforward)"
   ]
  },
  {
   "cell_type": "code",
   "execution_count": 11,
   "metadata": {
    "colab": {
     "base_uri": "https://localhost:8080/",
     "height": 281
    },
    "colab_type": "code",
    "executionInfo": {
     "elapsed": 599,
     "status": "ok",
     "timestamp": 1591963313582,
     "user": {
      "displayName": "Dexter D'Silva",
      "photoUrl": "",
      "userId": "09309547355199345888"
     },
     "user_tz": -60
    },
    "id": "LUG__UR9C1SH",
    "outputId": "39b00c8f-e9b4-4f15-b853-215f69ed58a7"
   },
   "outputs": [
    {
     "data": {
      "image/png": "[encoded data removed]",
      "text/plain": [
       "<Figure size 432x288 with 1 Axes>"
      ]
     },
     "metadata": {
      "needs_background": "light",
      "tags": []
     },
     "output_type": "display_data"
    }
   ],
   "source": [
    "#get the label of the dataset using the [1] index\n",
    "img, label = dataset[1]\n",
    "label_of_image_1 = dataset[1][1]\n",
    "title= str(label_of_image_1) + ' is a ' + classes[label_of_image_1]\n",
    "plt.imshow(img.permute(1,2,0))\n",
    "plt.title(title)\n",
    "plt.show()"
   ]
  },
  {
   "cell_type": "code",
   "execution_count": 0,
   "metadata": {
    "colab": {},
    "colab_type": "code",
    "id": "ZOI7VIQKC1PG"
   },
   "outputs": [],
   "source": [
    "label_of_train_images=[]\n",
    "for i in range(len(dataset)):\n",
    "  label_of_train_image = dataset[i][1]\n",
    "  label_of_train_images.append(label_of_train_image)"
   ]
  },
  {
   "cell_type": "code",
   "execution_count": 0,
   "metadata": {
    "colab": {},
    "colab_type": "code",
    "id": "GRTUn4hFWl8j"
   },
   "outputs": [],
   "source": [
    "num_unique_train_labels = np.unique(label_of_train_images)"
   ]
  },
  {
   "cell_type": "code",
   "execution_count": 0,
   "metadata": {
    "colab": {},
    "colab_type": "code",
    "id": "7TOuQ9wQC1AB"
   },
   "outputs": [],
   "source": [
    "uniq_image_count = torch.stack([(torch.tensor(label_of_train_images)==i).sum() for i in num_unique_train_labels])"
   ]
  },
  {
   "cell_type": "code",
   "execution_count": 15,
   "metadata": {
    "colab": {
     "base_uri": "https://localhost:8080/",
     "height": 187
    },
    "colab_type": "code",
    "executionInfo": {
     "elapsed": 601,
     "status": "ok",
     "timestamp": 1591963325656,
     "user": {
      "displayName": "Dexter D'Silva",
      "photoUrl": "",
      "userId": "09309547355199345888"
     },
     "user_tz": -60
    },
    "id": "KLaRm2dojS6N",
    "outputId": "e96f63ec-f1da-4d69-d7d8-a0f2286af8f3"
   },
   "outputs": [
    {
     "name": "stdout",
     "output_type": "stream",
     "text": [
      " class airplane has 5000 images\n",
      " class automobile has 5000 images\n",
      " class bird has 5000 images\n",
      " class cat has 5000 images\n",
      " class deer has 5000 images\n",
      " class dog has 5000 images\n",
      " class frog has 5000 images\n",
      " class horse has 5000 images\n",
      " class ship has 5000 images\n",
      " class truck has 5000 images\n"
     ]
    }
   ],
   "source": [
    "for i in range(len(uniq_image_count)):\n",
    "  print(f' class {classes[i] } has {uniq_image_count[i].item()} images')"
   ]
  },
  {
   "cell_type": "markdown",
   "metadata": {
    "colab_type": "text",
    "id": "XdUJkJO_0Nni"
   },
   "source": [
    "## Prepare the data for training"
   ]
  },
  {
   "cell_type": "code",
   "execution_count": 0,
   "metadata": {
    "colab": {},
    "colab_type": "code",
    "id": "ReSHXHt_0Nnj"
   },
   "outputs": [],
   "source": [
    "torch.manual_seed(43)\n",
    "val_size = 5000\n",
    "train_size = len(dataset) - val_size"
   ]
  },
  {
   "cell_type": "markdown",
   "metadata": {
    "colab_type": "text",
    "id": "K1dmQO840Nnm"
   },
   "source": [
    "Let's use the `random_split` method to create the training & validation sets"
   ]
  },
  {
   "cell_type": "code",
   "execution_count": 17,
   "metadata": {
    "colab": {
     "base_uri": "https://localhost:8080/",
     "height": 34
    },
    "colab_type": "code",
    "executionInfo": {
     "elapsed": 455,
     "status": "ok",
     "timestamp": 1591963329514,
     "user": {
      "displayName": "Dexter D'Silva",
      "photoUrl": "",
      "userId": "09309547355199345888"
     },
     "user_tz": -60
    },
    "id": "CiqmoFfy0Nnm",
    "outputId": "4e569c1e-701c-46c9-852c-947385c3959e"
   },
   "outputs": [
    {
     "data": {
      "text/plain": [
       "(45000, 5000)"
      ]
     },
     "execution_count": 17,
     "metadata": {
      "tags": []
     },
     "output_type": "execute_result"
    }
   ],
   "source": [
    "train_ds, val_ds = random_split(dataset, [train_size, val_size])\n",
    "len(train_ds), len(val_ds)"
   ]
  },
  {
   "cell_type": "markdown",
   "metadata": {
    "colab_type": "text",
    "id": "5-aXV6dl0Nnp"
   },
   "source": [
    "We can now create data loaders to load the data in batches."
   ]
  },
  {
   "cell_type": "code",
   "execution_count": 0,
   "metadata": {
    "colab": {},
    "colab_type": "code",
    "id": "3Iof9TIh0Nnq"
   },
   "outputs": [],
   "source": [
    "batch_size=128"
   ]
  },
  {
   "cell_type": "code",
   "execution_count": 0,
   "metadata": {
    "colab": {},
    "colab_type": "code",
    "id": "ogdfhphL0Nnt"
   },
   "outputs": [],
   "source": [
    "train_loader = DataLoader(train_ds, batch_size, shuffle=True, num_workers=4, pin_memory=True)\n",
    "val_loader = DataLoader(val_ds, batch_size*2, num_workers=4, pin_memory=True)\n",
    "test_loader = DataLoader(test_dataset, batch_size*2, num_workers=4, pin_memory=True)"
   ]
  },
  {
   "cell_type": "markdown",
   "metadata": {
    "colab_type": "text",
    "id": "IPF3VmAi0Nnw"
   },
   "source": [
    "Let's visualize a batch of data using the `make_grid` helper function from Torchvision."
   ]
  },
  {
   "cell_type": "code",
   "execution_count": 20,
   "metadata": {
    "colab": {
     "base_uri": "https://localhost:8080/",
     "height": 357
    },
    "colab_type": "code",
    "executionInfo": {
     "elapsed": 2997,
     "status": "ok",
     "timestamp": 1591963338847,
     "user": {
      "displayName": "Dexter D'Silva",
      "photoUrl": "",
      "userId": "09309547355199345888"
     },
     "user_tz": -60
    },
    "id": "mAkvcKXd0Nnw",
    "outputId": "5a9af154-3393-4073-cf89-2e19c5a6c793"
   },
   "outputs": [
    {
     "data": {
      "image/png": "[encoded data removed]",
      "text/plain": [
       "<Figure size 432x432 with 1 Axes>"
      ]
     },
     "metadata": {
      "needs_background": "light",
      "tags": []
     },
     "output_type": "display_data"
    }
   ],
   "source": [
    "#collapse-hide\n",
    "viz_loader = DataLoader(train_ds, 9, shuffle=True, num_workers=4, pin_memory=True)\n",
    "for images, _ in viz_loader:\n",
    "    plt.figure(figsize=(6,6))\n",
    "    plt.axis('off')\n",
    "    plt.imshow(make_grid(images, nrow=3).permute((1, 2, 0)))\n",
    "    break"
   ]
  },
  {
   "cell_type": "markdown",
   "metadata": {
    "colab_type": "text",
    "id": "t0BBlFKN0Nn1"
   },
   "source": [
    "## Base Model class & Training on GPU\n",
    "\n",
    "Let's create a base model class, which contains everything except the model architecture i.e. it wil not contain the `__init__` and `__forward__` methods. We will later extend this class to try out different architectures. In fact, you can extend this model to solve any image classification problem."
   ]
  },
  {
   "cell_type": "code",
   "execution_count": 0,
   "metadata": {
    "colab": {},
    "colab_type": "code",
    "id": "KVCpxcbxIOLP"
   },
   "outputs": [],
   "source": [
    "def accuracy(outputs, labels):\n",
    "  _, preds = torch.max(outputs, dim =1)\n",
    "  return torch.tensor(torch.sum(preds== labels).item()/len(preds))"
   ]
  },
  {
   "cell_type": "code",
   "execution_count": 0,
   "metadata": {
    "colab": {},
    "colab_type": "code",
    "id": "VwKwXl8e0Nn4"
   },
   "outputs": [],
   "source": [
    "class ImageClassificationBase(nn.Module):\n",
    "    def training_step(self, batch):\n",
    "        images, labels = batch \n",
    "        out = self(images)                  # Generate predictions\n",
    "        loss = F.cross_entropy(out, labels) # Calculate loss \n",
    "        return loss\n",
    "    \n",
    "    def validation_step(self, batch):\n",
    "        images, labels = batch \n",
    "        out = self(images)                    # Generate predictions\n",
    "        loss = F.cross_entropy(out, labels)   # Calculate loss #change from cross_entropy\n",
    "        acc = accuracy(out, labels)           # Calculate accuracy\n",
    "        return {'val_loss': loss, 'val_acc': acc}\n",
    "        \n",
    "    def validation_epoch_end(self, outputs):\n",
    "        batch_losses = [x['val_loss'] for x in outputs]\n",
    "        epoch_loss = torch.stack(batch_losses).mean()   # Combine losses\n",
    "        batch_accs = [x['val_acc'] for x in outputs]\n",
    "        epoch_acc = torch.stack(batch_accs).mean()      # Combine accuracies\n",
    "        return {'val_loss': epoch_loss.item(), 'val_acc': epoch_acc.item()}\n",
    "    \n",
    "    def epoch_end(self, epoch, result):\n",
    "        print(\"Epoch [{}], val_loss: {:.4f}, val_acc: {:.4f}\".format(epoch, result['val_loss'], result['val_acc']))"
   ]
  },
  {
   "cell_type": "markdown",
   "metadata": {
    "colab_type": "text",
    "id": "qv4lPQCm0Nn8"
   },
   "source": [
    "We can also use the exact same training loop as before. I hope you're starting to see the benefits of refactoring our code into reusable functions."
   ]
  },
  {
   "cell_type": "code",
   "execution_count": 0,
   "metadata": {
    "colab": {},
    "colab_type": "code",
    "id": "oi5uwzUZ0Nn9"
   },
   "outputs": [],
   "source": [
    "def evaluate(model, val_loader):\n",
    "  outputs = [model.validation_step(batch) for batch in val_loader]\n",
    "  return model.validation_epoch_end(outputs)\n",
    "\n",
    "def fit(epochs, lr, model, train_loader, val_loader, opt_func=torch.optim.SGD):\n",
    "    history = []\n",
    "    optimizer = opt_func(model.parameters(), lr)\n",
    "    for epoch in range(epochs):\n",
    "        # Training Phase \n",
    "        for batch in train_loader:\n",
    "            loss = model.training_step(batch)\n",
    "            loss.backward()\n",
    "            optimizer.step()\n",
    "            optimizer.zero_grad()\n",
    "        # Validation phase\n",
    "        result = evaluate(model, val_loader)\n",
    "        model.epoch_end(epoch, result)\n",
    "        history.append(result)\n",
    "    return history"
   ]
  },
  {
   "cell_type": "markdown",
   "metadata": {
    "colab_type": "text",
    "id": "vYm0z8ig0NoA"
   },
   "source": [
    "Finally, let's also define some utilities for moving out data & labels to the GPU, if one is available."
   ]
  },
  {
   "cell_type": "markdown",
   "metadata": {
    "colab_type": "text",
    "id": "3wIA_kPH0NoN"
   },
   "source": [
    "Let us also define a couple of helper functions for plotting the losses & accuracies."
   ]
  },
  {
   "cell_type": "code",
   "execution_count": 0,
   "metadata": {
    "colab": {},
    "colab_type": "code",
    "id": "lkFub-dt0NoO"
   },
   "outputs": [],
   "source": [
    "def plot_losses(history):\n",
    "    losses = [x['val_loss'] for x in history]\n",
    "    plt.plot(losses, '-x')\n",
    "    plt.xlabel('epoch')\n",
    "    plt.ylabel('loss')\n",
    "    plt.title('Loss vs. No. of epochs');"
   ]
  },
  {
   "cell_type": "code",
   "execution_count": 0,
   "metadata": {
    "colab": {},
    "colab_type": "code",
    "id": "hhat8wFP0NoR"
   },
   "outputs": [],
   "source": [
    "def plot_accuracies(history):\n",
    "    accuracies = [x['val_acc'] for x in history]\n",
    "    plt.plot(accuracies, '-o')\n",
    "    plt.xlabel('epoch')\n",
    "    plt.ylabel('accuracy')\n",
    "    plt.title('Pytorch Accuracy vs. No. of epochs');"
   ]
  },
  {
   "cell_type": "markdown",
   "metadata": {
    "colab_type": "text",
    "id": "VKfJ8M1l0NoU"
   },
   "source": [
    "Let's move our data loaders to the appropriate device."
   ]
  },
  {
   "cell_type": "code",
   "execution_count": 0,
   "metadata": {
    "colab": {},
    "colab_type": "code",
    "id": "K04lJ-1nMQk4"
   },
   "outputs": [],
   "source": [
    "input_size = 3*32*32\n",
    "hidden_size = 32\n",
    "output_size = 10"
   ]
  },
  {
   "cell_type": "code",
   "execution_count": 0,
   "metadata": {
    "colab": {},
    "colab_type": "code",
    "id": "TqejXP-N0Nob"
   },
   "outputs": [],
   "source": [
    "class CIFAR10Model(ImageClassificationBase):\n",
    "    def __init__(self):\n",
    "        super().__init__()\n",
    "        #dd hidden layer\n",
    "        self.linear1 = nn.Linear(input_size, hidden_size)\n",
    "        #output layer\n",
    "        self.linear2 = nn.Linear(hidden_size, output_size)\n",
    "        \n",
    "    def forward(self, xb):\n",
    "        # Flatten images into vectors\n",
    "        out = xb.view(xb.size(0), -1)\n",
    "        # Apply layers & activation functions\n",
    "        out = self.linear1(out)\n",
    "        out = F.relu(out)\n",
    "        out = self.linear2(out)   \n",
    "        return out"
   ]
  },
  {
   "cell_type": "markdown",
   "metadata": {
    "colab_type": "text",
    "id": "MHD3aVWC0Noe"
   },
   "source": [
    "You can now instantiate the model, and move it the appropriate device."
   ]
  },
  {
   "cell_type": "code",
   "execution_count": 28,
   "metadata": {
    "colab": {
     "base_uri": "https://localhost:8080/",
     "height": 68
    },
    "colab_type": "code",
    "executionInfo": {
     "elapsed": 897,
     "status": "ok",
     "timestamp": 1591963387352,
     "user": {
      "displayName": "Dexter D'Silva",
      "photoUrl": "",
      "userId": "09309547355199345888"
     },
     "user_tz": -60
    },
    "id": "ezQXHI8ZfDZN",
    "outputId": "c92428be-50d8-4364-e5f7-38d2df6efadc"
   },
   "outputs": [
    {
     "name": "stdout",
     "output_type": "stream",
     "text": [
      "cuda\n",
      "torch.Size([128, 3, 32, 32])\n",
      "cuda:0\n"
     ]
    }
   ],
   "source": [
    "#USING A GPU\n",
    "torch.cuda.is_available()\n",
    "def get_default_device():\n",
    "    \"\"\"Pick GPU if available, else CPU\"\"\"\n",
    "    if torch.cuda.is_available():\n",
    "        return torch.device('cuda')\n",
    "    else:\n",
    "        return torch.device('cpu')\n",
    "\n",
    "device = get_default_device()\n",
    "print(device)\n",
    "\n",
    "def to_device(data, device):\n",
    "    \"\"\"Move tensor(s) to chosen device\"\"\"\n",
    "    if isinstance(data, (list,tuple)):\n",
    "        return [to_device(x, device) for x in data]\n",
    "    return data.to(device, non_blocking=True)\n",
    "\n",
    "for images, labels in train_loader:\n",
    "    print(images.shape)\n",
    "    images = to_device(images, device)\n",
    "    print(images.device)\n",
    "    break\n"
   ]
  },
  {
   "cell_type": "code",
   "execution_count": 0,
   "metadata": {
    "colab": {},
    "colab_type": "code",
    "id": "T34USxZp0Nof"
   },
   "outputs": [],
   "source": [
    "model = to_device(CIFAR10Model(), device)"
   ]
  },
  {
   "cell_type": "code",
   "execution_count": 30,
   "metadata": {
    "colab": {
     "base_uri": "https://localhost:8080/",
     "height": 153
    },
    "colab_type": "code",
    "executionInfo": {
     "elapsed": 493,
     "status": "ok",
     "timestamp": 1591963389772,
     "user": {
      "displayName": "Dexter D'Silva",
      "photoUrl": "",
      "userId": "09309547355199345888"
     },
     "user_tz": -60
    },
    "id": "kt-W7IOhMh5Q",
    "outputId": "cf504ac4-eabe-4507-e529-e2e1806b450c"
   },
   "outputs": [
    {
     "name": "stdout",
     "output_type": "stream",
     "text": [
      "<bound method Module.parameters of CIFAR10Model(\n",
      "  (linear1): Linear(in_features=3072, out_features=32, bias=True)\n",
      "  (linear2): Linear(in_features=32, out_features=10, bias=True)\n",
      ")>\n",
      "torch.Size([32, 3072])\n",
      "torch.Size([32])\n",
      "torch.Size([10, 32])\n",
      "torch.Size([10])\n"
     ]
    }
   ],
   "source": [
    "print(model.parameters)\n",
    "for t in model.parameters():\n",
    "    print(t.shape)"
   ]
  },
  {
   "cell_type": "markdown",
   "metadata": {
    "colab_type": "text",
    "id": "BOEewwMm0Noi"
   },
   "source": [
    "Before you train the model, it's a good idea to check the validation loss & accuracy with the initial set of weights."
   ]
  },
  {
   "cell_type": "code",
   "execution_count": 31,
   "metadata": {
    "colab": {
     "base_uri": "https://localhost:8080/",
     "height": 68
    },
    "colab_type": "code",
    "executionInfo": {
     "elapsed": 399,
     "status": "ok",
     "timestamp": 1591963391646,
     "user": {
      "displayName": "Dexter D'Silva",
      "photoUrl": "",
      "userId": "09309547355199345888"
     },
     "user_tz": -60
    },
    "id": "WcCpjNPaLrgS",
    "outputId": "1e1b8a07-6106-42f2-f8f7-439f4d67831c"
   },
   "outputs": [
    {
     "name": "stdout",
     "output_type": "stream",
     "text": [
      "Total number of parameters:  98666\n",
      "Trainable parameters:  98666\n",
      "layers + activations 4\n"
     ]
    }
   ],
   "source": [
    "#collapse-hide\n",
    "pytorch_total_params = sum(p.numel() for p in model.parameters())\n",
    "print('Total number of parameters: ',pytorch_total_params)\n",
    "pytorch_trainable_params = sum(p.numel() for p in model.parameters() if p.requires_grad)\n",
    "print('Trainable parameters: ', pytorch_trainable_params)\n",
    "print('layers + activations',len(list(model.parameters())))"
   ]
  },
  {
   "cell_type": "markdown",
   "metadata": {
    "colab_type": "text",
    "id": "7z2SKX6pLVkP"
   },
   "source": [
    "> ** The number of model parameters matches that of TF/Keras **"
   ]
  },
  {
   "cell_type": "code",
   "execution_count": 0,
   "metadata": {
    "colab": {},
    "colab_type": "code",
    "id": "h5fGiMF1ffQV"
   },
   "outputs": [],
   "source": [
    "class DeviceDataLoader():\n",
    "    \"\"\"Wrap a dataloader to move data to a device\"\"\"\n",
    "    def __init__(self, dl, device):\n",
    "        self.dl = dl\n",
    "        self.device = device\n",
    "        \n",
    "    def __iter__(self):\n",
    "        \"\"\"Yield a batch of data after moving it to device\"\"\"\n",
    "        for b in self.dl: \n",
    "            yield to_device(b, self.device)\n",
    "\n",
    "    def __len__(self):\n",
    "        \"\"\"Number of batches\"\"\"\n",
    "        return len(self.dl)"
   ]
  },
  {
   "cell_type": "code",
   "execution_count": 0,
   "metadata": {
    "colab": {},
    "colab_type": "code",
    "id": "70hx2EcFfjtg"
   },
   "outputs": [],
   "source": [
    "train_loader = DeviceDataLoader(train_loader, device)\n",
    "val_loader = DeviceDataLoader(val_loader, device)\n",
    "test_loader= DeviceDataLoader(test_loader, device)"
   ]
  },
  {
   "cell_type": "code",
   "execution_count": 41,
   "metadata": {
    "colab": {
     "base_uri": "https://localhost:8080/",
     "height": 34
    },
    "colab_type": "code",
    "executionInfo": {
     "elapsed": 815,
     "status": "ok",
     "timestamp": 1591963462521,
     "user": {
      "displayName": "Dexter D'Silva",
      "photoUrl": "",
      "userId": "09309547355199345888"
     },
     "user_tz": -60
    },
    "id": "dS7BtXmJU-92",
    "outputId": "c8ea90b9-7a3f-4403-c8bd-4ad7af5d57c8"
   },
   "outputs": [
    {
     "name": "stdout",
     "output_type": "stream",
     "text": [
      "xb.device: cuda:0\n"
     ]
    }
   ],
   "source": [
    "for xb, yb in val_loader:  \n",
    "    print('xb.device:', xb.device)\n",
    "    xb = xb.view(xb.size(0), -1)\n",
    "    break"
   ]
  },
  {
   "cell_type": "markdown",
   "metadata": {
    "colab_type": "text",
    "id": "_zGnJzCdXi05"
   },
   "source": []
  },
  {
   "cell_type": "code",
   "execution_count": 42,
   "metadata": {
    "colab": {
     "base_uri": "https://localhost:8080/",
     "height": 34
    },
    "colab_type": "code",
    "executionInfo": {
     "elapsed": 1555,
     "status": "ok",
     "timestamp": 1591963470724,
     "user": {
      "displayName": "Dexter D'Silva",
      "photoUrl": "",
      "userId": "09309547355199345888"
     },
     "user_tz": -60
    },
    "id": "kT265vU10Noi",
    "outputId": "437397e8-1e3d-431d-a235-672324acdcdb"
   },
   "outputs": [
    {
     "data": {
      "text/plain": [
       "[{'val_acc': 0.09672564268112183, 'val_loss': 2.308856248855591}]"
      ]
     },
     "execution_count": 42,
     "metadata": {
      "tags": []
     },
     "output_type": "execute_result"
    }
   ],
   "source": [
    "history = [evaluate(model, val_loader)]\n",
    "history"
   ]
  },
  {
   "cell_type": "code",
   "execution_count": null,
   "metadata": {
    "colab": {
     "base_uri": "https://localhost:8080/",
     "height": 697
    },
    "colab_type": "code",
    "executionInfo": {
     "elapsed": 175369,
     "status": "ok",
     "timestamp": 1591963682831,
     "user": {
      "displayName": "Dexter D'Silva",
      "photoUrl": "",
      "userId": "09309547355199345888"
     },
     "user_tz": -60
    },
    "id": "5GkUyJpY0Nou",
    "outputId": "7932087f-7a09-4705-f692-973b12de7878"
   },
   "outputs": [],
   "source": [
    "history = fit(20, 1e-3, model, train_loader, val_loader)\n",
    "history"
   ]
  },
  {
   "cell_type": "markdown",
   "metadata": {
    "colab_type": "text",
    "id": "YNvy2L4t0No1"
   },
   "source": [
    "Plot the losses and the accuracies to check if you're starting to hit the limits of how well your model can perform on this dataset. You can train some more if you can see the scope for further improvement."
   ]
  },
  {
   "cell_type": "markdown",
   "metadata": {
    "colab_type": "text",
    "id": "pHH9rmMQME3G"
   },
   "source": []
  },
  {
   "cell_type": "code",
   "execution_count": 47,
   "metadata": {
    "colab": {
     "base_uri": "https://localhost:8080/",
     "height": 295
    },
    "colab_type": "code",
    "executionInfo": {
     "elapsed": 864,
     "status": "ok",
     "timestamp": 1591964135308,
     "user": {
      "displayName": "Dexter D'Silva",
      "photoUrl": "",
      "userId": "09309547355199345888"
     },
     "user_tz": -60
    },
    "id": "G4ixjBMj0No4",
    "outputId": "d5d00b55-2c49-4564-adce-78a635d6177d"
   },
   "outputs": [
    {
     "data": {
      "image/png": "[encoded data removed]",
      "text/plain": [
       "<Figure size 432x288 with 1 Axes>"
      ]
     },
     "metadata": {
      "needs_background": "light",
      "tags": []
     },
     "output_type": "display_data"
    }
   ],
   "source": [
    "plot_accuracies(history)"
   ]
  },
  {
   "cell_type": "markdown",
   "metadata": {
    "colab_type": "text",
    "id": "ryCq150C0No7"
   },
   "source": [
    "## Finally, evaluate the model on the test dataset report its final performance."
   ]
  },
  {
   "cell_type": "code",
   "execution_count": 45,
   "metadata": {
    "colab": {
     "base_uri": "https://localhost:8080/",
     "height": 34
    },
    "colab_type": "code",
    "executionInfo": {
     "elapsed": 2251,
     "status": "ok",
     "timestamp": 1591963749259,
     "user": {
      "displayName": "Dexter D'Silva",
      "photoUrl": "",
      "userId": "09309547355199345888"
     },
     "user_tz": -60
    },
    "id": "mZ7rSZhG0No7",
    "outputId": "4fbe46d6-4f9f-40af-80b6-fa00e694c584"
   },
   "outputs": [
    {
     "data": {
      "text/plain": [
       "{'val_acc': 0.33740234375, 'val_loss': 1.88686203956604}"
      ]
     },
     "execution_count": 45,
     "metadata": {
      "tags": []
     },
     "output_type": "execute_result"
    }
   ],
   "source": [
    "evaluate(model, test_loader)"
   ]
  },
  {
   "cell_type": "markdown",
   "metadata": {
    "colab_type": "text",
    "id": "hfBqMHbOQ0r2"
   },
   "source": [
    "# Results\n",
    "\n",
    " Accuracy \n",
    "     Tensorflow/Keras : 0.3619999885559082\n",
    "     Pytorch:  0.33740234375\n",
    "\n",
    "The differences could be due to very little training and hence lack of convergence of the solution, the randomness of the weights intialisation and differences in the library implementations in TF and Pytorch and other stuff I am not aware of ;)"
   ]
  },
  {
   "cell_type": "markdown",
   "metadata": {
    "colab_type": "text",
    "id": "yYAWKTF3MGLf"
   },
   "source": [
    "# Concluding comments\n",
    "This exercise was not to get an exact match of accuracy but to demonstrate the constructs between TF and Pytorch.\n",
    "\n",
    "The Jovian course [Pytorch Zero to GANS](https://jovian.ml/forum/c/pytorch-zero-to-gans/18) is a great introduction to Machine Learning. I am enjoying\n",
    " - Collaborating with others\n",
    " - Working through examples\n",
    " - Finishing assignments and submitting for approval\n",
    " - Blogging about my experiences\n",
    " - Staying enthusiastic about ML!\n",
    "\n",
    "Thanks and appreciation to:\n",
    "- [Jeremy Howard](https://www.fast.ai/) and Hamel Hussain for the [Fastpages](https://github.com/fastai/fastpages) framework in which this blog is written as a Jupyter notebook."
   ]
  },
  {
   "cell_type": "code",
   "execution_count": 0,
   "metadata": {
    "colab": {},
    "colab_type": "code",
    "id": "sD_WytFZMK45"
   },
   "outputs": [],
   "source": []
  }
 ],
 "metadata": {
  "accelerator": "GPU",
  "colab": {
   "collapsed_sections": [],
   "name": "2020-06-12-tfkeras-pytorch-cifar10.ipynb",
   "provenance": []
  },
  "kernelspec": {
   "display_name": "Python 3",
   "language": "python",
   "name": "python3"
  },
  "language_info": {
   "codemirror_mode": {
    "name": "ipython",
    "version": 3
   },
   "file_extension": ".py",
   "mimetype": "text/x-python",
   "name": "python",
   "nbconvert_exporter": "python",
   "pygments_lexer": "ipython3",
   "version": "3.7.6"
  }
 },
 "nbformat": 4,
 "nbformat_minor": 1
}
