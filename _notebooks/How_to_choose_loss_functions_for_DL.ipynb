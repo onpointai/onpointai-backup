{
 "cells": [
  {
   "cell_type": "markdown",
   "metadata": {},
   "source": [
    "# How to Choose Loss Functions When Training Deep Learning Neural Networks\n",
    "\n",
    "[JASON BROWNLEE MACHINE LEARNING MASTERY](https://machinelearningmastery.com/how-to-choose-loss-functions-when-training-deep-learning-neural-networks/)"
   ]
  },
  {
   "cell_type": "markdown",
   "metadata": {},
   "source": [
    "Tutorial Overview\n",
    "\n",
    "This tutorial is divided into three parts; they are:\n",
    "\n",
    "Regression Loss Functions\n",
    "\n",
    "\n",
    "Mean Squared Error Loss - default - distribution of target is gaussian - square of error means larger errors penalised more than smaller ones (Keras mse or mean_squared_error)\n",
    "\n",
    "Mean Squared Logarithmic Error Loss\n",
    "\n",
    "Mean Absolute Error Loss - distribution of target variable is mainly gaussian but may heave outliers (keras - mean_absolute_error)\n",
    "\n",
    "Binary Classification Loss Functions - targets are either of two labels\n",
    "\n",
    "Binary Cross-Entropy (keras - binary_cross_entropy)\n",
    "\n",
    "Hinge Loss - for use with SVM - binay classification where target values are in the set {-1,1}\n",
    "encourages examples to have the correct sign - assigning more errorwhen thee is a differene in sign between actual/predicted class values\n",
    "\n",
    "Squared Hinge Loss - square of hinge loss - hass effect of smoothing the surfaceof the error function and making it easier to work with numerically\n",
    "\n",
    "\n",
    "Multi-Class Classification Loss Functions - targets can belong to one of many labels or classes - predict probability of example beloging to each known class\n",
    "\n",
    "Multi-Class Cross-Entropy Loss - use this first - calculate a score that summarizes the ave diff between actual and predicted probability distributions  for all classes - keras -categorical_cross_entropy\n",
    "\n",
    "Sparse Multiclass Cross-Entropy Loss - large nb of labels- eg words in a vocabulary may have tens or hundreds of thousands of categories, one for each label. No one-hot encoding \n",
    "keras - sparse_categorical_crossentropy\n",
    "\n",
    "Kullback Leibler Divergence Loss KL divergence - measure of how one probability distribution differs from a baseline distribution KLdiv of 0 suggest distributions are identical\n",
    "calculates how much information is lost if the predicted target distributon is use to approximate the desired target probablity distribuion\n",
    "KLd more commonly used when using models that learn to approximate a more complex fn than simply multi-class ie autoencoding used for learning a dense feature representation under a model that must construct the original input\n",
    "\n",
    "keras - kullback_liebler_divergence "
   ]
  },
  {
   "cell_type": "code",
   "execution_count": null,
   "metadata": {},
   "outputs": [],
   "source": [
    "#Regression loss function"
   ]
  },
  {
   "cell_type": "code",
   "execution_count": 7,
   "metadata": {},
   "outputs": [
    {
     "data": {
      "text/plain": [
       "'/Users/dexterdsilva/Documents/Developer/MachineLearning/brownlee_mlm'"
      ]
     },
     "execution_count": 7,
     "metadata": {},
     "output_type": "execute_result"
    }
   ],
   "source": [
    "#'/Users/dexterdsilva/Documents/Developer/MachineLearning/brownlee_mlm'\n",
    "\n",
    "import os\n",
    "os.path.abspath('')"
   ]
  },
  {
   "cell_type": "code",
   "execution_count": 79,
   "metadata": {},
   "outputs": [],
   "source": [
    "from sklearn.datasets import make_regression\n",
    "from sklearn.preprocessing import StandardScaler\n",
    "from keras.models import Sequential\n",
    "from keras.layers import Dense\n",
    "from keras.optimizers import SGD\n",
    "import matplotlib.pyplot as plt"
   ]
  },
  {
   "cell_type": "code",
   "execution_count": 6,
   "metadata": {},
   "outputs": [
    {
     "name": "stdout",
     "output_type": "stream",
     "text": [
      "2.3.1\n",
      "1.15.0\n"
     ]
    }
   ],
   "source": [
    "import keras\n",
    "print(keras.__version__)\n",
    "import tensorflow as tf\n",
    "print(tf.__version__)"
   ]
  },
  {
   "cell_type": "code",
   "execution_count": 80,
   "metadata": {},
   "outputs": [],
   "source": [
    "#generate regression dataset\n",
    "#20 \n",
    "X,y=make_regression(n_samples=1000, n_features=20,noise=0.1,\n",
    "                   random_state=1)"
   ]
  },
  {
   "cell_type": "code",
   "execution_count": 81,
   "metadata": {},
   "outputs": [
    {
     "data": {
      "text/plain": [
       "array([ 0.58372668,  0.78593639, -0.17187155,  0.66928708,  1.67181016,\n",
       "        0.59831823,  1.49807611,  0.27925069, -0.31705821, -0.41961259,\n",
       "       -0.21796143,  0.81186707, -0.79215259,  0.56621046,  0.97473625,\n",
       "       -0.8223744 ,  1.03007179, -0.67945508, -0.21540618,  1.03118947])"
      ]
     },
     "execution_count": 81,
     "metadata": {},
     "output_type": "execute_result"
    }
   ],
   "source": [
    "X[0]"
   ]
  },
  {
   "cell_type": "code",
   "execution_count": 82,
   "metadata": {},
   "outputs": [
    {
     "name": "stdout",
     "output_type": "stream",
     "text": [
      "(1000,)\n",
      "<class 'numpy.ndarray'>\n"
     ]
    }
   ],
   "source": [
    "print(y.shape)\n",
    "f'{y[0]}'\n",
    "print(type(y))"
   ]
  },
  {
   "cell_type": "code",
   "execution_count": 83,
   "metadata": {},
   "outputs": [],
   "source": [
    "X=StandardScaler().fit_transform(X)"
   ]
  },
  {
   "cell_type": "code",
   "execution_count": 84,
   "metadata": {},
   "outputs": [
    {
     "data": {
      "text/plain": [
       "array([ 0.64516745,  0.76000873, -0.18010938,  0.65740427,  1.65197553,\n",
       "        0.56574009,  1.50368462,  0.30416606, -0.29634854, -0.37041198,\n",
       "       -0.22745535,  0.72392625, -0.76421488,  0.55675061,  0.96630152,\n",
       "       -0.82406123,  0.95038766, -0.76479647, -0.2088517 ,  1.04702956])"
      ]
     },
     "execution_count": 84,
     "metadata": {},
     "output_type": "execute_result"
    }
   ],
   "source": [
    "X[0]"
   ]
  },
  {
   "cell_type": "code",
   "execution_count": 85,
   "metadata": {},
   "outputs": [],
   "source": [
    "y=StandardScaler().fit_transform(y.reshape(len(y),1))[:,0]"
   ]
  },
  {
   "cell_type": "code",
   "execution_count": 86,
   "metadata": {},
   "outputs": [],
   "source": [
    "n_train=500\n",
    "trainX, testX = X[:n_train,:], X[n_train:,:]\n",
    "trainy, testy = y[:n_train], y[n_train:]"
   ]
  },
  {
   "cell_type": "code",
   "execution_count": 87,
   "metadata": {},
   "outputs": [],
   "source": [
    "model= Sequential()\n",
    "model.add(Dense(25, input_dim=20,activation='relu',\n",
    "               kernel_initializer='he_uniform'))\n",
    "model.add(Dense(1, activation='linear'))"
   ]
  },
  {
   "cell_type": "code",
   "execution_count": 88,
   "metadata": {},
   "outputs": [],
   "source": [
    "opt=SGD(lr=0.01, momentum=0.9)"
   ]
  },
  {
   "cell_type": "markdown",
   "metadata": {},
   "source": [
    "## Mean Squared Error Loss"
   ]
  },
  {
   "cell_type": "code",
   "execution_count": 89,
   "metadata": {},
   "outputs": [],
   "source": [
    "model.compile(loss='mse', optimizer = opt)"
   ]
  },
  {
   "cell_type": "code",
   "execution_count": 90,
   "metadata": {},
   "outputs": [],
   "source": [
    "h=model.fit(trainX, trainy, validation_data=(testX,testy),\n",
    "           epochs=100,\n",
    "           verbose=0)"
   ]
  },
  {
   "cell_type": "code",
   "execution_count": 93,
   "metadata": {},
   "outputs": [
    {
     "data": {
      "text/plain": [
       "dict_keys(['val_loss', 'loss'])"
      ]
     },
     "execution_count": 93,
     "metadata": {},
     "output_type": "execute_result"
    }
   ],
   "source": [
    "h.history.keys()"
   ]
  },
  {
   "cell_type": "code",
   "execution_count": 45,
   "metadata": {},
   "outputs": [
    {
     "data": {
      "image/png": "[encoded data removed]",
      "text/plain": [
       "<Figure size 360x360 with 1 Axes>"
      ]
     },
     "metadata": {
      "needs_background": "light"
     },
     "output_type": "display_data"
    }
   ],
   "source": [
    "fig= plt.figure(figsize=(5,5))\n",
    "plt.plot(h.history['loss'],label='train_loss')\n",
    "plt.plot(h.history['val_loss'], label='test_loss')\n",
    "plt.legend()\n",
    "plt.show()"
   ]
  },
  {
   "cell_type": "markdown",
   "metadata": {},
   "source": [
    "## Mean Squared Logarithmic Error Loss"
   ]
  },
  {
   "cell_type": "code",
   "execution_count": 67,
   "metadata": {},
   "outputs": [],
   "source": [
    "model=Sequential()\n",
    "model.add(Dense(25, input_dim=20, activation ='relu',\n",
    "               kernel_initializer = 'he_uniform'))\n",
    "model.add(Dense(1, activation = 'linear'))\n",
    "opt=SGD(lr=0.1, momentum=0.9)\n",
    "model.compile(loss='mean_squared_logarithmic_error',\n",
    "             optimizer=opt,\n",
    "             metrics=['mse'])\n"
   ]
  },
  {
   "cell_type": "code",
   "execution_count": 68,
   "metadata": {},
   "outputs": [
    {
     "name": "stdout",
     "output_type": "stream",
     "text": [
      "(500, 20)     (500,)    (500, 20)   (500,)\n"
     ]
    }
   ],
   "source": [
    "print(trainX.shape,'   ',trainy.shape,'  ', testX.shape,' ', testy.shape)"
   ]
  },
  {
   "cell_type": "code",
   "execution_count": 69,
   "metadata": {},
   "outputs": [],
   "source": [
    "h = model.fit(trainX, trainy,\n",
    "              validation_data=(testX, testy),\n",
    "             epochs=200,\n",
    "              verbose=0)"
   ]
  },
  {
   "cell_type": "code",
   "execution_count": 70,
   "metadata": {},
   "outputs": [],
   "source": [
    "#evaluate the model\n",
    "#_,train_mse=model.evaluate(trainX, trainy, verbose=0)\n",
    "#_,test_mse=model.evaluate(testX, testy, verbose=0)"
   ]
  },
  {
   "cell_type": "code",
   "execution_count": 71,
   "metadata": {},
   "outputs": [
    {
     "name": "stdout",
     "output_type": "stream",
     "text": [
      "Train: 0.32 Test 0.38\n"
     ]
    }
   ],
   "source": [
    "#print('Train: {:.2f} Test {:.2f}'.format(train_mse, test_mse))"
   ]
  },
  {
   "cell_type": "code",
   "execution_count": 75,
   "metadata": {},
   "outputs": [
    {
     "data": {
      "text/plain": [
       "dict_keys(['val_loss', 'val_mse', 'loss', 'mse'])"
      ]
     },
     "execution_count": 75,
     "metadata": {},
     "output_type": "execute_result"
    }
   ],
   "source": [
    "h.history.keys()"
   ]
  },
  {
   "cell_type": "code",
   "execution_count": 78,
   "metadata": {},
   "outputs": [
    {
     "data": {
      "image/png": "[encoded data removed]",
      "text/plain": [
       "<Figure size 720x720 with 2 Axes>"
      ]
     },
     "metadata": {
      "needs_background": "light"
     },
     "output_type": "display_data"
    }
   ],
   "source": [
    "fig=plt.figure(figsize=(10,10))\n",
    "plt.subplot(211)\n",
    "plt.title('Loss')\n",
    "plt.plot(h.history['loss'],label='Training Loss')\n",
    "plt.plot(h.history['val_loss'],label = 'Test Loss')\n",
    "plt.legend()\n",
    "plt.subplot(212)\n",
    "plt.title('Mean Squared Error')\n",
    "plt.plot(h.history['mse'], label='train')\n",
    "plt.plot(h.history['val_mse'], label='test')\n",
    "plt.legend()\n",
    "plt.show()\n"
   ]
  },
  {
   "cell_type": "markdown",
   "metadata": {},
   "source": [
    "# Mean Absolute Error Loss"
   ]
  },
  {
   "cell_type": "code",
   "execution_count": 130,
   "metadata": {},
   "outputs": [],
   "source": [
    "X,y=make_regression(n_samples=1000, n_features=20,\n",
    "                   noise=0.1, random_state=1)"
   ]
  },
  {
   "cell_type": "code",
   "execution_count": 131,
   "metadata": {},
   "outputs": [
    {
     "name": "stdout",
     "output_type": "stream",
     "text": [
      "(1000, 20) (1000,)    <class 'numpy.ndarray'>\n"
     ]
    },
    {
     "data": {
      "text/plain": [
       "<matplotlib.collections.PathCollection at 0x141a6e650>"
      ]
     },
     "execution_count": 131,
     "metadata": {},
     "output_type": "execute_result"
    },
    {
     "data": {
      "image/png": "[encoded data removed]",
      "text/plain": [
       "<Figure size 432x288 with 1 Axes>"
      ]
     },
     "metadata": {
      "needs_background": "light"
     },
     "output_type": "display_data"
    }
   ],
   "source": [
    "print(X.shape, y.shape,'  ', type(y))\n",
    "plt.scatter(X[:,1],y)"
   ]
  },
  {
   "cell_type": "code",
   "execution_count": 132,
   "metadata": {},
   "outputs": [
    {
     "data": {
      "text/plain": [
       "1000"
      ]
     },
     "execution_count": 132,
     "metadata": {},
     "output_type": "execute_result"
    }
   ],
   "source": [
    "len(y)"
   ]
  },
  {
   "cell_type": "code",
   "execution_count": 135,
   "metadata": {},
   "outputs": [],
   "source": [
    "X=StandardScaler().fit_transform(X)\n",
    "y=StandardScaler().fit_transform(y.reshape(len(y),1))"
   ]
  },
  {
   "cell_type": "code",
   "execution_count": 139,
   "metadata": {},
   "outputs": [],
   "source": [
    "n_train=500\n",
    "trainX, testX = X[:n_train,:],X[n_train:,:]\n",
    "trainy, testy = y[:n_train], y[n_train:]"
   ]
  },
  {
   "cell_type": "code",
   "execution_count": 142,
   "metadata": {},
   "outputs": [],
   "source": [
    "model= Sequential()\n",
    "model.add(Dense(25,input_dim=20, \n",
    "                activation='relu',\n",
    "               kernel_initializer='he_uniform'))\n",
    "model.add(Dense(1, activation='linear'))\n",
    "opt=SGD(lr=0.01, momentum=0.9)\n",
    "model.compile(loss='mean_absolute_error', optimizer=opt,metrics=['mse'])"
   ]
  },
  {
   "cell_type": "code",
   "execution_count": 143,
   "metadata": {},
   "outputs": [
    {
     "name": "stdout",
     "output_type": "stream",
     "text": [
      "Train on 500 samples, validate on 500 samples\n",
      "Epoch 1/100\n",
      "500/500 [==============================] - 0s 343us/step - loss: 1.1116 - mse: 2.0405 - val_loss: 0.9010 - val_mse: 1.3062\n",
      "Epoch 2/100\n",
      "500/500 [==============================] - 0s 72us/step - loss: 0.6478 - mse: 0.6574 - val_loss: 0.5350 - val_mse: 0.4615\n",
      "Epoch 3/100\n",
      "500/500 [==============================] - 0s 85us/step - loss: 0.4219 - mse: 0.2879 - val_loss: 0.3912 - val_mse: 0.2461\n",
      "Epoch 4/100\n",
      "500/500 [==============================] - 0s 98us/step - loss: 0.3411 - mse: 0.1913 - val_loss: 0.3773 - val_mse: 0.2153\n",
      "Epoch 5/100\n",
      "500/500 [==============================] - 0s 99us/step - loss: 0.3092 - mse: 0.1570 - val_loss: 0.3186 - val_mse: 0.1552\n",
      "Epoch 6/100\n",
      "500/500 [==============================] - 0s 86us/step - loss: 0.2446 - mse: 0.1054 - val_loss: 0.2663 - val_mse: 0.1167\n",
      "Epoch 7/100\n",
      "500/500 [==============================] - 0s 105us/step - loss: 0.2146 - mse: 0.0802 - val_loss: 0.2536 - val_mse: 0.1060\n",
      "Epoch 8/100\n",
      "500/500 [==============================] - 0s 82us/step - loss: 0.1998 - mse: 0.0685 - val_loss: 0.2242 - val_mse: 0.0808\n",
      "Epoch 9/100\n",
      "500/500 [==============================] - 0s 75us/step - loss: 0.1833 - mse: 0.0569 - val_loss: 0.2358 - val_mse: 0.0864\n",
      "Epoch 10/100\n",
      "500/500 [==============================] - 0s 78us/step - loss: 0.1632 - mse: 0.0433 - val_loss: 0.1874 - val_mse: 0.0554\n",
      "Epoch 11/100\n",
      "500/500 [==============================] - 0s 90us/step - loss: 0.1485 - mse: 0.0384 - val_loss: 0.1852 - val_mse: 0.0540\n",
      "Epoch 12/100\n",
      "500/500 [==============================] - 0s 78us/step - loss: 0.1530 - mse: 0.0388 - val_loss: 0.1800 - val_mse: 0.0515\n",
      "Epoch 13/100\n",
      "500/500 [==============================] - 0s 80us/step - loss: 0.1441 - mse: 0.0341 - val_loss: 0.1718 - val_mse: 0.0472\n",
      "Epoch 14/100\n",
      "500/500 [==============================] - 0s 84us/step - loss: 0.1345 - mse: 0.0284 - val_loss: 0.1529 - val_mse: 0.0367\n",
      "Epoch 15/100\n",
      "500/500 [==============================] - 0s 96us/step - loss: 0.1345 - mse: 0.0300 - val_loss: 0.1489 - val_mse: 0.0341\n",
      "Epoch 16/100\n",
      "500/500 [==============================] - 0s 105us/step - loss: 0.1105 - mse: 0.0200 - val_loss: 0.1291 - val_mse: 0.0257\n",
      "Epoch 17/100\n",
      "500/500 [==============================] - 0s 93us/step - loss: 0.0967 - mse: 0.0154 - val_loss: 0.1186 - val_mse: 0.0221\n",
      "Epoch 18/100\n",
      "500/500 [==============================] - 0s 105us/step - loss: 0.0908 - mse: 0.0141 - val_loss: 0.1119 - val_mse: 0.0190\n",
      "Epoch 19/100\n",
      "500/500 [==============================] - 0s 92us/step - loss: 0.0901 - mse: 0.0131 - val_loss: 0.1233 - val_mse: 0.0241\n",
      "Epoch 20/100\n",
      "500/500 [==============================] - 0s 94us/step - loss: 0.0907 - mse: 0.0128 - val_loss: 0.1146 - val_mse: 0.0204\n",
      "Epoch 21/100\n",
      "500/500 [==============================] - 0s 99us/step - loss: 0.1048 - mse: 0.0177 - val_loss: 0.1196 - val_mse: 0.0227\n",
      "Epoch 22/100\n",
      "500/500 [==============================] - 0s 102us/step - loss: 0.0850 - mse: 0.0118 - val_loss: 0.0918 - val_mse: 0.0131\n",
      "Epoch 23/100\n",
      "500/500 [==============================] - 0s 98us/step - loss: 0.0764 - mse: 0.0097 - val_loss: 0.0923 - val_mse: 0.0127\n",
      "Epoch 24/100\n",
      "500/500 [==============================] - 0s 94us/step - loss: 0.0668 - mse: 0.0073 - val_loss: 0.0787 - val_mse: 0.0100\n",
      "Epoch 25/100\n",
      "500/500 [==============================] - 0s 107us/step - loss: 0.0683 - mse: 0.0079 - val_loss: 0.0989 - val_mse: 0.0154\n",
      "Epoch 26/100\n",
      "500/500 [==============================] - 0s 106us/step - loss: 0.0960 - mse: 0.0148 - val_loss: 0.0988 - val_mse: 0.0148\n",
      "Epoch 27/100\n",
      "500/500 [==============================] - 0s 93us/step - loss: 0.0843 - mse: 0.0114 - val_loss: 0.1062 - val_mse: 0.0177\n",
      "Epoch 28/100\n",
      "500/500 [==============================] - 0s 88us/step - loss: 0.0749 - mse: 0.0089 - val_loss: 0.0945 - val_mse: 0.0143\n",
      "Epoch 29/100\n",
      "500/500 [==============================] - 0s 76us/step - loss: 0.0746 - mse: 0.0086 - val_loss: 0.0853 - val_mse: 0.0113\n",
      "Epoch 30/100\n",
      "500/500 [==============================] - 0s 73us/step - loss: 0.0682 - mse: 0.0072 - val_loss: 0.0716 - val_mse: 0.0079\n",
      "Epoch 31/100\n",
      "500/500 [==============================] - 0s 77us/step - loss: 0.0639 - mse: 0.0069 - val_loss: 0.0698 - val_mse: 0.0075\n",
      "Epoch 32/100\n",
      "500/500 [==============================] - 0s 77us/step - loss: 0.0621 - mse: 0.0062 - val_loss: 0.0597 - val_mse: 0.0057\n",
      "Epoch 33/100\n",
      "500/500 [==============================] - 0s 72us/step - loss: 0.0538 - mse: 0.0045 - val_loss: 0.0552 - val_mse: 0.0051\n",
      "Epoch 34/100\n",
      "500/500 [==============================] - 0s 84us/step - loss: 0.0562 - mse: 0.0048 - val_loss: 0.0649 - val_mse: 0.0063\n",
      "Epoch 35/100\n",
      "500/500 [==============================] - 0s 93us/step - loss: 0.0550 - mse: 0.0047 - val_loss: 0.0573 - val_mse: 0.0053\n",
      "Epoch 36/100\n",
      "500/500 [==============================] - 0s 96us/step - loss: 0.0506 - mse: 0.0039 - val_loss: 0.0587 - val_mse: 0.0056\n",
      "Epoch 37/100\n",
      "500/500 [==============================] - 0s 92us/step - loss: 0.0476 - mse: 0.0038 - val_loss: 0.0496 - val_mse: 0.0037\n",
      "Epoch 38/100\n",
      "500/500 [==============================] - 0s 85us/step - loss: 0.0414 - mse: 0.0028 - val_loss: 0.0459 - val_mse: 0.0035\n",
      "Epoch 39/100\n",
      "500/500 [==============================] - 0s 76us/step - loss: 0.0442 - mse: 0.0031 - val_loss: 0.0438 - val_mse: 0.0030\n",
      "Epoch 40/100\n",
      "500/500 [==============================] - 0s 69us/step - loss: 0.0433 - mse: 0.0030 - val_loss: 0.0586 - val_mse: 0.0054\n",
      "Epoch 41/100\n",
      "500/500 [==============================] - 0s 74us/step - loss: 0.0549 - mse: 0.0049 - val_loss: 0.0575 - val_mse: 0.0055\n",
      "Epoch 42/100\n",
      "500/500 [==============================] - 0s 68us/step - loss: 0.0458 - mse: 0.0033 - val_loss: 0.0543 - val_mse: 0.0048\n",
      "Epoch 43/100\n",
      "500/500 [==============================] - 0s 67us/step - loss: 0.0517 - mse: 0.0040 - val_loss: 0.0501 - val_mse: 0.0039\n",
      "Epoch 44/100\n",
      "500/500 [==============================] - 0s 67us/step - loss: 0.0485 - mse: 0.0040 - val_loss: 0.0634 - val_mse: 0.0065\n",
      "Epoch 45/100\n",
      "500/500 [==============================] - 0s 67us/step - loss: 0.0522 - mse: 0.0043 - val_loss: 0.0726 - val_mse: 0.0081\n",
      "Epoch 46/100\n",
      "500/500 [==============================] - 0s 66us/step - loss: 0.0506 - mse: 0.0041 - val_loss: 0.0421 - val_mse: 0.0028\n",
      "Epoch 47/100\n",
      "500/500 [==============================] - 0s 69us/step - loss: 0.0549 - mse: 0.0054 - val_loss: 0.0487 - val_mse: 0.0039\n",
      "Epoch 48/100\n",
      "500/500 [==============================] - 0s 66us/step - loss: 0.0534 - mse: 0.0047 - val_loss: 0.0543 - val_mse: 0.0047\n",
      "Epoch 49/100\n",
      "500/500 [==============================] - 0s 68us/step - loss: 0.0370 - mse: 0.0022 - val_loss: 0.0390 - val_mse: 0.0024\n",
      "Epoch 50/100\n",
      "500/500 [==============================] - 0s 67us/step - loss: 0.0430 - mse: 0.0031 - val_loss: 0.0698 - val_mse: 0.0077\n",
      "Epoch 51/100\n",
      "500/500 [==============================] - 0s 70us/step - loss: 0.0512 - mse: 0.0043 - val_loss: 0.0501 - val_mse: 0.0039\n",
      "Epoch 52/100\n",
      "500/500 [==============================] - 0s 70us/step - loss: 0.0514 - mse: 0.0043 - val_loss: 0.0532 - val_mse: 0.0046\n",
      "Epoch 53/100\n",
      "500/500 [==============================] - 0s 69us/step - loss: 0.0448 - mse: 0.0032 - val_loss: 0.0470 - val_mse: 0.0034\n",
      "Epoch 54/100\n",
      "500/500 [==============================] - 0s 67us/step - loss: 0.0486 - mse: 0.0039 - val_loss: 0.0570 - val_mse: 0.0051\n",
      "Epoch 55/100\n",
      "500/500 [==============================] - 0s 67us/step - loss: 0.0465 - mse: 0.0038 - val_loss: 0.0512 - val_mse: 0.0045\n",
      "Epoch 56/100\n",
      "500/500 [==============================] - 0s 72us/step - loss: 0.0444 - mse: 0.0031 - val_loss: 0.0553 - val_mse: 0.0048\n",
      "Epoch 57/100\n",
      "500/500 [==============================] - 0s 69us/step - loss: 0.0586 - mse: 0.0059 - val_loss: 0.0601 - val_mse: 0.0055\n",
      "Epoch 58/100\n",
      "500/500 [==============================] - 0s 73us/step - loss: 0.0604 - mse: 0.0059 - val_loss: 0.0617 - val_mse: 0.0063\n",
      "Epoch 59/100\n",
      "500/500 [==============================] - 0s 69us/step - loss: 0.0463 - mse: 0.0035 - val_loss: 0.0490 - val_mse: 0.0041\n",
      "Epoch 60/100\n",
      "500/500 [==============================] - 0s 70us/step - loss: 0.0496 - mse: 0.0039 - val_loss: 0.1131 - val_mse: 0.0201\n",
      "Epoch 61/100\n",
      "500/500 [==============================] - 0s 75us/step - loss: 0.0803 - mse: 0.0101 - val_loss: 0.0696 - val_mse: 0.0074\n",
      "Epoch 62/100\n",
      "500/500 [==============================] - 0s 67us/step - loss: 0.0702 - mse: 0.0078 - val_loss: 0.0436 - val_mse: 0.0030\n",
      "Epoch 63/100\n",
      "500/500 [==============================] - 0s 72us/step - loss: 0.0554 - mse: 0.0052 - val_loss: 0.0460 - val_mse: 0.0035\n",
      "Epoch 64/100\n",
      "500/500 [==============================] - 0s 62us/step - loss: 0.0378 - mse: 0.0024 - val_loss: 0.0380 - val_mse: 0.0024\n",
      "Epoch 65/100\n",
      "500/500 [==============================] - 0s 64us/step - loss: 0.0488 - mse: 0.0040 - val_loss: 0.0571 - val_mse: 0.0051\n",
      "Epoch 66/100\n",
      "500/500 [==============================] - 0s 62us/step - loss: 0.0396 - mse: 0.0026 - val_loss: 0.0320 - val_mse: 0.0016\n",
      "Epoch 67/100\n",
      "500/500 [==============================] - 0s 61us/step - loss: 0.0362 - mse: 0.0022 - val_loss: 0.0469 - val_mse: 0.0035\n",
      "Epoch 68/100\n",
      "500/500 [==============================] - 0s 65us/step - loss: 0.0417 - mse: 0.0027 - val_loss: 0.0316 - val_mse: 0.0017\n",
      "Epoch 69/100\n",
      "500/500 [==============================] - 0s 61us/step - loss: 0.0367 - mse: 0.0021 - val_loss: 0.0383 - val_mse: 0.0022\n",
      "Epoch 70/100\n",
      "500/500 [==============================] - 0s 66us/step - loss: 0.0536 - mse: 0.0046 - val_loss: 0.0803 - val_mse: 0.0103\n",
      "Epoch 71/100\n",
      "500/500 [==============================] - 0s 66us/step - loss: 0.0623 - mse: 0.0064 - val_loss: 0.0501 - val_mse: 0.0039\n",
      "Epoch 72/100\n",
      "500/500 [==============================] - 0s 67us/step - loss: 0.0542 - mse: 0.0047 - val_loss: 0.0590 - val_mse: 0.0052\n",
      "Epoch 73/100\n",
      "500/500 [==============================] - 0s 64us/step - loss: 0.0490 - mse: 0.0039 - val_loss: 0.0602 - val_mse: 0.0057\n",
      "Epoch 74/100\n",
      "500/500 [==============================] - 0s 69us/step - loss: 0.0463 - mse: 0.0034 - val_loss: 0.0607 - val_mse: 0.0051\n",
      "Epoch 75/100\n",
      "500/500 [==============================] - 0s 72us/step - loss: 0.0594 - mse: 0.0056 - val_loss: 0.0448 - val_mse: 0.0032\n",
      "Epoch 76/100\n",
      "500/500 [==============================] - 0s 68us/step - loss: 0.0406 - mse: 0.0027 - val_loss: 0.0483 - val_mse: 0.0038\n",
      "Epoch 77/100\n",
      "500/500 [==============================] - 0s 68us/step - loss: 0.0420 - mse: 0.0029 - val_loss: 0.0502 - val_mse: 0.0040\n",
      "Epoch 78/100\n",
      "500/500 [==============================] - 0s 65us/step - loss: 0.0495 - mse: 0.0041 - val_loss: 0.0417 - val_mse: 0.0028\n",
      "Epoch 79/100\n",
      "500/500 [==============================] - 0s 63us/step - loss: 0.0419 - mse: 0.0029 - val_loss: 0.0413 - val_mse: 0.0028\n",
      "Epoch 80/100\n",
      "500/500 [==============================] - 0s 64us/step - loss: 0.0432 - mse: 0.0030 - val_loss: 0.0505 - val_mse: 0.0046\n",
      "Epoch 81/100\n",
      "500/500 [==============================] - 0s 63us/step - loss: 0.0441 - mse: 0.0032 - val_loss: 0.0373 - val_mse: 0.0022\n",
      "Epoch 82/100\n",
      "500/500 [==============================] - 0s 62us/step - loss: 0.0374 - mse: 0.0023 - val_loss: 0.0381 - val_mse: 0.0023\n",
      "Epoch 83/100\n",
      "500/500 [==============================] - 0s 64us/step - loss: 0.0371 - mse: 0.0022 - val_loss: 0.0404 - val_mse: 0.0025\n",
      "Epoch 84/100\n",
      "500/500 [==============================] - 0s 63us/step - loss: 0.0376 - mse: 0.0022 - val_loss: 0.0598 - val_mse: 0.0056\n",
      "Epoch 85/100\n",
      "500/500 [==============================] - 0s 67us/step - loss: 0.0419 - mse: 0.0031 - val_loss: 0.0317 - val_mse: 0.0016\n",
      "Epoch 86/100\n",
      "500/500 [==============================] - 0s 68us/step - loss: 0.0368 - mse: 0.0022 - val_loss: 0.0920 - val_mse: 0.0110\n",
      "Epoch 87/100\n",
      "500/500 [==============================] - 0s 63us/step - loss: 0.0592 - mse: 0.0056 - val_loss: 0.0694 - val_mse: 0.0086\n",
      "Epoch 88/100\n",
      "500/500 [==============================] - 0s 63us/step - loss: 0.0546 - mse: 0.0053 - val_loss: 0.0600 - val_mse: 0.0063\n",
      "Epoch 89/100\n",
      "500/500 [==============================] - 0s 62us/step - loss: 0.0437 - mse: 0.0031 - val_loss: 0.0322 - val_mse: 0.0016\n",
      "Epoch 90/100\n",
      "500/500 [==============================] - 0s 66us/step - loss: 0.0342 - mse: 0.0021 - val_loss: 0.0342 - val_mse: 0.0018\n",
      "Epoch 91/100\n",
      "500/500 [==============================] - 0s 69us/step - loss: 0.0379 - mse: 0.0024 - val_loss: 0.0618 - val_mse: 0.0061\n",
      "Epoch 92/100\n",
      "500/500 [==============================] - 0s 65us/step - loss: 0.0481 - mse: 0.0038 - val_loss: 0.0505 - val_mse: 0.0039\n",
      "Epoch 93/100\n",
      "500/500 [==============================] - 0s 69us/step - loss: 0.0456 - mse: 0.0035 - val_loss: 0.0358 - val_mse: 0.0022\n",
      "Epoch 94/100\n",
      "500/500 [==============================] - 0s 75us/step - loss: 0.0521 - mse: 0.0045 - val_loss: 0.0598 - val_mse: 0.0057\n",
      "Epoch 95/100\n",
      "500/500 [==============================] - 0s 72us/step - loss: 0.0521 - mse: 0.0043 - val_loss: 0.0467 - val_mse: 0.0036\n",
      "Epoch 96/100\n",
      "500/500 [==============================] - 0s 73us/step - loss: 0.0336 - mse: 0.0019 - val_loss: 0.0500 - val_mse: 0.0040\n",
      "Epoch 97/100\n",
      "500/500 [==============================] - 0s 70us/step - loss: 0.0360 - mse: 0.0021 - val_loss: 0.0415 - val_mse: 0.0027\n",
      "Epoch 98/100\n",
      "500/500 [==============================] - 0s 71us/step - loss: 0.0439 - mse: 0.0031 - val_loss: 0.0502 - val_mse: 0.0041\n",
      "Epoch 99/100\n",
      "500/500 [==============================] - 0s 71us/step - loss: 0.0456 - mse: 0.0034 - val_loss: 0.0406 - val_mse: 0.0028\n",
      "Epoch 100/100\n",
      "500/500 [==============================] - 0s 69us/step - loss: 0.0398 - mse: 0.0027 - val_loss: 0.0353 - val_mse: 0.0020\n"
     ]
    }
   ],
   "source": [
    "h=model.fit(trainX, trainy,validation_data=(testX, testy),\n",
    "            epochs=100, verbose=1)"
   ]
  },
  {
   "cell_type": "code",
   "execution_count": 144,
   "metadata": {},
   "outputs": [
    {
     "name": "stdout",
     "output_type": "stream",
     "text": [
      "500/500 [==============================] - 0s 20us/step\n"
     ]
    }
   ],
   "source": [
    "#_,train_mse=model.evaluate(trainX, trainy, verbose=1)"
   ]
  },
  {
   "cell_type": "code",
   "execution_count": 146,
   "metadata": {},
   "outputs": [
    {
     "name": "stdout",
     "output_type": "stream",
     "text": [
      "500/500 [==============================] - 0s 19us/step\n"
     ]
    }
   ],
   "source": [
    "#_,test_mse=model.evaluate(testX, testy, verbose=1)"
   ]
  },
  {
   "cell_type": "code",
   "execution_count": 148,
   "metadata": {},
   "outputs": [
    {
     "data": {
      "text/plain": [
       "dict_keys(['val_loss', 'val_mse', 'loss', 'mse'])"
      ]
     },
     "execution_count": 148,
     "metadata": {},
     "output_type": "execute_result"
    }
   ],
   "source": [
    "h.history.keys()"
   ]
  },
  {
   "cell_type": "code",
   "execution_count": 151,
   "metadata": {},
   "outputs": [
    {
     "name": "stdout",
     "output_type": "stream",
     "text": [
      "Train: 0.0023  Test:0.0020\n"
     ]
    }
   ],
   "source": [
    "#print('Train: {:.4f}  Test:{:.4f}'.format(train_mse, test_mse))"
   ]
  },
  {
   "cell_type": "code",
   "execution_count": 153,
   "metadata": {},
   "outputs": [
    {
     "data": {
      "image/png": "[encoded data removed]",
      "text/plain": [
       "<Figure size 720x720 with 2 Axes>"
      ]
     },
     "metadata": {
      "needs_background": "light"
     },
     "output_type": "display_data"
    }
   ],
   "source": [
    "fig=plt.figure(figsize=(10,10))\n",
    "plt.subplot(121)\n",
    "plt.title('LOSS')\n",
    "plt.plot(h.history['loss'], label='train')\n",
    "plt.plot(h.history['val_loss'], label='test')\n",
    "plt.legend()\n",
    "plt.subplot(122)\n",
    "plt.title('MSE')\n",
    "plt.plot(h.history['mse'],label='train')\n",
    "plt.plot(h.history['val_mse'], label='test')\n",
    "plt.legend()\n",
    "plt.show()"
   ]
  },
  {
   "cell_type": "markdown",
   "metadata": {},
   "source": [
    "# Binary Classification Loss Functions"
   ]
  },
  {
   "cell_type": "code",
   "execution_count": 159,
   "metadata": {},
   "outputs": [],
   "source": [
    "from sklearn.datasets import make_circles\n",
    "from sklearn.preprocessing import StandardScaler\n",
    "from keras.models import Sequential\n",
    "from keras.layers import Dense\n",
    "from keras.optimizers import SGD\n",
    "from numpy import where\n",
    "import matplotlib.pyplot as plt\n",
    "%matplotlib inline"
   ]
  },
  {
   "cell_type": "code",
   "execution_count": 170,
   "metadata": {},
   "outputs": [
    {
     "data": {
      "image/png": "[encoded data removed]",
      "text/plain": [
       "<Figure size 432x288 with 1 Axes>"
      ]
     },
     "metadata": {
      "needs_background": "light"
     },
     "output_type": "display_data"
    }
   ],
   "source": [
    "X,y = make_circles(n_samples=1000,noise=0.1, random_state=1)\n",
    "for i in range(2):\n",
    "    samples_idx= where(y==i)\n",
    "    plt.scatter(X[samples_idx,0], X[samples_idx,1], label=str(i))\n",
    "\n",
    "plt.legend()\n",
    "plt.show()"
   ]
  },
  {
   "cell_type": "code",
   "execution_count": 167,
   "metadata": {},
   "outputs": [
    {
     "name": "stdout",
     "output_type": "stream",
     "text": [
      "[[ 0.92787748 -0.04521731]\n",
      " [-0.54303182 -0.75444674]\n",
      " [ 0.9246533  -0.71492522]\n",
      " [-0.10217077 -0.89283523]\n",
      " [-1.01719242  0.24737775]]\n",
      "[1 1 0 0 0]\n"
     ]
    }
   ],
   "source": [
    "print(X[:5])\n",
    "print(y[:5])"
   ]
  },
  {
   "cell_type": "code",
   "execution_count": 182,
   "metadata": {},
   "outputs": [],
   "source": [
    "n_train=500\n",
    "trainX,testX=X[:n_train,:],X[:n_train]\n",
    "trainy,testy = y[:n_train], y[:n_train]"
   ]
  },
  {
   "cell_type": "code",
   "execution_count": 183,
   "metadata": {},
   "outputs": [
    {
     "name": "stdout",
     "output_type": "stream",
     "text": [
      "(500, 2)    (500,)\n"
     ]
    }
   ],
   "source": [
    "print(trainX.shape ,'  ', trainy.shape)"
   ]
  },
  {
   "cell_type": "markdown",
   "metadata": {},
   "source": [
    "# Binary Cross Entropy"
   ]
  },
  {
   "cell_type": "code",
   "execution_count": 184,
   "metadata": {},
   "outputs": [],
   "source": [
    "model=Sequential()\n",
    "model.add(Dense(50, input_dim=2, activation='relu',\n",
    "               kernel_initializer='he_uniform'))\n",
    "model.add(Dense(1, activation='sigmoid'))\n",
    "opt=SGD(lr=0.01, momentum=0.9)\n",
    "model.compile(loss='binary_crossentropy', optimizer=opt, metrics=['accuracy'])"
   ]
  },
  {
   "cell_type": "code",
   "execution_count": 185,
   "metadata": {},
   "outputs": [
    {
     "name": "stdout",
     "output_type": "stream",
     "text": [
      "Train on 500 samples, validate on 500 samples\n",
      "Epoch 1/200\n",
      "500/500 [==============================] - 0s 485us/step - loss: 0.7233 - accuracy: 0.5000 - val_loss: 0.6939 - val_accuracy: 0.5260\n",
      "Epoch 2/200\n",
      "500/500 [==============================] - 0s 77us/step - loss: 0.6919 - accuracy: 0.5180 - val_loss: 0.6829 - val_accuracy: 0.5340\n",
      "Epoch 3/200\n",
      "500/500 [==============================] - 0s 86us/step - loss: 0.6810 - accuracy: 0.5440 - val_loss: 0.6756 - val_accuracy: 0.5500\n",
      "Epoch 4/200\n",
      "500/500 [==============================] - 0s 92us/step - loss: 0.6761 - accuracy: 0.5500 - val_loss: 0.6692 - val_accuracy: 0.5500\n",
      "Epoch 5/200\n",
      "500/500 [==============================] - 0s 89us/step - loss: 0.6699 - accuracy: 0.5380 - val_loss: 0.6643 - val_accuracy: 0.5560\n",
      "Epoch 6/200\n",
      "500/500 [==============================] - 0s 89us/step - loss: 0.6645 - accuracy: 0.5540 - val_loss: 0.6593 - val_accuracy: 0.5660\n",
      "Epoch 7/200\n",
      "500/500 [==============================] - 0s 97us/step - loss: 0.6610 - accuracy: 0.5840 - val_loss: 0.6546 - val_accuracy: 0.5980\n",
      "Epoch 8/200\n",
      "500/500 [==============================] - 0s 99us/step - loss: 0.6566 - accuracy: 0.6240 - val_loss: 0.6496 - val_accuracy: 0.6260\n",
      "Epoch 9/200\n",
      "500/500 [==============================] - 0s 85us/step - loss: 0.6503 - accuracy: 0.6100 - val_loss: 0.6451 - val_accuracy: 0.6260\n",
      "Epoch 10/200\n",
      "500/500 [==============================] - 0s 89us/step - loss: 0.6470 - accuracy: 0.6340 - val_loss: 0.6405 - val_accuracy: 0.6420\n",
      "Epoch 11/200\n",
      "500/500 [==============================] - 0s 88us/step - loss: 0.6410 - accuracy: 0.6500 - val_loss: 0.6360 - val_accuracy: 0.6600\n",
      "Epoch 12/200\n",
      "500/500 [==============================] - 0s 107us/step - loss: 0.6376 - accuracy: 0.6600 - val_loss: 0.6320 - val_accuracy: 0.7080\n",
      "Epoch 13/200\n",
      "500/500 [==============================] - 0s 116us/step - loss: 0.6352 - accuracy: 0.7200 - val_loss: 0.6274 - val_accuracy: 0.7000\n",
      "Epoch 14/200\n",
      "500/500 [==============================] - 0s 136us/step - loss: 0.6287 - accuracy: 0.6180 - val_loss: 0.6245 - val_accuracy: 0.6320\n",
      "Epoch 15/200\n",
      "500/500 [==============================] - 0s 123us/step - loss: 0.6288 - accuracy: 0.7040 - val_loss: 0.6190 - val_accuracy: 0.7200\n",
      "Epoch 16/200\n",
      "500/500 [==============================] - 0s 87us/step - loss: 0.6197 - accuracy: 0.7100 - val_loss: 0.6152 - val_accuracy: 0.6880\n",
      "Epoch 17/200\n",
      "500/500 [==============================] - 0s 91us/step - loss: 0.6147 - accuracy: 0.6980 - val_loss: 0.6104 - val_accuracy: 0.7260\n",
      "Epoch 18/200\n",
      "500/500 [==============================] - 0s 100us/step - loss: 0.6101 - accuracy: 0.7120 - val_loss: 0.6064 - val_accuracy: 0.7220\n",
      "Epoch 19/200\n",
      "500/500 [==============================] - 0s 89us/step - loss: 0.6065 - accuracy: 0.7440 - val_loss: 0.6025 - val_accuracy: 0.7600\n",
      "Epoch 20/200\n",
      "500/500 [==============================] - 0s 88us/step - loss: 0.6039 - accuracy: 0.7540 - val_loss: 0.5987 - val_accuracy: 0.7680\n",
      "Epoch 21/200\n",
      "500/500 [==============================] - 0s 99us/step - loss: 0.5987 - accuracy: 0.7580 - val_loss: 0.5946 - val_accuracy: 0.7520\n",
      "Epoch 22/200\n",
      "500/500 [==============================] - 0s 92us/step - loss: 0.5967 - accuracy: 0.7900 - val_loss: 0.5909 - val_accuracy: 0.7960\n",
      "Epoch 23/200\n",
      "500/500 [==============================] - 0s 94us/step - loss: 0.5914 - accuracy: 0.7420 - val_loss: 0.5869 - val_accuracy: 0.7520\n",
      "Epoch 24/200\n",
      "500/500 [==============================] - 0s 83us/step - loss: 0.5869 - accuracy: 0.7540 - val_loss: 0.5831 - val_accuracy: 0.7980\n",
      "Epoch 25/200\n",
      "500/500 [==============================] - 0s 87us/step - loss: 0.5855 - accuracy: 0.8120 - val_loss: 0.5791 - val_accuracy: 0.8060\n",
      "Epoch 26/200\n",
      "500/500 [==============================] - 0s 87us/step - loss: 0.5801 - accuracy: 0.7800 - val_loss: 0.5749 - val_accuracy: 0.8060\n",
      "Epoch 27/200\n",
      "500/500 [==============================] - 0s 89us/step - loss: 0.5776 - accuracy: 0.7740 - val_loss: 0.5721 - val_accuracy: 0.7640\n",
      "Epoch 28/200\n",
      "500/500 [==============================] - 0s 91us/step - loss: 0.5719 - accuracy: 0.7880 - val_loss: 0.5681 - val_accuracy: 0.8060\n",
      "Epoch 29/200\n",
      "500/500 [==============================] - 0s 89us/step - loss: 0.5683 - accuracy: 0.7900 - val_loss: 0.5644 - val_accuracy: 0.7860\n",
      "Epoch 30/200\n",
      "500/500 [==============================] - 0s 104us/step - loss: 0.5665 - accuracy: 0.7620 - val_loss: 0.5602 - val_accuracy: 0.8060\n",
      "Epoch 31/200\n",
      "500/500 [==============================] - 0s 96us/step - loss: 0.5626 - accuracy: 0.8260 - val_loss: 0.5575 - val_accuracy: 0.8140\n",
      "Epoch 32/200\n",
      "500/500 [==============================] - 0s 88us/step - loss: 0.5582 - accuracy: 0.7880 - val_loss: 0.5535 - val_accuracy: 0.7980\n",
      "Epoch 33/200\n",
      "500/500 [==============================] - 0s 98us/step - loss: 0.5533 - accuracy: 0.7960 - val_loss: 0.5504 - val_accuracy: 0.8220\n",
      "Epoch 34/200\n",
      "500/500 [==============================] - 0s 85us/step - loss: 0.5499 - accuracy: 0.8200 - val_loss: 0.5460 - val_accuracy: 0.8180\n",
      "Epoch 35/200\n",
      "500/500 [==============================] - 0s 96us/step - loss: 0.5466 - accuracy: 0.8060 - val_loss: 0.5435 - val_accuracy: 0.8020\n",
      "Epoch 36/200\n",
      "500/500 [==============================] - 0s 98us/step - loss: 0.5452 - accuracy: 0.8040 - val_loss: 0.5389 - val_accuracy: 0.8180\n",
      "Epoch 37/200\n",
      "500/500 [==============================] - 0s 99us/step - loss: 0.5405 - accuracy: 0.8100 - val_loss: 0.5356 - val_accuracy: 0.8140\n",
      "Epoch 38/200\n",
      "500/500 [==============================] - 0s 93us/step - loss: 0.5355 - accuracy: 0.8220 - val_loss: 0.5319 - val_accuracy: 0.8280\n",
      "Epoch 39/200\n",
      "500/500 [==============================] - 0s 80us/step - loss: 0.5322 - accuracy: 0.8260 - val_loss: 0.5281 - val_accuracy: 0.8200\n",
      "Epoch 40/200\n",
      "500/500 [==============================] - 0s 84us/step - loss: 0.5283 - accuracy: 0.8080 - val_loss: 0.5259 - val_accuracy: 0.8040\n",
      "Epoch 41/200\n",
      "500/500 [==============================] - 0s 89us/step - loss: 0.5256 - accuracy: 0.8160 - val_loss: 0.5217 - val_accuracy: 0.8280\n",
      "Epoch 42/200\n",
      "500/500 [==============================] - 0s 80us/step - loss: 0.5236 - accuracy: 0.8100 - val_loss: 0.5183 - val_accuracy: 0.8180\n",
      "Epoch 43/200\n",
      "500/500 [==============================] - 0s 83us/step - loss: 0.5192 - accuracy: 0.8200 - val_loss: 0.5150 - val_accuracy: 0.8220\n",
      "Epoch 44/200\n",
      "500/500 [==============================] - 0s 80us/step - loss: 0.5154 - accuracy: 0.8100 - val_loss: 0.5115 - val_accuracy: 0.8260\n",
      "Epoch 45/200\n",
      "500/500 [==============================] - 0s 85us/step - loss: 0.5124 - accuracy: 0.8220 - val_loss: 0.5083 - val_accuracy: 0.8260\n",
      "Epoch 46/200\n",
      "500/500 [==============================] - 0s 89us/step - loss: 0.5090 - accuracy: 0.8280 - val_loss: 0.5053 - val_accuracy: 0.8160\n",
      "Epoch 47/200\n",
      "500/500 [==============================] - 0s 80us/step - loss: 0.5076 - accuracy: 0.8160 - val_loss: 0.5020 - val_accuracy: 0.8260\n",
      "Epoch 48/200\n",
      "500/500 [==============================] - 0s 79us/step - loss: 0.5058 - accuracy: 0.8260 - val_loss: 0.5008 - val_accuracy: 0.8240\n",
      "Epoch 49/200\n",
      "500/500 [==============================] - 0s 75us/step - loss: 0.5012 - accuracy: 0.8340 - val_loss: 0.4974 - val_accuracy: 0.8060\n",
      "Epoch 50/200\n",
      "500/500 [==============================] - 0s 77us/step - loss: 0.4985 - accuracy: 0.8320 - val_loss: 0.4932 - val_accuracy: 0.8300\n",
      "Epoch 51/200\n",
      "500/500 [==============================] - 0s 77us/step - loss: 0.4930 - accuracy: 0.8260 - val_loss: 0.4902 - val_accuracy: 0.8240\n",
      "Epoch 52/200\n",
      "500/500 [==============================] - 0s 75us/step - loss: 0.4926 - accuracy: 0.8220 - val_loss: 0.4872 - val_accuracy: 0.8340\n",
      "Epoch 53/200\n",
      "500/500 [==============================] - 0s 78us/step - loss: 0.4877 - accuracy: 0.8300 - val_loss: 0.4844 - val_accuracy: 0.8240\n",
      "Epoch 54/200\n",
      "500/500 [==============================] - 0s 76us/step - loss: 0.4862 - accuracy: 0.8180 - val_loss: 0.4816 - val_accuracy: 0.8320\n",
      "Epoch 55/200\n",
      "500/500 [==============================] - 0s 78us/step - loss: 0.4848 - accuracy: 0.8300 - val_loss: 0.4789 - val_accuracy: 0.8260\n",
      "Epoch 56/200\n",
      "500/500 [==============================] - 0s 72us/step - loss: 0.4830 - accuracy: 0.8080 - val_loss: 0.4760 - val_accuracy: 0.8240\n",
      "Epoch 57/200\n",
      "500/500 [==============================] - 0s 80us/step - loss: 0.4762 - accuracy: 0.8160 - val_loss: 0.4734 - val_accuracy: 0.8320\n",
      "Epoch 58/200\n",
      "500/500 [==============================] - 0s 74us/step - loss: 0.4745 - accuracy: 0.8280 - val_loss: 0.4705 - val_accuracy: 0.8300\n",
      "Epoch 59/200\n",
      "500/500 [==============================] - 0s 78us/step - loss: 0.4715 - accuracy: 0.8320 - val_loss: 0.4679 - val_accuracy: 0.8320\n",
      "Epoch 60/200\n",
      "500/500 [==============================] - 0s 72us/step - loss: 0.4682 - accuracy: 0.8300 - val_loss: 0.4653 - val_accuracy: 0.8280\n",
      "Epoch 61/200\n",
      "500/500 [==============================] - 0s 78us/step - loss: 0.4664 - accuracy: 0.8180 - val_loss: 0.4630 - val_accuracy: 0.8300\n",
      "Epoch 62/200\n",
      "500/500 [==============================] - 0s 82us/step - loss: 0.4655 - accuracy: 0.8300 - val_loss: 0.4602 - val_accuracy: 0.8320\n",
      "Epoch 63/200\n",
      "500/500 [==============================] - 0s 77us/step - loss: 0.4617 - accuracy: 0.8160 - val_loss: 0.4581 - val_accuracy: 0.8240\n",
      "Epoch 64/200\n",
      "500/500 [==============================] - 0s 82us/step - loss: 0.4582 - accuracy: 0.8260 - val_loss: 0.4556 - val_accuracy: 0.8280\n",
      "Epoch 65/200\n",
      "500/500 [==============================] - 0s 83us/step - loss: 0.4583 - accuracy: 0.8180 - val_loss: 0.4533 - val_accuracy: 0.8240\n",
      "Epoch 66/200\n",
      "500/500 [==============================] - 0s 80us/step - loss: 0.4538 - accuracy: 0.8260 - val_loss: 0.4504 - val_accuracy: 0.8320\n",
      "Epoch 67/200\n",
      "500/500 [==============================] - 0s 85us/step - loss: 0.4507 - accuracy: 0.8180 - val_loss: 0.4482 - val_accuracy: 0.8280\n",
      "Epoch 68/200\n",
      "500/500 [==============================] - 0s 74us/step - loss: 0.4492 - accuracy: 0.8280 - val_loss: 0.4460 - val_accuracy: 0.8300\n",
      "Epoch 69/200\n",
      "500/500 [==============================] - 0s 83us/step - loss: 0.4482 - accuracy: 0.8240 - val_loss: 0.4439 - val_accuracy: 0.8280\n",
      "Epoch 70/200\n",
      "500/500 [==============================] - 0s 76us/step - loss: 0.4485 - accuracy: 0.8260 - val_loss: 0.4422 - val_accuracy: 0.8220\n",
      "Epoch 71/200\n",
      "500/500 [==============================] - 0s 81us/step - loss: 0.4419 - accuracy: 0.8220 - val_loss: 0.4398 - val_accuracy: 0.8300\n",
      "Epoch 72/200\n",
      "500/500 [==============================] - 0s 83us/step - loss: 0.4399 - accuracy: 0.8300 - val_loss: 0.4375 - val_accuracy: 0.8360\n",
      "Epoch 73/200\n",
      "500/500 [==============================] - 0s 81us/step - loss: 0.4414 - accuracy: 0.8200 - val_loss: 0.4364 - val_accuracy: 0.8300\n",
      "Epoch 74/200\n",
      "500/500 [==============================] - 0s 77us/step - loss: 0.4384 - accuracy: 0.8420 - val_loss: 0.4339 - val_accuracy: 0.8340\n",
      "Epoch 75/200\n",
      "500/500 [==============================] - 0s 78us/step - loss: 0.4358 - accuracy: 0.8220 - val_loss: 0.4320 - val_accuracy: 0.8300\n",
      "Epoch 76/200\n",
      "500/500 [==============================] - 0s 78us/step - loss: 0.4331 - accuracy: 0.8260 - val_loss: 0.4303 - val_accuracy: 0.8380\n",
      "Epoch 77/200\n",
      "500/500 [==============================] - 0s 82us/step - loss: 0.4329 - accuracy: 0.8380 - val_loss: 0.4289 - val_accuracy: 0.8300\n",
      "Epoch 78/200\n",
      "500/500 [==============================] - 0s 78us/step - loss: 0.4299 - accuracy: 0.8360 - val_loss: 0.4272 - val_accuracy: 0.8340\n",
      "Epoch 79/200\n",
      "500/500 [==============================] - 0s 79us/step - loss: 0.4307 - accuracy: 0.8260 - val_loss: 0.4255 - val_accuracy: 0.8360\n",
      "Epoch 80/200\n",
      "500/500 [==============================] - 0s 79us/step - loss: 0.4282 - accuracy: 0.8220 - val_loss: 0.4240 - val_accuracy: 0.8340\n",
      "Epoch 81/200\n",
      "500/500 [==============================] - 0s 76us/step - loss: 0.4265 - accuracy: 0.8320 - val_loss: 0.4225 - val_accuracy: 0.8340\n",
      "Epoch 82/200\n",
      "500/500 [==============================] - 0s 78us/step - loss: 0.4231 - accuracy: 0.8320 - val_loss: 0.4211 - val_accuracy: 0.8300\n",
      "Epoch 83/200\n",
      "500/500 [==============================] - 0s 79us/step - loss: 0.4235 - accuracy: 0.8240 - val_loss: 0.4197 - val_accuracy: 0.8380\n",
      "Epoch 84/200\n",
      "500/500 [==============================] - 0s 80us/step - loss: 0.4233 - accuracy: 0.8320 - val_loss: 0.4192 - val_accuracy: 0.8340\n",
      "Epoch 85/200\n",
      "500/500 [==============================] - 0s 81us/step - loss: 0.4237 - accuracy: 0.8360 - val_loss: 0.4172 - val_accuracy: 0.8300\n",
      "Epoch 86/200\n",
      "500/500 [==============================] - 0s 79us/step - loss: 0.4184 - accuracy: 0.8240 - val_loss: 0.4163 - val_accuracy: 0.8220\n",
      "Epoch 87/200\n",
      "500/500 [==============================] - 0s 79us/step - loss: 0.4176 - accuracy: 0.8340 - val_loss: 0.4141 - val_accuracy: 0.8400\n",
      "Epoch 88/200\n",
      "500/500 [==============================] - 0s 79us/step - loss: 0.4182 - accuracy: 0.8260 - val_loss: 0.4135 - val_accuracy: 0.8360\n",
      "Epoch 89/200\n",
      "500/500 [==============================] - 0s 73us/step - loss: 0.4139 - accuracy: 0.8360 - val_loss: 0.4116 - val_accuracy: 0.8340\n",
      "Epoch 90/200\n",
      "500/500 [==============================] - 0s 71us/step - loss: 0.4130 - accuracy: 0.8300 - val_loss: 0.4104 - val_accuracy: 0.8320\n",
      "Epoch 91/200\n",
      "500/500 [==============================] - 0s 81us/step - loss: 0.4124 - accuracy: 0.8300 - val_loss: 0.4093 - val_accuracy: 0.8280\n",
      "Epoch 92/200\n",
      "500/500 [==============================] - 0s 80us/step - loss: 0.4106 - accuracy: 0.8240 - val_loss: 0.4085 - val_accuracy: 0.8320\n",
      "Epoch 93/200\n",
      "500/500 [==============================] - 0s 76us/step - loss: 0.4122 - accuracy: 0.8320 - val_loss: 0.4077 - val_accuracy: 0.8340\n",
      "Epoch 94/200\n",
      "500/500 [==============================] - 0s 79us/step - loss: 0.4108 - accuracy: 0.8340 - val_loss: 0.4067 - val_accuracy: 0.8320\n",
      "Epoch 95/200\n",
      "500/500 [==============================] - 0s 79us/step - loss: 0.4107 - accuracy: 0.8340 - val_loss: 0.4057 - val_accuracy: 0.8260\n",
      "Epoch 96/200\n",
      "500/500 [==============================] - 0s 84us/step - loss: 0.4116 - accuracy: 0.8300 - val_loss: 0.4051 - val_accuracy: 0.8340\n",
      "Epoch 97/200\n",
      "500/500 [==============================] - 0s 77us/step - loss: 0.4099 - accuracy: 0.8240 - val_loss: 0.4034 - val_accuracy: 0.8360\n",
      "Epoch 98/200\n",
      "500/500 [==============================] - 0s 80us/step - loss: 0.4108 - accuracy: 0.8360 - val_loss: 0.4032 - val_accuracy: 0.8320\n",
      "Epoch 99/200\n",
      "500/500 [==============================] - 0s 78us/step - loss: 0.4061 - accuracy: 0.8240 - val_loss: 0.4019 - val_accuracy: 0.8340\n",
      "Epoch 100/200\n",
      "500/500 [==============================] - 0s 81us/step - loss: 0.4044 - accuracy: 0.8340 - val_loss: 0.4013 - val_accuracy: 0.8380\n",
      "Epoch 101/200\n",
      "500/500 [==============================] - 0s 78us/step - loss: 0.4058 - accuracy: 0.8240 - val_loss: 0.4004 - val_accuracy: 0.8360\n",
      "Epoch 102/200\n",
      "500/500 [==============================] - 0s 81us/step - loss: 0.4029 - accuracy: 0.8300 - val_loss: 0.3995 - val_accuracy: 0.8320\n",
      "Epoch 103/200\n",
      "500/500 [==============================] - 0s 82us/step - loss: 0.4019 - accuracy: 0.8320 - val_loss: 0.3984 - val_accuracy: 0.8380\n",
      "Epoch 104/200\n",
      "500/500 [==============================] - 0s 79us/step - loss: 0.4059 - accuracy: 0.8360 - val_loss: 0.3992 - val_accuracy: 0.8280\n",
      "Epoch 105/200\n",
      "500/500 [==============================] - 0s 80us/step - loss: 0.4025 - accuracy: 0.8300 - val_loss: 0.3971 - val_accuracy: 0.8360\n",
      "Epoch 106/200\n",
      "500/500 [==============================] - 0s 81us/step - loss: 0.3998 - accuracy: 0.8280 - val_loss: 0.3970 - val_accuracy: 0.8300\n",
      "Epoch 107/200\n",
      "500/500 [==============================] - 0s 86us/step - loss: 0.4018 - accuracy: 0.8260 - val_loss: 0.3960 - val_accuracy: 0.8340\n",
      "Epoch 108/200\n",
      "500/500 [==============================] - 0s 77us/step - loss: 0.3992 - accuracy: 0.8280 - val_loss: 0.3957 - val_accuracy: 0.8340\n",
      "Epoch 109/200\n",
      "500/500 [==============================] - 0s 83us/step - loss: 0.3963 - accuracy: 0.8380 - val_loss: 0.3945 - val_accuracy: 0.8380\n",
      "Epoch 110/200\n",
      "500/500 [==============================] - 0s 80us/step - loss: 0.3970 - accuracy: 0.8400 - val_loss: 0.3944 - val_accuracy: 0.8380\n",
      "Epoch 111/200\n",
      "500/500 [==============================] - 0s 83us/step - loss: 0.3956 - accuracy: 0.8340 - val_loss: 0.3940 - val_accuracy: 0.8260\n",
      "Epoch 112/200\n",
      "500/500 [==============================] - 0s 82us/step - loss: 0.3986 - accuracy: 0.8440 - val_loss: 0.3924 - val_accuracy: 0.8420\n",
      "Epoch 113/200\n"
     ]
    },
    {
     "name": "stdout",
     "output_type": "stream",
     "text": [
      "500/500 [==============================] - 0s 75us/step - loss: 0.3994 - accuracy: 0.8220 - val_loss: 0.3921 - val_accuracy: 0.8380\n",
      "Epoch 114/200\n",
      "500/500 [==============================] - 0s 77us/step - loss: 0.3992 - accuracy: 0.8360 - val_loss: 0.3915 - val_accuracy: 0.8360\n",
      "Epoch 115/200\n",
      "500/500 [==============================] - 0s 71us/step - loss: 0.3962 - accuracy: 0.8340 - val_loss: 0.3914 - val_accuracy: 0.8360\n",
      "Epoch 116/200\n",
      "500/500 [==============================] - 0s 73us/step - loss: 0.3932 - accuracy: 0.8400 - val_loss: 0.3918 - val_accuracy: 0.8420\n",
      "Epoch 117/200\n",
      "500/500 [==============================] - 0s 72us/step - loss: 0.3959 - accuracy: 0.8280 - val_loss: 0.3903 - val_accuracy: 0.8340\n",
      "Epoch 118/200\n",
      "500/500 [==============================] - 0s 73us/step - loss: 0.3929 - accuracy: 0.8300 - val_loss: 0.3897 - val_accuracy: 0.8340\n",
      "Epoch 119/200\n",
      "500/500 [==============================] - 0s 72us/step - loss: 0.3974 - accuracy: 0.8200 - val_loss: 0.3897 - val_accuracy: 0.8400\n",
      "Epoch 120/200\n",
      "500/500 [==============================] - 0s 73us/step - loss: 0.3934 - accuracy: 0.8460 - val_loss: 0.3886 - val_accuracy: 0.8440\n",
      "Epoch 121/200\n",
      "500/500 [==============================] - 0s 75us/step - loss: 0.3929 - accuracy: 0.8260 - val_loss: 0.3891 - val_accuracy: 0.8320\n",
      "Epoch 122/200\n",
      "500/500 [==============================] - 0s 74us/step - loss: 0.3928 - accuracy: 0.8300 - val_loss: 0.3889 - val_accuracy: 0.8380\n",
      "Epoch 123/200\n",
      "500/500 [==============================] - 0s 73us/step - loss: 0.3903 - accuracy: 0.8420 - val_loss: 0.3873 - val_accuracy: 0.8360\n",
      "Epoch 124/200\n",
      "500/500 [==============================] - 0s 75us/step - loss: 0.3913 - accuracy: 0.8300 - val_loss: 0.3867 - val_accuracy: 0.8380\n",
      "Epoch 125/200\n",
      "500/500 [==============================] - 0s 99us/step - loss: 0.3900 - accuracy: 0.8360 - val_loss: 0.3864 - val_accuracy: 0.8420\n",
      "Epoch 126/200\n",
      "500/500 [==============================] - 0s 91us/step - loss: 0.3901 - accuracy: 0.8300 - val_loss: 0.3861 - val_accuracy: 0.8360\n",
      "Epoch 127/200\n",
      "500/500 [==============================] - 0s 87us/step - loss: 0.3886 - accuracy: 0.8340 - val_loss: 0.3855 - val_accuracy: 0.8380\n",
      "Epoch 128/200\n",
      "500/500 [==============================] - 0s 76us/step - loss: 0.3892 - accuracy: 0.8400 - val_loss: 0.3853 - val_accuracy: 0.8380\n",
      "Epoch 129/200\n",
      "500/500 [==============================] - 0s 73us/step - loss: 0.3903 - accuracy: 0.8340 - val_loss: 0.3855 - val_accuracy: 0.8280\n",
      "Epoch 130/200\n",
      "500/500 [==============================] - 0s 73us/step - loss: 0.3885 - accuracy: 0.8200 - val_loss: 0.3852 - val_accuracy: 0.8400\n",
      "Epoch 131/200\n",
      "500/500 [==============================] - 0s 69us/step - loss: 0.3864 - accuracy: 0.8500 - val_loss: 0.3848 - val_accuracy: 0.8340\n",
      "Epoch 132/200\n",
      "500/500 [==============================] - 0s 74us/step - loss: 0.3891 - accuracy: 0.8360 - val_loss: 0.3843 - val_accuracy: 0.8300\n",
      "Epoch 133/200\n",
      "500/500 [==============================] - 0s 71us/step - loss: 0.3852 - accuracy: 0.8340 - val_loss: 0.3848 - val_accuracy: 0.8440\n",
      "Epoch 134/200\n",
      "500/500 [==============================] - 0s 72us/step - loss: 0.3850 - accuracy: 0.8400 - val_loss: 0.3834 - val_accuracy: 0.8380\n",
      "Epoch 135/200\n",
      "500/500 [==============================] - 0s 71us/step - loss: 0.3856 - accuracy: 0.8280 - val_loss: 0.3831 - val_accuracy: 0.8360\n",
      "Epoch 136/200\n",
      "500/500 [==============================] - 0s 72us/step - loss: 0.3869 - accuracy: 0.8360 - val_loss: 0.3824 - val_accuracy: 0.8380\n",
      "Epoch 137/200\n",
      "500/500 [==============================] - 0s 74us/step - loss: 0.3895 - accuracy: 0.8260 - val_loss: 0.3827 - val_accuracy: 0.8440\n",
      "Epoch 138/200\n",
      "500/500 [==============================] - 0s 71us/step - loss: 0.3849 - accuracy: 0.8380 - val_loss: 0.3834 - val_accuracy: 0.8280\n",
      "Epoch 139/200\n",
      "500/500 [==============================] - 0s 66us/step - loss: 0.3845 - accuracy: 0.8340 - val_loss: 0.3816 - val_accuracy: 0.8440\n",
      "Epoch 140/200\n",
      "500/500 [==============================] - 0s 78us/step - loss: 0.3854 - accuracy: 0.8300 - val_loss: 0.3829 - val_accuracy: 0.8340\n",
      "Epoch 141/200\n",
      "500/500 [==============================] - 0s 74us/step - loss: 0.3849 - accuracy: 0.8260 - val_loss: 0.3821 - val_accuracy: 0.8380\n",
      "Epoch 142/200\n",
      "500/500 [==============================] - 0s 74us/step - loss: 0.3859 - accuracy: 0.8340 - val_loss: 0.3813 - val_accuracy: 0.8460\n",
      "Epoch 143/200\n",
      "500/500 [==============================] - 0s 74us/step - loss: 0.3841 - accuracy: 0.8320 - val_loss: 0.3809 - val_accuracy: 0.8380\n",
      "Epoch 144/200\n",
      "500/500 [==============================] - 0s 71us/step - loss: 0.3847 - accuracy: 0.8420 - val_loss: 0.3806 - val_accuracy: 0.8400\n",
      "Epoch 145/200\n",
      "500/500 [==============================] - 0s 76us/step - loss: 0.3819 - accuracy: 0.8320 - val_loss: 0.3814 - val_accuracy: 0.8380\n",
      "Epoch 146/200\n",
      "500/500 [==============================] - 0s 74us/step - loss: 0.3844 - accuracy: 0.8380 - val_loss: 0.3801 - val_accuracy: 0.8420\n",
      "Epoch 147/200\n",
      "500/500 [==============================] - 0s 68us/step - loss: 0.3861 - accuracy: 0.8340 - val_loss: 0.3799 - val_accuracy: 0.8400\n",
      "Epoch 148/200\n",
      "500/500 [==============================] - 0s 72us/step - loss: 0.3841 - accuracy: 0.8380 - val_loss: 0.3801 - val_accuracy: 0.8340\n",
      "Epoch 149/200\n",
      "500/500 [==============================] - 0s 72us/step - loss: 0.3812 - accuracy: 0.8320 - val_loss: 0.3795 - val_accuracy: 0.8400\n",
      "Epoch 150/200\n",
      "500/500 [==============================] - 0s 76us/step - loss: 0.3830 - accuracy: 0.8420 - val_loss: 0.3792 - val_accuracy: 0.8380\n",
      "Epoch 151/200\n",
      "500/500 [==============================] - 0s 73us/step - loss: 0.3839 - accuracy: 0.8300 - val_loss: 0.3793 - val_accuracy: 0.8360\n",
      "Epoch 152/200\n",
      "500/500 [==============================] - 0s 77us/step - loss: 0.3834 - accuracy: 0.8280 - val_loss: 0.3792 - val_accuracy: 0.8380\n",
      "Epoch 153/200\n",
      "500/500 [==============================] - 0s 74us/step - loss: 0.3829 - accuracy: 0.8340 - val_loss: 0.3788 - val_accuracy: 0.8440\n",
      "Epoch 154/200\n",
      "500/500 [==============================] - 0s 71us/step - loss: 0.3900 - accuracy: 0.8140 - val_loss: 0.3788 - val_accuracy: 0.8320\n",
      "Epoch 155/200\n",
      "500/500 [==============================] - 0s 74us/step - loss: 0.3847 - accuracy: 0.8400 - val_loss: 0.3808 - val_accuracy: 0.8440\n",
      "Epoch 156/200\n",
      "500/500 [==============================] - 0s 69us/step - loss: 0.3804 - accuracy: 0.8400 - val_loss: 0.3786 - val_accuracy: 0.8360\n",
      "Epoch 157/200\n",
      "500/500 [==============================] - 0s 74us/step - loss: 0.3846 - accuracy: 0.8280 - val_loss: 0.3789 - val_accuracy: 0.8420\n",
      "Epoch 158/200\n",
      "500/500 [==============================] - 0s 69us/step - loss: 0.3866 - accuracy: 0.8300 - val_loss: 0.3784 - val_accuracy: 0.8400\n",
      "Epoch 159/200\n",
      "500/500 [==============================] - 0s 72us/step - loss: 0.3830 - accuracy: 0.8440 - val_loss: 0.3793 - val_accuracy: 0.8420\n",
      "Epoch 160/200\n",
      "500/500 [==============================] - 0s 70us/step - loss: 0.3822 - accuracy: 0.8380 - val_loss: 0.3781 - val_accuracy: 0.8320\n",
      "Epoch 161/200\n",
      "500/500 [==============================] - 0s 69us/step - loss: 0.3818 - accuracy: 0.8380 - val_loss: 0.3786 - val_accuracy: 0.8420\n",
      "Epoch 162/200\n",
      "500/500 [==============================] - 0s 71us/step - loss: 0.3815 - accuracy: 0.8340 - val_loss: 0.3773 - val_accuracy: 0.8320\n",
      "Epoch 163/200\n",
      "500/500 [==============================] - 0s 71us/step - loss: 0.3814 - accuracy: 0.8180 - val_loss: 0.3772 - val_accuracy: 0.8360\n",
      "Epoch 164/200\n",
      "500/500 [==============================] - 0s 72us/step - loss: 0.3804 - accuracy: 0.8380 - val_loss: 0.3768 - val_accuracy: 0.8400\n",
      "Epoch 165/200\n",
      "500/500 [==============================] - 0s 69us/step - loss: 0.3799 - accuracy: 0.8300 - val_loss: 0.3767 - val_accuracy: 0.8400\n",
      "Epoch 166/200\n",
      "500/500 [==============================] - 0s 71us/step - loss: 0.3794 - accuracy: 0.8400 - val_loss: 0.3779 - val_accuracy: 0.8440\n",
      "Epoch 167/200\n",
      "500/500 [==============================] - 0s 67us/step - loss: 0.3838 - accuracy: 0.8280 - val_loss: 0.3765 - val_accuracy: 0.8440\n",
      "Epoch 168/200\n",
      "500/500 [==============================] - 0s 72us/step - loss: 0.3808 - accuracy: 0.8400 - val_loss: 0.3769 - val_accuracy: 0.8300\n",
      "Epoch 169/200\n",
      "500/500 [==============================] - 0s 71us/step - loss: 0.3812 - accuracy: 0.8420 - val_loss: 0.3771 - val_accuracy: 0.8400\n",
      "Epoch 170/200\n",
      "500/500 [==============================] - 0s 74us/step - loss: 0.3829 - accuracy: 0.8240 - val_loss: 0.3766 - val_accuracy: 0.8440\n",
      "Epoch 171/200\n",
      "500/500 [==============================] - 0s 75us/step - loss: 0.3780 - accuracy: 0.8360 - val_loss: 0.3766 - val_accuracy: 0.8300\n",
      "Epoch 172/200\n",
      "500/500 [==============================] - 0s 73us/step - loss: 0.3785 - accuracy: 0.8400 - val_loss: 0.3757 - val_accuracy: 0.8420\n",
      "Epoch 173/200\n",
      "500/500 [==============================] - 0s 74us/step - loss: 0.3779 - accuracy: 0.8340 - val_loss: 0.3756 - val_accuracy: 0.8420\n",
      "Epoch 174/200\n",
      "500/500 [==============================] - 0s 69us/step - loss: 0.3784 - accuracy: 0.8380 - val_loss: 0.3755 - val_accuracy: 0.8380\n",
      "Epoch 175/200\n",
      "500/500 [==============================] - 0s 73us/step - loss: 0.3797 - accuracy: 0.8360 - val_loss: 0.3754 - val_accuracy: 0.8420\n",
      "Epoch 176/200\n",
      "500/500 [==============================] - 0s 72us/step - loss: 0.3776 - accuracy: 0.8420 - val_loss: 0.3752 - val_accuracy: 0.8460\n",
      "Epoch 177/200\n",
      "500/500 [==============================] - 0s 74us/step - loss: 0.3815 - accuracy: 0.8360 - val_loss: 0.3756 - val_accuracy: 0.8400\n",
      "Epoch 178/200\n",
      "500/500 [==============================] - 0s 72us/step - loss: 0.3808 - accuracy: 0.8300 - val_loss: 0.3756 - val_accuracy: 0.8340\n",
      "Epoch 179/200\n",
      "500/500 [==============================] - 0s 73us/step - loss: 0.3798 - accuracy: 0.8320 - val_loss: 0.3750 - val_accuracy: 0.8360\n",
      "Epoch 180/200\n",
      "500/500 [==============================] - 0s 71us/step - loss: 0.3778 - accuracy: 0.8400 - val_loss: 0.3746 - val_accuracy: 0.8400\n",
      "Epoch 181/200\n",
      "500/500 [==============================] - 0s 70us/step - loss: 0.3788 - accuracy: 0.8360 - val_loss: 0.3751 - val_accuracy: 0.8360\n",
      "Epoch 182/200\n",
      "500/500 [==============================] - 0s 74us/step - loss: 0.3804 - accuracy: 0.8360 - val_loss: 0.3747 - val_accuracy: 0.8380\n",
      "Epoch 183/200\n",
      "500/500 [==============================] - 0s 71us/step - loss: 0.3759 - accuracy: 0.8340 - val_loss: 0.3744 - val_accuracy: 0.8440\n",
      "Epoch 184/200\n",
      "500/500 [==============================] - 0s 70us/step - loss: 0.3774 - accuracy: 0.8380 - val_loss: 0.3743 - val_accuracy: 0.8460\n",
      "Epoch 185/200\n",
      "500/500 [==============================] - 0s 73us/step - loss: 0.3769 - accuracy: 0.8420 - val_loss: 0.3752 - val_accuracy: 0.8320\n",
      "Epoch 186/200\n",
      "500/500 [==============================] - 0s 71us/step - loss: 0.3780 - accuracy: 0.8320 - val_loss: 0.3740 - val_accuracy: 0.8400\n",
      "Epoch 187/200\n",
      "500/500 [==============================] - 0s 74us/step - loss: 0.3776 - accuracy: 0.8280 - val_loss: 0.3742 - val_accuracy: 0.8480\n",
      "Epoch 188/200\n",
      "500/500 [==============================] - 0s 70us/step - loss: 0.3782 - accuracy: 0.8420 - val_loss: 0.3745 - val_accuracy: 0.8400\n",
      "Epoch 189/200\n",
      "500/500 [==============================] - 0s 66us/step - loss: 0.3787 - accuracy: 0.8240 - val_loss: 0.3751 - val_accuracy: 0.8420\n",
      "Epoch 190/200\n",
      "500/500 [==============================] - 0s 73us/step - loss: 0.3752 - accuracy: 0.8420 - val_loss: 0.3738 - val_accuracy: 0.8380\n",
      "Epoch 191/200\n",
      "500/500 [==============================] - 0s 73us/step - loss: 0.3764 - accuracy: 0.8320 - val_loss: 0.3742 - val_accuracy: 0.8360\n",
      "Epoch 192/200\n",
      "500/500 [==============================] - 0s 79us/step - loss: 0.3794 - accuracy: 0.8320 - val_loss: 0.3738 - val_accuracy: 0.8440\n",
      "Epoch 193/200\n",
      "500/500 [==============================] - 0s 73us/step - loss: 0.3760 - accuracy: 0.8420 - val_loss: 0.3736 - val_accuracy: 0.8460\n",
      "Epoch 194/200\n",
      "500/500 [==============================] - 0s 69us/step - loss: 0.3765 - accuracy: 0.8400 - val_loss: 0.3733 - val_accuracy: 0.8380\n",
      "Epoch 195/200\n",
      "500/500 [==============================] - 0s 71us/step - loss: 0.3766 - accuracy: 0.8380 - val_loss: 0.3738 - val_accuracy: 0.8400\n",
      "Epoch 196/200\n",
      "500/500 [==============================] - 0s 71us/step - loss: 0.3784 - accuracy: 0.8300 - val_loss: 0.3740 - val_accuracy: 0.8400\n",
      "Epoch 197/200\n",
      "500/500 [==============================] - 0s 68us/step - loss: 0.3802 - accuracy: 0.8300 - val_loss: 0.3740 - val_accuracy: 0.8400\n",
      "Epoch 198/200\n",
      "500/500 [==============================] - 0s 75us/step - loss: 0.3784 - accuracy: 0.8340 - val_loss: 0.3744 - val_accuracy: 0.8360\n",
      "Epoch 199/200\n",
      "500/500 [==============================] - 0s 68us/step - loss: 0.3786 - accuracy: 0.8320 - val_loss: 0.3743 - val_accuracy: 0.8400\n",
      "Epoch 200/200\n",
      "500/500 [==============================] - 0s 73us/step - loss: 0.3800 - accuracy: 0.8260 - val_loss: 0.3732 - val_accuracy: 0.8360\n"
     ]
    }
   ],
   "source": [
    "h=model.fit(trainX, trainy, validation_data=(testX,testy),\n",
    "           epochs=200,verbose=1)"
   ]
  },
  {
   "cell_type": "code",
   "execution_count": 186,
   "metadata": {},
   "outputs": [
    {
     "name": "stdout",
     "output_type": "stream",
     "text": [
      "500/500 [==============================] - 0s 44us/step\n"
     ]
    }
   ],
   "source": [
    "#_,train_acc=model.evaluate(trainX,trainy, verbose=1)"
   ]
  },
  {
   "cell_type": "code",
   "execution_count": 189,
   "metadata": {},
   "outputs": [
    {
     "name": "stdout",
     "output_type": "stream",
     "text": [
      "500/500 [==============================] - 0s 25us/step\n"
     ]
    }
   ],
   "source": [
    "#_,test_acc=model.evaluate(testX, testy,verbose=1)"
   ]
  },
  {
   "cell_type": "code",
   "execution_count": 190,
   "metadata": {},
   "outputs": [
    {
     "name": "stdout",
     "output_type": "stream",
     "text": [
      "Train: 0.8360 Test:0.8360\n"
     ]
    }
   ],
   "source": [
    "#print('Train: {:.4f} Test:{:.4f}'.format(train_acc, test_acc))"
   ]
  },
  {
   "cell_type": "code",
   "execution_count": 191,
   "metadata": {},
   "outputs": [
    {
     "data": {
      "text/plain": [
       "dict_keys(['val_loss', 'val_accuracy', 'loss', 'accuracy'])"
      ]
     },
     "execution_count": 191,
     "metadata": {},
     "output_type": "execute_result"
    }
   ],
   "source": [
    "h.history.keys()"
   ]
  },
  {
   "cell_type": "code",
   "execution_count": 196,
   "metadata": {},
   "outputs": [
    {
     "data": {
      "image/png": "[encoded data removed]",
      "text/plain": [
       "<Figure size 576x288 with 2 Axes>"
      ]
     },
     "metadata": {
      "needs_background": "light"
     },
     "output_type": "display_data"
    }
   ],
   "source": [
    "fig=plt.figure(figsize=(8,4))\n",
    "plt.subplot(121)\n",
    "plt.title(\"LOSS\")\n",
    "plt.plot(h.history['loss'], label='train')\n",
    "plt.plot(h.history['val_loss'], label='test')\n",
    "plt.legend()\n",
    "plt.subplot(122)\n",
    "plt.title(\"ACCURACY\")\n",
    "plt.plot(h.history['accuracy'], label='train')\n",
    "plt.plot(h.history['val_accuracy'], label='test')\n",
    "plt.legend()\n",
    "plt.show()"
   ]
  },
  {
   "cell_type": "markdown",
   "metadata": {},
   "source": [
    "# Hinge Loss"
   ]
  },
  {
   "cell_type": "code",
   "execution_count": 197,
   "metadata": {},
   "outputs": [],
   "source": [
    "y[where(y==0)]= -1"
   ]
  },
  {
   "cell_type": "code",
   "execution_count": 204,
   "metadata": {},
   "outputs": [],
   "source": [
    "X,y = make_circles(n_samples=1000, noise=0.1, random_state=1)\n",
    "y[where(y==0)]= -1"
   ]
  },
  {
   "cell_type": "code",
   "execution_count": 206,
   "metadata": {},
   "outputs": [],
   "source": [
    "n_train=500\n",
    "trainX,testX= X[:n_train,:],X[n_train:,:]\n",
    "trainy,testy=y[:n_train],y[n_train:]"
   ]
  },
  {
   "cell_type": "code",
   "execution_count": 212,
   "metadata": {},
   "outputs": [],
   "source": [
    "model=Sequential()\n",
    "model.add(Dense(50,input_dim=2,activation='relu',\n",
    "               kernel_initializer='he_uniform'))\n",
    "model.add(Dense(1, activation='tanh'))\n",
    "opt=SGD(lr=0.01, momentum=0.9)\n",
    "model.compile(loss='hinge', optimizer=opt,metrics=['accuracy'])"
   ]
  },
  {
   "cell_type": "code",
   "execution_count": 213,
   "metadata": {},
   "outputs": [
    {
     "name": "stdout",
     "output_type": "stream",
     "text": [
      "Model: \"sequential_14\"\n",
      "_________________________________________________________________\n",
      "Layer (type)                 Output Shape              Param #   \n",
      "=================================================================\n",
      "dense_24 (Dense)             (None, 50)                150       \n",
      "_________________________________________________________________\n",
      "dense_25 (Dense)             (None, 1)                 51        \n",
      "=================================================================\n",
      "Total params: 201\n",
      "Trainable params: 201\n",
      "Non-trainable params: 0\n",
      "_________________________________________________________________\n"
     ]
    }
   ],
   "source": [
    "model.summary()"
   ]
  },
  {
   "cell_type": "code",
   "execution_count": 214,
   "metadata": {},
   "outputs": [
    {
     "name": "stdout",
     "output_type": "stream",
     "text": [
      "Train on 500 samples, validate on 500 samples\n",
      "Epoch 1/200\n",
      "500/500 [==============================] - 0s 751us/step - loss: 1.0000 - accuracy: 0.2580 - val_loss: 0.9999 - val_accuracy: 0.2260\n",
      "Epoch 2/200\n",
      "500/500 [==============================] - 0s 122us/step - loss: 0.9721 - accuracy: 0.2580 - val_loss: 0.9849 - val_accuracy: 0.3440\n",
      "Epoch 3/200\n",
      "500/500 [==============================] - 0s 138us/step - loss: 0.9314 - accuracy: 0.3600 - val_loss: 0.9791 - val_accuracy: 0.3160\n",
      "Epoch 4/200\n",
      "500/500 [==============================] - 0s 148us/step - loss: 0.9369 - accuracy: 0.3180 - val_loss: 0.9726 - val_accuracy: 0.2940\n",
      "Epoch 5/200\n",
      "500/500 [==============================] - 0s 179us/step - loss: 0.9093 - accuracy: 0.3500 - val_loss: 0.9614 - val_accuracy: 0.3220\n",
      "Epoch 6/200\n",
      "500/500 [==============================] - 0s 175us/step - loss: 0.8992 - accuracy: 0.3720 - val_loss: 0.9478 - val_accuracy: 0.3460\n",
      "Epoch 7/200\n",
      "500/500 [==============================] - 0s 160us/step - loss: 0.8860 - accuracy: 0.3360 - val_loss: 0.9271 - val_accuracy: 0.2480\n",
      "Epoch 8/200\n",
      "500/500 [==============================] - 0s 142us/step - loss: 0.8753 - accuracy: 0.3380 - val_loss: 0.9157 - val_accuracy: 0.3080\n",
      "Epoch 9/200\n",
      "500/500 [==============================] - 0s 141us/step - loss: 0.8596 - accuracy: 0.3300 - val_loss: 0.8967 - val_accuracy: 0.2540\n",
      "Epoch 10/200\n",
      "500/500 [==============================] - 0s 133us/step - loss: 0.8481 - accuracy: 0.2820 - val_loss: 0.8760 - val_accuracy: 0.1940\n",
      "Epoch 11/200\n",
      "500/500 [==============================] - 0s 135us/step - loss: 0.8316 - accuracy: 0.3220 - val_loss: 0.8546 - val_accuracy: 0.2640\n",
      "Epoch 12/200\n",
      "500/500 [==============================] - 0s 130us/step - loss: 0.8156 - accuracy: 0.2760 - val_loss: 0.8346 - val_accuracy: 0.2260\n",
      "Epoch 13/200\n",
      "500/500 [==============================] - 0s 133us/step - loss: 0.8068 - accuracy: 0.2120 - val_loss: 0.8168 - val_accuracy: 0.2420\n",
      "Epoch 14/200\n",
      "500/500 [==============================] - 0s 127us/step - loss: 0.7841 - accuracy: 0.3060 - val_loss: 0.7983 - val_accuracy: 0.2580\n",
      "Epoch 15/200\n",
      "500/500 [==============================] - 0s 148us/step - loss: 0.7774 - accuracy: 0.2640 - val_loss: 0.7788 - val_accuracy: 0.3020\n",
      "Epoch 16/200\n",
      "500/500 [==============================] - 0s 125us/step - loss: 0.7675 - accuracy: 0.2560 - val_loss: 0.7625 - val_accuracy: 0.3200\n",
      "Epoch 17/200\n",
      "500/500 [==============================] - 0s 178us/step - loss: 0.7437 - accuracy: 0.3120 - val_loss: 0.7497 - val_accuracy: 0.2860\n",
      "Epoch 18/200\n",
      "500/500 [==============================] - 0s 143us/step - loss: 0.7297 - accuracy: 0.3200 - val_loss: 0.7287 - val_accuracy: 0.2900\n",
      "Epoch 19/200\n",
      "500/500 [==============================] - 0s 127us/step - loss: 0.7111 - accuracy: 0.3560 - val_loss: 0.7175 - val_accuracy: 0.3400\n",
      "Epoch 20/200\n",
      "500/500 [==============================] - 0s 116us/step - loss: 0.7057 - accuracy: 0.3920 - val_loss: 0.6968 - val_accuracy: 0.3260\n",
      "Epoch 21/200\n",
      "500/500 [==============================] - 0s 115us/step - loss: 0.6827 - accuracy: 0.3820 - val_loss: 0.6845 - val_accuracy: 0.3840\n",
      "Epoch 22/200\n",
      "500/500 [==============================] - 0s 137us/step - loss: 0.6644 - accuracy: 0.4000 - val_loss: 0.6650 - val_accuracy: 0.4300\n",
      "Epoch 23/200\n",
      "500/500 [==============================] - 0s 149us/step - loss: 0.6535 - accuracy: 0.4460 - val_loss: 0.6622 - val_accuracy: 0.4220\n",
      "Epoch 24/200\n",
      "500/500 [==============================] - 0s 140us/step - loss: 0.6408 - accuracy: 0.4460 - val_loss: 0.6392 - val_accuracy: 0.4660\n",
      "Epoch 25/200\n",
      "500/500 [==============================] - 0s 123us/step - loss: 0.6291 - accuracy: 0.4620 - val_loss: 0.6282 - val_accuracy: 0.4900\n",
      "Epoch 26/200\n",
      "500/500 [==============================] - 0s 134us/step - loss: 0.6154 - accuracy: 0.4860 - val_loss: 0.6237 - val_accuracy: 0.4860\n",
      "Epoch 27/200\n",
      "500/500 [==============================] - 0s 131us/step - loss: 0.6015 - accuracy: 0.5200 - val_loss: 0.6092 - val_accuracy: 0.5020\n",
      "Epoch 28/200\n",
      "500/500 [==============================] - 0s 146us/step - loss: 0.6062 - accuracy: 0.4940 - val_loss: 0.5966 - val_accuracy: 0.5120\n",
      "Epoch 29/200\n",
      "500/500 [==============================] - 0s 121us/step - loss: 0.5829 - accuracy: 0.5400 - val_loss: 0.5837 - val_accuracy: 0.5320\n",
      "Epoch 30/200\n",
      "500/500 [==============================] - 0s 84us/step - loss: 0.5713 - accuracy: 0.5500 - val_loss: 0.5826 - val_accuracy: 0.5400\n",
      "Epoch 31/200\n",
      "500/500 [==============================] - 0s 85us/step - loss: 0.5646 - accuracy: 0.5560 - val_loss: 0.5667 - val_accuracy: 0.5560\n",
      "Epoch 32/200\n",
      "500/500 [==============================] - 0s 114us/step - loss: 0.5630 - accuracy: 0.5740 - val_loss: 0.5705 - val_accuracy: 0.5600\n",
      "Epoch 33/200\n",
      "500/500 [==============================] - 0s 112us/step - loss: 0.5451 - accuracy: 0.5820 - val_loss: 0.5509 - val_accuracy: 0.5740\n",
      "Epoch 34/200\n",
      "500/500 [==============================] - 0s 153us/step - loss: 0.5571 - accuracy: 0.5840 - val_loss: 0.5456 - val_accuracy: 0.5860\n",
      "Epoch 35/200\n",
      "500/500 [==============================] - 0s 277us/step - loss: 0.5441 - accuracy: 0.5960 - val_loss: 0.5436 - val_accuracy: 0.5880\n",
      "Epoch 36/200\n",
      "500/500 [==============================] - 0s 161us/step - loss: 0.5280 - accuracy: 0.6160 - val_loss: 0.5309 - val_accuracy: 0.5980\n",
      "Epoch 37/200\n",
      "500/500 [==============================] - 0s 129us/step - loss: 0.5204 - accuracy: 0.6160 - val_loss: 0.5263 - val_accuracy: 0.6100\n",
      "Epoch 38/200\n",
      "500/500 [==============================] - 0s 151us/step - loss: 0.5149 - accuracy: 0.6240 - val_loss: 0.5165 - val_accuracy: 0.6100\n",
      "Epoch 39/200\n",
      "500/500 [==============================] - 0s 110us/step - loss: 0.5097 - accuracy: 0.6280 - val_loss: 0.5136 - val_accuracy: 0.6140\n",
      "Epoch 40/200\n",
      "500/500 [==============================] - 0s 112us/step - loss: 0.5057 - accuracy: 0.6200 - val_loss: 0.5063 - val_accuracy: 0.6320\n",
      "Epoch 41/200\n",
      "500/500 [==============================] - 0s 104us/step - loss: 0.4969 - accuracy: 0.6420 - val_loss: 0.5090 - val_accuracy: 0.6180\n",
      "Epoch 42/200\n",
      "500/500 [==============================] - 0s 118us/step - loss: 0.4938 - accuracy: 0.6220 - val_loss: 0.4988 - val_accuracy: 0.6280\n",
      "Epoch 43/200\n",
      "500/500 [==============================] - 0s 123us/step - loss: 0.4860 - accuracy: 0.6360 - val_loss: 0.4948 - val_accuracy: 0.6320\n",
      "Epoch 44/200\n",
      "500/500 [==============================] - 0s 110us/step - loss: 0.4801 - accuracy: 0.6540 - val_loss: 0.4887 - val_accuracy: 0.6360\n",
      "Epoch 45/200\n",
      "500/500 [==============================] - 0s 96us/step - loss: 0.4786 - accuracy: 0.6520 - val_loss: 0.4864 - val_accuracy: 0.6380\n",
      "Epoch 46/200\n",
      "500/500 [==============================] - 0s 125us/step - loss: 0.4740 - accuracy: 0.6700 - val_loss: 0.4887 - val_accuracy: 0.6300\n",
      "Epoch 47/200\n",
      "500/500 [==============================] - 0s 127us/step - loss: 0.4714 - accuracy: 0.6780 - val_loss: 0.4776 - val_accuracy: 0.6480\n",
      "Epoch 48/200\n",
      "500/500 [==============================] - 0s 134us/step - loss: 0.4663 - accuracy: 0.6780 - val_loss: 0.4756 - val_accuracy: 0.6520\n",
      "Epoch 49/200\n",
      "500/500 [==============================] - 0s 115us/step - loss: 0.4623 - accuracy: 0.6780 - val_loss: 0.4709 - val_accuracy: 0.6620\n",
      "Epoch 50/200\n",
      "500/500 [==============================] - 0s 113us/step - loss: 0.4620 - accuracy: 0.6800 - val_loss: 0.4757 - val_accuracy: 0.6580\n",
      "Epoch 51/200\n",
      "500/500 [==============================] - 0s 128us/step - loss: 0.4562 - accuracy: 0.6680 - val_loss: 0.4649 - val_accuracy: 0.6700\n",
      "Epoch 52/200\n",
      "500/500 [==============================] - 0s 129us/step - loss: 0.4528 - accuracy: 0.6880 - val_loss: 0.4637 - val_accuracy: 0.6620\n",
      "Epoch 53/200\n",
      "500/500 [==============================] - 0s 134us/step - loss: 0.4525 - accuracy: 0.6880 - val_loss: 0.4670 - val_accuracy: 0.6460\n",
      "Epoch 54/200\n",
      "500/500 [==============================] - 0s 155us/step - loss: 0.4492 - accuracy: 0.6900 - val_loss: 0.4554 - val_accuracy: 0.6780\n",
      "Epoch 55/200\n",
      "500/500 [==============================] - 0s 162us/step - loss: 0.4468 - accuracy: 0.6960 - val_loss: 0.4631 - val_accuracy: 0.6640\n",
      "Epoch 56/200\n",
      "500/500 [==============================] - 0s 126us/step - loss: 0.4415 - accuracy: 0.6960 - val_loss: 0.4511 - val_accuracy: 0.6860\n"
     ]
    },
    {
     "name": "stdout",
     "output_type": "stream",
     "text": [
      "Epoch 57/200\n",
      "500/500 [==============================] - 0s 137us/step - loss: 0.4417 - accuracy: 0.6980 - val_loss: 0.4600 - val_accuracy: 0.6580\n",
      "Epoch 58/200\n",
      "500/500 [==============================] - 0s 112us/step - loss: 0.4435 - accuracy: 0.6960 - val_loss: 0.4493 - val_accuracy: 0.6840\n",
      "Epoch 59/200\n",
      "500/500 [==============================] - 0s 120us/step - loss: 0.4336 - accuracy: 0.7160 - val_loss: 0.4496 - val_accuracy: 0.6660\n",
      "Epoch 60/200\n",
      "500/500 [==============================] - 0s 109us/step - loss: 0.4311 - accuracy: 0.7100 - val_loss: 0.4479 - val_accuracy: 0.6740\n",
      "Epoch 61/200\n",
      "500/500 [==============================] - 0s 131us/step - loss: 0.4309 - accuracy: 0.7100 - val_loss: 0.4426 - val_accuracy: 0.6840\n",
      "Epoch 62/200\n",
      "500/500 [==============================] - 0s 153us/step - loss: 0.4304 - accuracy: 0.7060 - val_loss: 0.4429 - val_accuracy: 0.6840\n",
      "Epoch 63/200\n",
      "500/500 [==============================] - 0s 136us/step - loss: 0.4242 - accuracy: 0.7120 - val_loss: 0.4376 - val_accuracy: 0.6780\n",
      "Epoch 64/200\n",
      "500/500 [==============================] - 0s 123us/step - loss: 0.4255 - accuracy: 0.7120 - val_loss: 0.4379 - val_accuracy: 0.6900\n",
      "Epoch 65/200\n",
      "500/500 [==============================] - 0s 117us/step - loss: 0.4216 - accuracy: 0.7220 - val_loss: 0.4399 - val_accuracy: 0.6860\n",
      "Epoch 66/200\n",
      "500/500 [==============================] - 0s 98us/step - loss: 0.4184 - accuracy: 0.7320 - val_loss: 0.4334 - val_accuracy: 0.7000\n",
      "Epoch 67/200\n",
      "500/500 [==============================] - 0s 100us/step - loss: 0.4189 - accuracy: 0.7340 - val_loss: 0.4310 - val_accuracy: 0.6880\n",
      "Epoch 68/200\n",
      "500/500 [==============================] - 0s 118us/step - loss: 0.4153 - accuracy: 0.7260 - val_loss: 0.4296 - val_accuracy: 0.6860\n",
      "Epoch 69/200\n",
      "500/500 [==============================] - 0s 124us/step - loss: 0.4223 - accuracy: 0.7180 - val_loss: 0.4324 - val_accuracy: 0.6900\n",
      "Epoch 70/200\n",
      "500/500 [==============================] - 0s 111us/step - loss: 0.4233 - accuracy: 0.7280 - val_loss: 0.4240 - val_accuracy: 0.7020\n",
      "Epoch 71/200\n",
      "500/500 [==============================] - 0s 96us/step - loss: 0.4240 - accuracy: 0.7100 - val_loss: 0.4318 - val_accuracy: 0.6880\n",
      "Epoch 72/200\n",
      "500/500 [==============================] - 0s 112us/step - loss: 0.4314 - accuracy: 0.7140 - val_loss: 0.4217 - val_accuracy: 0.7020\n",
      "Epoch 73/200\n",
      "500/500 [==============================] - 0s 123us/step - loss: 0.4149 - accuracy: 0.7180 - val_loss: 0.4317 - val_accuracy: 0.6920\n",
      "Epoch 74/200\n",
      "500/500 [==============================] - 0s 115us/step - loss: 0.4177 - accuracy: 0.7200 - val_loss: 0.4190 - val_accuracy: 0.7180\n",
      "Epoch 75/200\n",
      "500/500 [==============================] - 0s 108us/step - loss: 0.4275 - accuracy: 0.7060 - val_loss: 0.4370 - val_accuracy: 0.7100\n",
      "Epoch 76/200\n",
      "500/500 [==============================] - 0s 116us/step - loss: 0.4069 - accuracy: 0.7460 - val_loss: 0.4192 - val_accuracy: 0.7100\n",
      "Epoch 77/200\n",
      "500/500 [==============================] - 0s 128us/step - loss: 0.4042 - accuracy: 0.7400 - val_loss: 0.4254 - val_accuracy: 0.7020\n",
      "Epoch 78/200\n",
      "500/500 [==============================] - 0s 117us/step - loss: 0.4042 - accuracy: 0.7360 - val_loss: 0.4227 - val_accuracy: 0.6940\n",
      "Epoch 79/200\n",
      "500/500 [==============================] - 0s 136us/step - loss: 0.4041 - accuracy: 0.7340 - val_loss: 0.4233 - val_accuracy: 0.7000\n",
      "Epoch 80/200\n",
      "500/500 [==============================] - 0s 129us/step - loss: 0.4060 - accuracy: 0.7380 - val_loss: 0.4211 - val_accuracy: 0.7060\n",
      "Epoch 81/200\n",
      "500/500 [==============================] - 0s 117us/step - loss: 0.4097 - accuracy: 0.7360 - val_loss: 0.4227 - val_accuracy: 0.7040\n",
      "Epoch 82/200\n",
      "500/500 [==============================] - 0s 122us/step - loss: 0.4104 - accuracy: 0.7400 - val_loss: 0.4156 - val_accuracy: 0.7120\n",
      "Epoch 83/200\n",
      "500/500 [==============================] - 0s 139us/step - loss: 0.3994 - accuracy: 0.7480 - val_loss: 0.4079 - val_accuracy: 0.7100\n",
      "Epoch 84/200\n",
      "500/500 [==============================] - 0s 132us/step - loss: 0.3985 - accuracy: 0.7420 - val_loss: 0.4090 - val_accuracy: 0.7100\n",
      "Epoch 85/200\n",
      "500/500 [==============================] - 0s 132us/step - loss: 0.3983 - accuracy: 0.7420 - val_loss: 0.4077 - val_accuracy: 0.7160\n",
      "Epoch 86/200\n",
      "500/500 [==============================] - 0s 136us/step - loss: 0.3911 - accuracy: 0.7460 - val_loss: 0.4049 - val_accuracy: 0.7140\n",
      "Epoch 87/200\n",
      "500/500 [==============================] - 0s 138us/step - loss: 0.3903 - accuracy: 0.7480 - val_loss: 0.4158 - val_accuracy: 0.7140\n",
      "Epoch 88/200\n",
      "500/500 [==============================] - 0s 143us/step - loss: 0.3949 - accuracy: 0.7520 - val_loss: 0.4084 - val_accuracy: 0.7040\n",
      "Epoch 89/200\n",
      "500/500 [==============================] - 0s 143us/step - loss: 0.3983 - accuracy: 0.7460 - val_loss: 0.4072 - val_accuracy: 0.7100\n",
      "Epoch 90/200\n",
      "500/500 [==============================] - 0s 135us/step - loss: 0.3985 - accuracy: 0.7500 - val_loss: 0.4086 - val_accuracy: 0.7080\n",
      "Epoch 91/200\n",
      "500/500 [==============================] - 0s 146us/step - loss: 0.3907 - accuracy: 0.7540 - val_loss: 0.4086 - val_accuracy: 0.7220\n",
      "Epoch 92/200\n",
      "500/500 [==============================] - 0s 127us/step - loss: 0.3941 - accuracy: 0.7420 - val_loss: 0.4051 - val_accuracy: 0.7120\n",
      "Epoch 93/200\n",
      "500/500 [==============================] - 0s 122us/step - loss: 0.3886 - accuracy: 0.7540 - val_loss: 0.4010 - val_accuracy: 0.7180\n",
      "Epoch 94/200\n",
      "500/500 [==============================] - 0s 128us/step - loss: 0.3866 - accuracy: 0.7500 - val_loss: 0.4044 - val_accuracy: 0.7140\n",
      "Epoch 95/200\n",
      "500/500 [==============================] - 0s 123us/step - loss: 0.3908 - accuracy: 0.7580 - val_loss: 0.4131 - val_accuracy: 0.7220\n",
      "Epoch 96/200\n",
      "500/500 [==============================] - 0s 131us/step - loss: 0.3897 - accuracy: 0.7520 - val_loss: 0.4015 - val_accuracy: 0.7200\n",
      "Epoch 97/200\n",
      "500/500 [==============================] - 0s 150us/step - loss: 0.3863 - accuracy: 0.7520 - val_loss: 0.3976 - val_accuracy: 0.7220\n",
      "Epoch 98/200\n",
      "500/500 [==============================] - 0s 129us/step - loss: 0.3829 - accuracy: 0.7500 - val_loss: 0.4017 - val_accuracy: 0.7200\n",
      "Epoch 99/200\n",
      "500/500 [==============================] - 0s 116us/step - loss: 0.3842 - accuracy: 0.7560 - val_loss: 0.3968 - val_accuracy: 0.7280\n",
      "Epoch 100/200\n",
      "500/500 [==============================] - 0s 120us/step - loss: 0.3909 - accuracy: 0.7500 - val_loss: 0.3972 - val_accuracy: 0.7160\n",
      "Epoch 101/200\n",
      "500/500 [==============================] - 0s 114us/step - loss: 0.3918 - accuracy: 0.7640 - val_loss: 0.3979 - val_accuracy: 0.7240\n",
      "Epoch 102/200\n",
      "500/500 [==============================] - 0s 113us/step - loss: 0.3833 - accuracy: 0.7540 - val_loss: 0.3957 - val_accuracy: 0.7220\n",
      "Epoch 103/200\n",
      "500/500 [==============================] - 0s 125us/step - loss: 0.3853 - accuracy: 0.7660 - val_loss: 0.3949 - val_accuracy: 0.7260\n",
      "Epoch 104/200\n",
      "500/500 [==============================] - 0s 124us/step - loss: 0.3820 - accuracy: 0.7600 - val_loss: 0.4015 - val_accuracy: 0.7420\n",
      "Epoch 105/200\n",
      "500/500 [==============================] - 0s 130us/step - loss: 0.3855 - accuracy: 0.7600 - val_loss: 0.4009 - val_accuracy: 0.7240\n",
      "Epoch 106/200\n",
      "500/500 [==============================] - 0s 131us/step - loss: 0.3826 - accuracy: 0.7580 - val_loss: 0.3951 - val_accuracy: 0.7300\n",
      "Epoch 107/200\n",
      "500/500 [==============================] - 0s 124us/step - loss: 0.3830 - accuracy: 0.7660 - val_loss: 0.4038 - val_accuracy: 0.7160\n",
      "Epoch 108/200\n",
      "500/500 [==============================] - 0s 128us/step - loss: 0.3749 - accuracy: 0.7540 - val_loss: 0.3914 - val_accuracy: 0.7240\n",
      "Epoch 109/200\n",
      "500/500 [==============================] - 0s 124us/step - loss: 0.3760 - accuracy: 0.7660 - val_loss: 0.3926 - val_accuracy: 0.7300\n",
      "Epoch 110/200\n",
      "500/500 [==============================] - 0s 124us/step - loss: 0.3779 - accuracy: 0.7760 - val_loss: 0.3989 - val_accuracy: 0.7300\n",
      "Epoch 111/200\n",
      "500/500 [==============================] - 0s 129us/step - loss: 0.3799 - accuracy: 0.7600 - val_loss: 0.3933 - val_accuracy: 0.7340\n",
      "Epoch 112/200\n",
      "500/500 [==============================] - 0s 117us/step - loss: 0.3744 - accuracy: 0.7640 - val_loss: 0.3902 - val_accuracy: 0.7300\n",
      "Epoch 113/200\n"
     ]
    },
    {
     "name": "stdout",
     "output_type": "stream",
     "text": [
      "500/500 [==============================] - 0s 127us/step - loss: 0.3743 - accuracy: 0.7680 - val_loss: 0.3905 - val_accuracy: 0.7280\n",
      "Epoch 114/200\n",
      "500/500 [==============================] - 0s 112us/step - loss: 0.3737 - accuracy: 0.7620 - val_loss: 0.3932 - val_accuracy: 0.7240\n",
      "Epoch 115/200\n",
      "500/500 [==============================] - 0s 122us/step - loss: 0.3746 - accuracy: 0.7580 - val_loss: 0.3942 - val_accuracy: 0.7300\n",
      "Epoch 116/200\n",
      "500/500 [==============================] - 0s 121us/step - loss: 0.3722 - accuracy: 0.7680 - val_loss: 0.3914 - val_accuracy: 0.7280\n",
      "Epoch 117/200\n",
      "500/500 [==============================] - 0s 109us/step - loss: 0.3700 - accuracy: 0.7700 - val_loss: 0.3921 - val_accuracy: 0.7340\n",
      "Epoch 118/200\n",
      "500/500 [==============================] - 0s 100us/step - loss: 0.3772 - accuracy: 0.7780 - val_loss: 0.3889 - val_accuracy: 0.7400\n",
      "Epoch 119/200\n",
      "500/500 [==============================] - 0s 101us/step - loss: 0.3782 - accuracy: 0.7740 - val_loss: 0.3975 - val_accuracy: 0.7360\n",
      "Epoch 120/200\n",
      "500/500 [==============================] - 0s 111us/step - loss: 0.3681 - accuracy: 0.7680 - val_loss: 0.3865 - val_accuracy: 0.7320\n",
      "Epoch 121/200\n",
      "500/500 [==============================] - 0s 100us/step - loss: 0.3694 - accuracy: 0.7720 - val_loss: 0.3852 - val_accuracy: 0.7300\n",
      "Epoch 122/200\n",
      "500/500 [==============================] - 0s 98us/step - loss: 0.3738 - accuracy: 0.7740 - val_loss: 0.3884 - val_accuracy: 0.7340\n",
      "Epoch 123/200\n",
      "500/500 [==============================] - 0s 95us/step - loss: 0.3758 - accuracy: 0.7680 - val_loss: 0.3871 - val_accuracy: 0.7320\n",
      "Epoch 124/200\n",
      "500/500 [==============================] - 0s 104us/step - loss: 0.3660 - accuracy: 0.7720 - val_loss: 0.3883 - val_accuracy: 0.7320\n",
      "Epoch 125/200\n",
      "500/500 [==============================] - 0s 108us/step - loss: 0.3678 - accuracy: 0.7780 - val_loss: 0.3835 - val_accuracy: 0.7340\n",
      "Epoch 126/200\n",
      "500/500 [==============================] - 0s 110us/step - loss: 0.3691 - accuracy: 0.7680 - val_loss: 0.3923 - val_accuracy: 0.7280\n",
      "Epoch 127/200\n",
      "500/500 [==============================] - 0s 105us/step - loss: 0.3712 - accuracy: 0.7720 - val_loss: 0.3834 - val_accuracy: 0.7380\n",
      "Epoch 128/200\n",
      "500/500 [==============================] - 0s 104us/step - loss: 0.3624 - accuracy: 0.7700 - val_loss: 0.3920 - val_accuracy: 0.7440\n",
      "Epoch 129/200\n",
      "500/500 [==============================] - 0s 100us/step - loss: 0.3687 - accuracy: 0.7720 - val_loss: 0.3881 - val_accuracy: 0.7340\n",
      "Epoch 130/200\n",
      "500/500 [==============================] - 0s 101us/step - loss: 0.3672 - accuracy: 0.7780 - val_loss: 0.3862 - val_accuracy: 0.7320\n",
      "Epoch 131/200\n",
      "500/500 [==============================] - 0s 100us/step - loss: 0.3650 - accuracy: 0.7780 - val_loss: 0.3798 - val_accuracy: 0.7340\n",
      "Epoch 132/200\n",
      "500/500 [==============================] - 0s 99us/step - loss: 0.3653 - accuracy: 0.7780 - val_loss: 0.3870 - val_accuracy: 0.7380\n",
      "Epoch 133/200\n",
      "500/500 [==============================] - 0s 89us/step - loss: 0.3647 - accuracy: 0.7700 - val_loss: 0.3820 - val_accuracy: 0.7380\n",
      "Epoch 134/200\n",
      "500/500 [==============================] - 0s 113us/step - loss: 0.3628 - accuracy: 0.7760 - val_loss: 0.3824 - val_accuracy: 0.7420\n",
      "Epoch 135/200\n",
      "500/500 [==============================] - 0s 96us/step - loss: 0.3663 - accuracy: 0.7780 - val_loss: 0.3987 - val_accuracy: 0.7380\n",
      "Epoch 136/200\n",
      "500/500 [==============================] - 0s 104us/step - loss: 0.3658 - accuracy: 0.7760 - val_loss: 0.3778 - val_accuracy: 0.7420\n",
      "Epoch 137/200\n",
      "500/500 [==============================] - 0s 96us/step - loss: 0.3652 - accuracy: 0.7760 - val_loss: 0.3774 - val_accuracy: 0.7360\n",
      "Epoch 138/200\n",
      "500/500 [==============================] - 0s 95us/step - loss: 0.3656 - accuracy: 0.7820 - val_loss: 0.3761 - val_accuracy: 0.7380\n",
      "Epoch 139/200\n",
      "500/500 [==============================] - 0s 88us/step - loss: 0.3591 - accuracy: 0.7740 - val_loss: 0.3857 - val_accuracy: 0.7360\n",
      "Epoch 140/200\n",
      "500/500 [==============================] - 0s 101us/step - loss: 0.3694 - accuracy: 0.7700 - val_loss: 0.3761 - val_accuracy: 0.7420\n",
      "Epoch 141/200\n",
      "500/500 [==============================] - 0s 96us/step - loss: 0.3655 - accuracy: 0.7760 - val_loss: 0.3869 - val_accuracy: 0.7440\n",
      "Epoch 142/200\n",
      "500/500 [==============================] - 0s 108us/step - loss: 0.3721 - accuracy: 0.7740 - val_loss: 0.3849 - val_accuracy: 0.7400\n",
      "Epoch 143/200\n",
      "500/500 [==============================] - 0s 95us/step - loss: 0.3563 - accuracy: 0.7820 - val_loss: 0.3839 - val_accuracy: 0.7440\n",
      "Epoch 144/200\n",
      "500/500 [==============================] - 0s 104us/step - loss: 0.3635 - accuracy: 0.7720 - val_loss: 0.3766 - val_accuracy: 0.7440\n",
      "Epoch 145/200\n",
      "500/500 [==============================] - 0s 101us/step - loss: 0.3604 - accuracy: 0.7780 - val_loss: 0.3924 - val_accuracy: 0.7380\n",
      "Epoch 146/200\n",
      "500/500 [==============================] - 0s 104us/step - loss: 0.3747 - accuracy: 0.7820 - val_loss: 0.3737 - val_accuracy: 0.7640\n",
      "Epoch 147/200\n",
      "500/500 [==============================] - 0s 100us/step - loss: 0.3702 - accuracy: 0.7720 - val_loss: 0.3783 - val_accuracy: 0.7380\n",
      "Epoch 148/200\n",
      "500/500 [==============================] - 0s 99us/step - loss: 0.3589 - accuracy: 0.7780 - val_loss: 0.3801 - val_accuracy: 0.7380\n",
      "Epoch 149/200\n",
      "500/500 [==============================] - 0s 99us/step - loss: 0.3645 - accuracy: 0.7660 - val_loss: 0.3783 - val_accuracy: 0.7440\n",
      "Epoch 150/200\n",
      "500/500 [==============================] - 0s 100us/step - loss: 0.3626 - accuracy: 0.7800 - val_loss: 0.3750 - val_accuracy: 0.7540\n",
      "Epoch 151/200\n",
      "500/500 [==============================] - 0s 102us/step - loss: 0.3580 - accuracy: 0.7760 - val_loss: 0.3828 - val_accuracy: 0.7440\n",
      "Epoch 152/200\n",
      "500/500 [==============================] - 0s 100us/step - loss: 0.3575 - accuracy: 0.7780 - val_loss: 0.3728 - val_accuracy: 0.7400\n",
      "Epoch 153/200\n",
      "500/500 [==============================] - 0s 101us/step - loss: 0.3585 - accuracy: 0.7760 - val_loss: 0.3766 - val_accuracy: 0.7440\n",
      "Epoch 154/200\n",
      "500/500 [==============================] - 0s 104us/step - loss: 0.3595 - accuracy: 0.7900 - val_loss: 0.3812 - val_accuracy: 0.7460\n",
      "Epoch 155/200\n",
      "500/500 [==============================] - 0s 101us/step - loss: 0.3663 - accuracy: 0.7780 - val_loss: 0.3815 - val_accuracy: 0.7440\n",
      "Epoch 156/200\n",
      "500/500 [==============================] - 0s 101us/step - loss: 0.3660 - accuracy: 0.7680 - val_loss: 0.3812 - val_accuracy: 0.7480\n",
      "Epoch 157/200\n",
      "500/500 [==============================] - 0s 99us/step - loss: 0.3578 - accuracy: 0.7860 - val_loss: 0.3723 - val_accuracy: 0.7420\n",
      "Epoch 158/200\n",
      "500/500 [==============================] - 0s 98us/step - loss: 0.3534 - accuracy: 0.7820 - val_loss: 0.3742 - val_accuracy: 0.7540\n",
      "Epoch 159/200\n",
      "500/500 [==============================] - 0s 96us/step - loss: 0.3596 - accuracy: 0.7860 - val_loss: 0.3814 - val_accuracy: 0.7380\n",
      "Epoch 160/200\n",
      "500/500 [==============================] - 0s 108us/step - loss: 0.3670 - accuracy: 0.7680 - val_loss: 0.3714 - val_accuracy: 0.7540\n",
      "Epoch 161/200\n",
      "500/500 [==============================] - 0s 105us/step - loss: 0.3579 - accuracy: 0.7940 - val_loss: 0.3831 - val_accuracy: 0.7560\n",
      "Epoch 162/200\n",
      "500/500 [==============================] - 0s 92us/step - loss: 0.3595 - accuracy: 0.7880 - val_loss: 0.3711 - val_accuracy: 0.7580\n",
      "Epoch 163/200\n",
      "500/500 [==============================] - 0s 98us/step - loss: 0.3540 - accuracy: 0.7820 - val_loss: 0.3849 - val_accuracy: 0.7340\n",
      "Epoch 164/200\n",
      "500/500 [==============================] - 0s 96us/step - loss: 0.3564 - accuracy: 0.7880 - val_loss: 0.3750 - val_accuracy: 0.7460\n",
      "Epoch 165/200\n",
      "500/500 [==============================] - 0s 93us/step - loss: 0.3554 - accuracy: 0.7820 - val_loss: 0.3694 - val_accuracy: 0.7500\n",
      "Epoch 166/200\n",
      "500/500 [==============================] - 0s 96us/step - loss: 0.3587 - accuracy: 0.7800 - val_loss: 0.3774 - val_accuracy: 0.7420\n",
      "Epoch 167/200\n",
      "500/500 [==============================] - 0s 96us/step - loss: 0.3621 - accuracy: 0.7860 - val_loss: 0.3726 - val_accuracy: 0.7480\n",
      "Epoch 168/200\n",
      "500/500 [==============================] - 0s 100us/step - loss: 0.3599 - accuracy: 0.7880 - val_loss: 0.3702 - val_accuracy: 0.7440\n"
     ]
    },
    {
     "name": "stdout",
     "output_type": "stream",
     "text": [
      "Epoch 169/200\n",
      "500/500 [==============================] - 0s 103us/step - loss: 0.3545 - accuracy: 0.7860 - val_loss: 0.3814 - val_accuracy: 0.7500\n",
      "Epoch 170/200\n",
      "500/500 [==============================] - 0s 99us/step - loss: 0.3559 - accuracy: 0.7920 - val_loss: 0.3714 - val_accuracy: 0.7620\n",
      "Epoch 171/200\n",
      "500/500 [==============================] - 0s 88us/step - loss: 0.3539 - accuracy: 0.7900 - val_loss: 0.3766 - val_accuracy: 0.7420\n",
      "Epoch 172/200\n",
      "500/500 [==============================] - 0s 100us/step - loss: 0.3514 - accuracy: 0.7920 - val_loss: 0.3710 - val_accuracy: 0.7500\n",
      "Epoch 173/200\n",
      "500/500 [==============================] - 0s 89us/step - loss: 0.3571 - accuracy: 0.7800 - val_loss: 0.3751 - val_accuracy: 0.7460\n",
      "Epoch 174/200\n",
      "500/500 [==============================] - 0s 100us/step - loss: 0.3488 - accuracy: 0.7940 - val_loss: 0.3802 - val_accuracy: 0.7540\n",
      "Epoch 175/200\n",
      "500/500 [==============================] - 0s 96us/step - loss: 0.3547 - accuracy: 0.7840 - val_loss: 0.3719 - val_accuracy: 0.7500\n",
      "Epoch 176/200\n",
      "500/500 [==============================] - 0s 100us/step - loss: 0.3535 - accuracy: 0.7860 - val_loss: 0.3916 - val_accuracy: 0.7480\n",
      "Epoch 177/200\n",
      "500/500 [==============================] - 0s 89us/step - loss: 0.3544 - accuracy: 0.7800 - val_loss: 0.3694 - val_accuracy: 0.7500\n",
      "Epoch 178/200\n",
      "500/500 [==============================] - 0s 98us/step - loss: 0.3587 - accuracy: 0.7840 - val_loss: 0.3681 - val_accuracy: 0.7440\n",
      "Epoch 179/200\n",
      "500/500 [==============================] - 0s 94us/step - loss: 0.3537 - accuracy: 0.7880 - val_loss: 0.3725 - val_accuracy: 0.7460\n",
      "Epoch 180/200\n",
      "500/500 [==============================] - 0s 100us/step - loss: 0.3544 - accuracy: 0.7880 - val_loss: 0.3722 - val_accuracy: 0.7560\n",
      "Epoch 181/200\n",
      "500/500 [==============================] - 0s 92us/step - loss: 0.3550 - accuracy: 0.7800 - val_loss: 0.3781 - val_accuracy: 0.7420\n",
      "Epoch 182/200\n",
      "500/500 [==============================] - 0s 103us/step - loss: 0.3579 - accuracy: 0.7800 - val_loss: 0.3605 - val_accuracy: 0.7580\n",
      "Epoch 183/200\n",
      "500/500 [==============================] - 0s 87us/step - loss: 0.3516 - accuracy: 0.7900 - val_loss: 0.3679 - val_accuracy: 0.7580\n",
      "Epoch 184/200\n",
      "500/500 [==============================] - 0s 92us/step - loss: 0.3460 - accuracy: 0.7900 - val_loss: 0.3733 - val_accuracy: 0.7440\n",
      "Epoch 185/200\n",
      "500/500 [==============================] - 0s 102us/step - loss: 0.3506 - accuracy: 0.7960 - val_loss: 0.3716 - val_accuracy: 0.7520\n",
      "Epoch 186/200\n",
      "500/500 [==============================] - 0s 103us/step - loss: 0.3514 - accuracy: 0.7980 - val_loss: 0.3655 - val_accuracy: 0.7520\n",
      "Epoch 187/200\n",
      "500/500 [==============================] - 0s 95us/step - loss: 0.3595 - accuracy: 0.7760 - val_loss: 0.3743 - val_accuracy: 0.7580\n",
      "Epoch 188/200\n",
      "500/500 [==============================] - 0s 92us/step - loss: 0.3591 - accuracy: 0.7820 - val_loss: 0.3644 - val_accuracy: 0.7600\n",
      "Epoch 189/200\n",
      "500/500 [==============================] - 0s 97us/step - loss: 0.3620 - accuracy: 0.7920 - val_loss: 0.3685 - val_accuracy: 0.7560\n",
      "Epoch 190/200\n",
      "500/500 [==============================] - 0s 102us/step - loss: 0.3610 - accuracy: 0.7820 - val_loss: 0.3672 - val_accuracy: 0.7540\n",
      "Epoch 191/200\n",
      "500/500 [==============================] - 0s 91us/step - loss: 0.3468 - accuracy: 0.7940 - val_loss: 0.3686 - val_accuracy: 0.7520\n",
      "Epoch 192/200\n",
      "500/500 [==============================] - 0s 97us/step - loss: 0.3472 - accuracy: 0.7920 - val_loss: 0.3689 - val_accuracy: 0.7520\n",
      "Epoch 193/200\n",
      "500/500 [==============================] - 0s 98us/step - loss: 0.3469 - accuracy: 0.7940 - val_loss: 0.3684 - val_accuracy: 0.7500\n",
      "Epoch 194/200\n",
      "500/500 [==============================] - 0s 97us/step - loss: 0.3520 - accuracy: 0.7940 - val_loss: 0.3641 - val_accuracy: 0.7560\n",
      "Epoch 195/200\n",
      "500/500 [==============================] - 0s 110us/step - loss: 0.3598 - accuracy: 0.7800 - val_loss: 0.3690 - val_accuracy: 0.7640\n",
      "Epoch 196/200\n",
      "500/500 [==============================] - 0s 104us/step - loss: 0.3486 - accuracy: 0.7920 - val_loss: 0.3670 - val_accuracy: 0.7520\n",
      "Epoch 197/200\n",
      "500/500 [==============================] - 0s 95us/step - loss: 0.3460 - accuracy: 0.8020 - val_loss: 0.3630 - val_accuracy: 0.7620\n",
      "Epoch 198/200\n",
      "500/500 [==============================] - 0s 98us/step - loss: 0.3427 - accuracy: 0.8000 - val_loss: 0.3690 - val_accuracy: 0.7580\n",
      "Epoch 199/200\n",
      "500/500 [==============================] - 0s 96us/step - loss: 0.3440 - accuracy: 0.7880 - val_loss: 0.3738 - val_accuracy: 0.7460\n",
      "Epoch 200/200\n",
      "500/500 [==============================] - 0s 103us/step - loss: 0.3457 - accuracy: 0.7940 - val_loss: 0.3664 - val_accuracy: 0.7580\n"
     ]
    }
   ],
   "source": [
    "h=model.fit(trainX,trainy,validation_data=(testX,testy),\n",
    "           epochs=200,\n",
    "           verbose=1)"
   ]
  },
  {
   "cell_type": "code",
   "execution_count": 217,
   "metadata": {},
   "outputs": [
    {
     "data": {
      "text/plain": [
       "['loss', 'accuracy']"
      ]
     },
     "execution_count": 217,
     "metadata": {},
     "output_type": "execute_result"
    }
   ],
   "source": [
    "model.metrics_names"
   ]
  },
  {
   "cell_type": "code",
   "execution_count": 224,
   "metadata": {},
   "outputs": [
    {
     "name": "stdout",
     "output_type": "stream",
     "text": [
      "500/500 [==============================] - 0s 44us/step\n"
     ]
    }
   ],
   "source": [
    "#_,train_acc=model.evaluate(trainX,trainy, verbose=1)"
   ]
  },
  {
   "cell_type": "code",
   "execution_count": 221,
   "metadata": {},
   "outputs": [
    {
     "name": "stdout",
     "output_type": "stream",
     "text": [
      "500/500 [==============================] - 0s 42us/step\n"
     ]
    }
   ],
   "source": [
    "#_,test_acc=model.evaluate(testX,testy, verbose= 1)"
   ]
  },
  {
   "cell_type": "code",
   "execution_count": 225,
   "metadata": {},
   "outputs": [
    {
     "name": "stdout",
     "output_type": "stream",
     "text": [
      "Train: 0.7980 Test: 0.7580\n"
     ]
    }
   ],
   "source": [
    "#print('Train: {:.4f} Test: {:.4f}'.format(train_acc, test_acc))"
   ]
  },
  {
   "cell_type": "code",
   "execution_count": 227,
   "metadata": {},
   "outputs": [
    {
     "data": {
      "text/plain": [
       "dict_keys(['val_loss', 'val_accuracy', 'loss', 'accuracy'])"
      ]
     },
     "execution_count": 227,
     "metadata": {},
     "output_type": "execute_result"
    }
   ],
   "source": [
    "h.history.keys()"
   ]
  },
  {
   "cell_type": "code",
   "execution_count": 239,
   "metadata": {},
   "outputs": [
    {
     "data": {
      "image/png": "[encoded data removed]",
      "text/plain": [
       "<Figure size 720x360 with 2 Axes>"
      ]
     },
     "metadata": {
      "needs_background": "light"
     },
     "output_type": "display_data"
    }
   ],
   "source": [
    "fig =plt.figure(figsize=(10,5))\n",
    "plt.subplot(1,2,1)\n",
    "plt.title('ACCURACY')\n",
    "plt.plot(h.history['accuracy'], label='train')\n",
    "plt.plot(h.history['val_accuracy'], label = 'test')\n",
    "plt.legend()\n",
    "plt.subplot(1,2,2)\n",
    "plt.title(\"LOSS\")\n",
    "plt.plot(h.history['loss'], label='train')\n",
    "plt.plot(h.history['val_loss'], label='test')\n",
    "plt.legend()\n",
    "plt.show()"
   ]
  },
  {
   "cell_type": "markdown",
   "metadata": {},
   "source": [
    "# Squared Hinge Loss"
   ]
  },
  {
   "cell_type": "code",
   "execution_count": 244,
   "metadata": {},
   "outputs": [],
   "source": [
    "X,y = make_circles(n_samples=1000, noise=0.1, random_state=1)\n",
    "y[where(y==0)]= -1"
   ]
  },
  {
   "cell_type": "code",
   "execution_count": 246,
   "metadata": {},
   "outputs": [],
   "source": [
    "n_train=500\n",
    "trainX,testX = X[:n_train,:],X[n_train:,:]\n",
    "trainy,testy=y[:n_train],y[n_train:]"
   ]
  },
  {
   "cell_type": "code",
   "execution_count": 259,
   "metadata": {},
   "outputs": [
    {
     "name": "stdout",
     "output_type": "stream",
     "text": [
      "Train on 500 samples, validate on 500 samples\n",
      "Epoch 1/200\n",
      "500/500 [==============================] - 0s 532us/step - loss: 1.0333 - accuracy: 0.0320 - val_loss: 0.9795 - val_accuracy: 0.0000e+00\n",
      "Epoch 2/200\n",
      "500/500 [==============================] - 0s 73us/step - loss: 0.9440 - accuracy: 0.0140 - val_loss: 0.8950 - val_accuracy: 0.0080\n",
      "Epoch 3/200\n",
      "500/500 [==============================] - 0s 92us/step - loss: 0.8864 - accuracy: 0.0240 - val_loss: 0.8386 - val_accuracy: 0.0000e+00\n",
      "Epoch 4/200\n",
      "500/500 [==============================] - 0s 87us/step - loss: 0.8553 - accuracy: 0.0700 - val_loss: 0.8436 - val_accuracy: 0.0340\n",
      "Epoch 5/200\n",
      "500/500 [==============================] - 0s 94us/step - loss: 0.8295 - accuracy: 0.0620 - val_loss: 0.7340 - val_accuracy: 0.0400\n",
      "Epoch 6/200\n",
      "500/500 [==============================] - 0s 92us/step - loss: 0.7919 - accuracy: 0.1200 - val_loss: 0.8021 - val_accuracy: 0.2240\n",
      "Epoch 7/200\n",
      "500/500 [==============================] - 0s 84us/step - loss: 0.7245 - accuracy: 0.1440 - val_loss: 0.7159 - val_accuracy: 0.1560\n",
      "Epoch 8/200\n",
      "500/500 [==============================] - 0s 83us/step - loss: 0.6732 - accuracy: 0.1540 - val_loss: 0.6481 - val_accuracy: 0.1860\n",
      "Epoch 9/200\n",
      "500/500 [==============================] - 0s 95us/step - loss: 0.6666 - accuracy: 0.2180 - val_loss: 0.6139 - val_accuracy: 0.2220\n",
      "Epoch 10/200\n",
      "500/500 [==============================] - 0s 95us/step - loss: 0.6299 - accuracy: 0.2780 - val_loss: 0.6362 - val_accuracy: 0.2640\n",
      "Epoch 11/200\n",
      "500/500 [==============================] - 0s 92us/step - loss: 0.6382 - accuracy: 0.2740 - val_loss: 0.6401 - val_accuracy: 0.2780\n",
      "Epoch 12/200\n",
      "500/500 [==============================] - 0s 89us/step - loss: 0.5967 - accuracy: 0.3220 - val_loss: 0.5987 - val_accuracy: 0.3240\n",
      "Epoch 13/200\n",
      "500/500 [==============================] - 0s 89us/step - loss: 0.5843 - accuracy: 0.3500 - val_loss: 0.5484 - val_accuracy: 0.3420\n",
      "Epoch 14/200\n",
      "500/500 [==============================] - 0s 81us/step - loss: 0.5712 - accuracy: 0.3500 - val_loss: 0.5371 - val_accuracy: 0.3700\n",
      "Epoch 15/200\n",
      "500/500 [==============================] - 0s 85us/step - loss: 0.5661 - accuracy: 0.3620 - val_loss: 0.5290 - val_accuracy: 0.3880\n",
      "Epoch 16/200\n",
      "500/500 [==============================] - 0s 89us/step - loss: 0.5605 - accuracy: 0.3980 - val_loss: 0.5320 - val_accuracy: 0.4120\n",
      "Epoch 17/200\n",
      "500/500 [==============================] - 0s 83us/step - loss: 0.5621 - accuracy: 0.4280 - val_loss: 0.5214 - val_accuracy: 0.4200\n",
      "Epoch 18/200\n",
      "500/500 [==============================] - 0s 81us/step - loss: 0.5431 - accuracy: 0.4460 - val_loss: 0.5339 - val_accuracy: 0.4220\n",
      "Epoch 19/200\n",
      "500/500 [==============================] - 0s 79us/step - loss: 0.5642 - accuracy: 0.4500 - val_loss: 0.5398 - val_accuracy: 0.4340\n",
      "Epoch 20/200\n",
      "500/500 [==============================] - 0s 88us/step - loss: 0.5794 - accuracy: 0.4600 - val_loss: 0.4984 - val_accuracy: 0.4540\n",
      "Epoch 21/200\n",
      "500/500 [==============================] - 0s 90us/step - loss: 0.5384 - accuracy: 0.4920 - val_loss: 0.5111 - val_accuracy: 0.4740\n",
      "Epoch 22/200\n",
      "500/500 [==============================] - 0s 89us/step - loss: 0.5396 - accuracy: 0.4860 - val_loss: 0.5033 - val_accuracy: 0.5080\n",
      "Epoch 23/200\n",
      "500/500 [==============================] - 0s 82us/step - loss: 0.5214 - accuracy: 0.5060 - val_loss: 0.5371 - val_accuracy: 0.5040\n",
      "Epoch 24/200\n",
      "500/500 [==============================] - 0s 92us/step - loss: 0.5343 - accuracy: 0.5160 - val_loss: 0.5026 - val_accuracy: 0.5120\n",
      "Epoch 25/200\n",
      "500/500 [==============================] - 0s 93us/step - loss: 0.5284 - accuracy: 0.5440 - val_loss: 0.5241 - val_accuracy: 0.5020\n",
      "Epoch 26/200\n",
      "500/500 [==============================] - 0s 93us/step - loss: 0.5444 - accuracy: 0.5380 - val_loss: 0.5201 - val_accuracy: 0.5080\n",
      "Epoch 27/200\n",
      "500/500 [==============================] - 0s 87us/step - loss: 0.5185 - accuracy: 0.5200 - val_loss: 0.4977 - val_accuracy: 0.5280\n",
      "Epoch 28/200\n",
      "500/500 [==============================] - 0s 85us/step - loss: 0.5304 - accuracy: 0.5420 - val_loss: 0.5319 - val_accuracy: 0.5300\n",
      "Epoch 29/200\n",
      "500/500 [==============================] - 0s 92us/step - loss: 0.5335 - accuracy: 0.5500 - val_loss: 0.4833 - val_accuracy: 0.5400\n",
      "Epoch 30/200\n",
      "500/500 [==============================] - 0s 86us/step - loss: 0.5361 - accuracy: 0.5540 - val_loss: 0.5242 - val_accuracy: 0.5140\n",
      "Epoch 31/200\n",
      "500/500 [==============================] - 0s 85us/step - loss: 0.4961 - accuracy: 0.5800 - val_loss: 0.4813 - val_accuracy: 0.5360\n",
      "Epoch 32/200\n",
      "500/500 [==============================] - 0s 80us/step - loss: 0.5005 - accuracy: 0.5720 - val_loss: 0.4763 - val_accuracy: 0.5320\n",
      "Epoch 33/200\n",
      "500/500 [==============================] - 0s 87us/step - loss: 0.5114 - accuracy: 0.5660 - val_loss: 0.5018 - val_accuracy: 0.5460\n",
      "Epoch 34/200\n",
      "500/500 [==============================] - 0s 84us/step - loss: 0.5061 - accuracy: 0.5780 - val_loss: 0.4565 - val_accuracy: 0.5440\n",
      "Epoch 35/200\n",
      "500/500 [==============================] - 0s 86us/step - loss: 0.4949 - accuracy: 0.5620 - val_loss: 0.4766 - val_accuracy: 0.5720\n",
      "Epoch 36/200\n",
      "500/500 [==============================] - 0s 80us/step - loss: 0.4832 - accuracy: 0.5940 - val_loss: 0.4692 - val_accuracy: 0.5520\n",
      "Epoch 37/200\n",
      "500/500 [==============================] - 0s 88us/step - loss: 0.5025 - accuracy: 0.5920 - val_loss: 0.5099 - val_accuracy: 0.5620\n",
      "Epoch 38/200\n",
      "500/500 [==============================] - 0s 92us/step - loss: 0.5377 - accuracy: 0.5720 - val_loss: 0.4867 - val_accuracy: 0.5520\n",
      "Epoch 39/200\n",
      "500/500 [==============================] - 0s 110us/step - loss: 0.4868 - accuracy: 0.5860 - val_loss: 0.4630 - val_accuracy: 0.5700\n",
      "Epoch 40/200\n",
      "500/500 [==============================] - 0s 88us/step - loss: 0.5131 - accuracy: 0.5640 - val_loss: 0.4718 - val_accuracy: 0.5760\n",
      "Epoch 41/200\n",
      "500/500 [==============================] - 0s 85us/step - loss: 0.4875 - accuracy: 0.5880 - val_loss: 0.4826 - val_accuracy: 0.5580\n",
      "Epoch 42/200\n",
      "500/500 [==============================] - 0s 81us/step - loss: 0.5034 - accuracy: 0.6020 - val_loss: 0.5402 - val_accuracy: 0.5740\n",
      "Epoch 43/200\n",
      "500/500 [==============================] - 0s 79us/step - loss: 0.5428 - accuracy: 0.5980 - val_loss: 0.4764 - val_accuracy: 0.5920\n",
      "Epoch 44/200\n",
      "500/500 [==============================] - 0s 86us/step - loss: 0.4924 - accuracy: 0.6000 - val_loss: 0.4900 - val_accuracy: 0.5660\n",
      "Epoch 45/200\n",
      "500/500 [==============================] - 0s 99us/step - loss: 0.4828 - accuracy: 0.6000 - val_loss: 0.4644 - val_accuracy: 0.5840\n",
      "Epoch 46/200\n",
      "500/500 [==============================] - 0s 91us/step - loss: 0.4941 - accuracy: 0.6020 - val_loss: 0.5042 - val_accuracy: 0.5940\n",
      "Epoch 47/200\n",
      "500/500 [==============================] - 0s 92us/step - loss: 0.5093 - accuracy: 0.5980 - val_loss: 0.4651 - val_accuracy: 0.6060\n",
      "Epoch 48/200\n",
      "500/500 [==============================] - 0s 85us/step - loss: 0.4920 - accuracy: 0.6160 - val_loss: 0.4618 - val_accuracy: 0.6140\n",
      "Epoch 49/200\n",
      "500/500 [==============================] - 0s 84us/step - loss: 0.4878 - accuracy: 0.6140 - val_loss: 0.4787 - val_accuracy: 0.6060\n",
      "Epoch 50/200\n",
      "500/500 [==============================] - 0s 90us/step - loss: 0.5084 - accuracy: 0.6140 - val_loss: 0.4618 - val_accuracy: 0.5840\n",
      "Epoch 51/200\n",
      "500/500 [==============================] - 0s 87us/step - loss: 0.4824 - accuracy: 0.6060 - val_loss: 0.4920 - val_accuracy: 0.6280\n",
      "Epoch 52/200\n",
      "500/500 [==============================] - 0s 91us/step - loss: 0.4955 - accuracy: 0.6140 - val_loss: 0.4677 - val_accuracy: 0.5980\n",
      "Epoch 53/200\n",
      "500/500 [==============================] - 0s 89us/step - loss: 0.4883 - accuracy: 0.6240 - val_loss: 0.4520 - val_accuracy: 0.6040\n",
      "Epoch 54/200\n",
      "500/500 [==============================] - 0s 87us/step - loss: 0.4907 - accuracy: 0.6180 - val_loss: 0.4550 - val_accuracy: 0.6080\n",
      "Epoch 55/200\n",
      "500/500 [==============================] - 0s 74us/step - loss: 0.4740 - accuracy: 0.6220 - val_loss: 0.4536 - val_accuracy: 0.5960\n",
      "Epoch 56/200\n",
      "500/500 [==============================] - 0s 77us/step - loss: 0.5011 - accuracy: 0.6260 - val_loss: 0.4604 - val_accuracy: 0.6060\n",
      "Epoch 57/200\n",
      "500/500 [==============================] - 0s 86us/step - loss: 0.4951 - accuracy: 0.6280 - val_loss: 0.5019 - val_accuracy: 0.5980\n",
      "Epoch 58/200\n",
      "500/500 [==============================] - 0s 89us/step - loss: 0.4903 - accuracy: 0.6280 - val_loss: 0.4505 - val_accuracy: 0.5980\n",
      "Epoch 59/200\n",
      "500/500 [==============================] - 0s 81us/step - loss: 0.5085 - accuracy: 0.6140 - val_loss: 0.4641 - val_accuracy: 0.6440\n",
      "Epoch 60/200\n",
      "500/500 [==============================] - 0s 81us/step - loss: 0.5307 - accuracy: 0.6280 - val_loss: 0.4984 - val_accuracy: 0.6380\n",
      "Epoch 61/200\n",
      "500/500 [==============================] - 0s 99us/step - loss: 0.4829 - accuracy: 0.6160 - val_loss: 0.4854 - val_accuracy: 0.5860\n",
      "Epoch 62/200\n",
      "500/500 [==============================] - 0s 117us/step - loss: 0.4947 - accuracy: 0.6300 - val_loss: 0.4848 - val_accuracy: 0.6060\n",
      "Epoch 63/200\n",
      "500/500 [==============================] - 0s 113us/step - loss: 0.4761 - accuracy: 0.6420 - val_loss: 0.4491 - val_accuracy: 0.6080\n",
      "Epoch 64/200\n",
      "500/500 [==============================] - 0s 92us/step - loss: 0.4830 - accuracy: 0.6420 - val_loss: 0.4711 - val_accuracy: 0.6060\n",
      "Epoch 65/200\n",
      "500/500 [==============================] - 0s 103us/step - loss: 0.4737 - accuracy: 0.6260 - val_loss: 0.4855 - val_accuracy: 0.6380\n",
      "Epoch 66/200\n",
      "500/500 [==============================] - 0s 113us/step - loss: 0.4965 - accuracy: 0.6100 - val_loss: 0.4999 - val_accuracy: 0.6180\n",
      "Epoch 67/200\n",
      "500/500 [==============================] - 0s 81us/step - loss: 0.4992 - accuracy: 0.6380 - val_loss: 0.4444 - val_accuracy: 0.6240\n",
      "Epoch 68/200\n",
      "500/500 [==============================] - 0s 77us/step - loss: 0.4769 - accuracy: 0.6500 - val_loss: 0.4446 - val_accuracy: 0.6340\n",
      "Epoch 69/200\n",
      "500/500 [==============================] - 0s 74us/step - loss: 0.4775 - accuracy: 0.6440 - val_loss: 0.4483 - val_accuracy: 0.6280\n",
      "Epoch 70/200\n",
      "500/500 [==============================] - 0s 81us/step - loss: 0.4861 - accuracy: 0.6380 - val_loss: 0.4513 - val_accuracy: 0.6160\n",
      "Epoch 71/200\n",
      "500/500 [==============================] - 0s 80us/step - loss: 0.4794 - accuracy: 0.6380 - val_loss: 0.4487 - val_accuracy: 0.6420\n",
      "Epoch 72/200\n",
      "500/500 [==============================] - 0s 79us/step - loss: 0.4878 - accuracy: 0.6380 - val_loss: 0.4656 - val_accuracy: 0.6340\n",
      "Epoch 73/200\n",
      "500/500 [==============================] - 0s 74us/step - loss: 0.5006 - accuracy: 0.6420 - val_loss: 0.4664 - val_accuracy: 0.6540\n",
      "Epoch 74/200\n",
      "500/500 [==============================] - 0s 80us/step - loss: 0.5065 - accuracy: 0.6540 - val_loss: 0.4639 - val_accuracy: 0.6080\n",
      "Epoch 75/200\n",
      "500/500 [==============================] - 0s 80us/step - loss: 0.5028 - accuracy: 0.6320 - val_loss: 0.4567 - val_accuracy: 0.6120\n",
      "Epoch 76/200\n",
      "500/500 [==============================] - 0s 71us/step - loss: 0.4764 - accuracy: 0.6440 - val_loss: 0.4516 - val_accuracy: 0.6100\n",
      "Epoch 77/200\n",
      "500/500 [==============================] - 0s 71us/step - loss: 0.4822 - accuracy: 0.6580 - val_loss: 0.4921 - val_accuracy: 0.6100\n",
      "Epoch 78/200\n",
      "500/500 [==============================] - 0s 80us/step - loss: 0.4925 - accuracy: 0.6620 - val_loss: 0.4625 - val_accuracy: 0.6240\n",
      "Epoch 79/200\n",
      "500/500 [==============================] - 0s 79us/step - loss: 0.4959 - accuracy: 0.6300 - val_loss: 0.4367 - val_accuracy: 0.6400\n",
      "Epoch 80/200\n",
      "500/500 [==============================] - 0s 79us/step - loss: 0.4798 - accuracy: 0.6300 - val_loss: 0.4714 - val_accuracy: 0.5980\n",
      "Epoch 81/200\n",
      "500/500 [==============================] - 0s 85us/step - loss: 0.5547 - accuracy: 0.6200 - val_loss: 0.4769 - val_accuracy: 0.6560\n",
      "Epoch 82/200\n",
      "500/500 [==============================] - 0s 106us/step - loss: 0.5331 - accuracy: 0.6260 - val_loss: 0.4406 - val_accuracy: 0.6320\n",
      "Epoch 83/200\n",
      "500/500 [==============================] - 0s 121us/step - loss: 0.4869 - accuracy: 0.6380 - val_loss: 0.4708 - val_accuracy: 0.6440\n",
      "Epoch 84/200\n",
      "500/500 [==============================] - 0s 110us/step - loss: 0.4847 - accuracy: 0.6600 - val_loss: 0.4506 - val_accuracy: 0.6180\n",
      "Epoch 85/200\n",
      "500/500 [==============================] - 0s 84us/step - loss: 0.4872 - accuracy: 0.6400 - val_loss: 0.4488 - val_accuracy: 0.6160\n",
      "Epoch 86/200\n",
      "500/500 [==============================] - 0s 80us/step - loss: 0.5199 - accuracy: 0.6560 - val_loss: 0.4926 - val_accuracy: 0.6300\n",
      "Epoch 87/200\n",
      "500/500 [==============================] - 0s 81us/step - loss: 0.5144 - accuracy: 0.6620 - val_loss: 0.4348 - val_accuracy: 0.6380\n",
      "Epoch 88/200\n",
      "500/500 [==============================] - 0s 78us/step - loss: 0.4756 - accuracy: 0.6640 - val_loss: 0.4616 - val_accuracy: 0.6560\n",
      "Epoch 89/200\n",
      "500/500 [==============================] - 0s 73us/step - loss: 0.4770 - accuracy: 0.6400 - val_loss: 0.5164 - val_accuracy: 0.6420\n",
      "Epoch 90/200\n",
      "500/500 [==============================] - 0s 75us/step - loss: 0.5189 - accuracy: 0.6480 - val_loss: 0.4602 - val_accuracy: 0.6480\n",
      "Epoch 91/200\n",
      "500/500 [==============================] - 0s 77us/step - loss: 0.4823 - accuracy: 0.6480 - val_loss: 0.4487 - val_accuracy: 0.6500\n",
      "Epoch 92/200\n",
      "500/500 [==============================] - 0s 75us/step - loss: 0.5268 - accuracy: 0.6320 - val_loss: 0.5778 - val_accuracy: 0.6180\n",
      "Epoch 93/200\n",
      "500/500 [==============================] - 0s 75us/step - loss: 0.5069 - accuracy: 0.6380 - val_loss: 0.4884 - val_accuracy: 0.6240\n",
      "Epoch 94/200\n",
      "500/500 [==============================] - 0s 79us/step - loss: 0.4951 - accuracy: 0.6440 - val_loss: 0.4444 - val_accuracy: 0.6480\n",
      "Epoch 95/200\n",
      "500/500 [==============================] - 0s 82us/step - loss: 0.4662 - accuracy: 0.6760 - val_loss: 0.4533 - val_accuracy: 0.6280\n",
      "Epoch 96/200\n",
      "500/500 [==============================] - 0s 76us/step - loss: 0.4958 - accuracy: 0.6380 - val_loss: 0.4386 - val_accuracy: 0.6440\n",
      "Epoch 97/200\n",
      "500/500 [==============================] - 0s 77us/step - loss: 0.4861 - accuracy: 0.6520 - val_loss: 0.4646 - val_accuracy: 0.6680\n",
      "Epoch 98/200\n",
      "500/500 [==============================] - 0s 72us/step - loss: 0.4694 - accuracy: 0.6500 - val_loss: 0.4407 - val_accuracy: 0.6300\n",
      "Epoch 99/200\n",
      "500/500 [==============================] - 0s 79us/step - loss: 0.4859 - accuracy: 0.6580 - val_loss: 0.4618 - val_accuracy: 0.6220\n",
      "Epoch 100/200\n",
      "500/500 [==============================] - 0s 77us/step - loss: 0.4645 - accuracy: 0.6720 - val_loss: 0.4463 - val_accuracy: 0.6660\n",
      "Epoch 101/200\n",
      "500/500 [==============================] - 0s 83us/step - loss: 0.4658 - accuracy: 0.6640 - val_loss: 0.4407 - val_accuracy: 0.6500\n",
      "Epoch 102/200\n",
      "500/500 [==============================] - 0s 83us/step - loss: 0.4704 - accuracy: 0.6600 - val_loss: 0.4391 - val_accuracy: 0.6560\n",
      "Epoch 103/200\n",
      "500/500 [==============================] - 0s 79us/step - loss: 0.4850 - accuracy: 0.6520 - val_loss: 0.4415 - val_accuracy: 0.6420\n",
      "Epoch 104/200\n",
      "500/500 [==============================] - 0s 86us/step - loss: 0.4906 - accuracy: 0.6700 - val_loss: 0.5118 - val_accuracy: 0.6300\n",
      "Epoch 105/200\n",
      "500/500 [==============================] - 0s 82us/step - loss: 0.4829 - accuracy: 0.6500 - val_loss: 0.4746 - val_accuracy: 0.6440\n",
      "Epoch 106/200\n",
      "500/500 [==============================] - 0s 79us/step - loss: 0.4839 - accuracy: 0.6520 - val_loss: 0.4576 - val_accuracy: 0.6540\n",
      "Epoch 107/200\n",
      "500/500 [==============================] - 0s 109us/step - loss: 0.4881 - accuracy: 0.6600 - val_loss: 0.4352 - val_accuracy: 0.6660\n",
      "Epoch 108/200\n",
      "500/500 [==============================] - 0s 119us/step - loss: 0.4731 - accuracy: 0.6580 - val_loss: 0.4408 - val_accuracy: 0.6520\n",
      "Epoch 109/200\n",
      "500/500 [==============================] - 0s 110us/step - loss: 0.4760 - accuracy: 0.6600 - val_loss: 0.4487 - val_accuracy: 0.6500\n",
      "Epoch 110/200\n",
      "500/500 [==============================] - 0s 111us/step - loss: 0.4762 - accuracy: 0.6520 - val_loss: 0.4487 - val_accuracy: 0.6680\n",
      "Epoch 111/200\n",
      "500/500 [==============================] - 0s 112us/step - loss: 0.4801 - accuracy: 0.6660 - val_loss: 0.4489 - val_accuracy: 0.6620\n",
      "Epoch 112/200\n",
      "500/500 [==============================] - 0s 113us/step - loss: 0.4919 - accuracy: 0.6540 - val_loss: 0.4479 - val_accuracy: 0.6460\n",
      "Epoch 113/200\n"
     ]
    },
    {
     "name": "stdout",
     "output_type": "stream",
     "text": [
      "500/500 [==============================] - 0s 111us/step - loss: 0.4929 - accuracy: 0.6680 - val_loss: 0.4523 - val_accuracy: 0.6400\n",
      "Epoch 114/200\n",
      "500/500 [==============================] - 0s 82us/step - loss: 0.4715 - accuracy: 0.6680 - val_loss: 0.4434 - val_accuracy: 0.6520\n",
      "Epoch 115/200\n",
      "500/500 [==============================] - 0s 89us/step - loss: 0.4756 - accuracy: 0.6580 - val_loss: 0.4913 - val_accuracy: 0.6400\n",
      "Epoch 116/200\n",
      "500/500 [==============================] - 0s 95us/step - loss: 0.4964 - accuracy: 0.6520 - val_loss: 0.4643 - val_accuracy: 0.6300\n",
      "Epoch 117/200\n",
      "500/500 [==============================] - 0s 88us/step - loss: 0.4977 - accuracy: 0.6600 - val_loss: 0.4446 - val_accuracy: 0.6660\n",
      "Epoch 118/200\n",
      "500/500 [==============================] - 0s 97us/step - loss: 0.4783 - accuracy: 0.6660 - val_loss: 0.4471 - val_accuracy: 0.6280\n",
      "Epoch 119/200\n",
      "500/500 [==============================] - 0s 97us/step - loss: 0.4932 - accuracy: 0.6580 - val_loss: 0.4558 - val_accuracy: 0.6320\n",
      "Epoch 120/200\n",
      "500/500 [==============================] - 0s 103us/step - loss: 0.4629 - accuracy: 0.6800 - val_loss: 0.4659 - val_accuracy: 0.6500\n",
      "Epoch 121/200\n",
      "500/500 [==============================] - 0s 101us/step - loss: 0.4736 - accuracy: 0.6800 - val_loss: 0.4405 - val_accuracy: 0.6400\n",
      "Epoch 122/200\n",
      "500/500 [==============================] - 0s 103us/step - loss: 0.4866 - accuracy: 0.6460 - val_loss: 0.4421 - val_accuracy: 0.6500\n",
      "Epoch 123/200\n",
      "500/500 [==============================] - 0s 118us/step - loss: 0.4775 - accuracy: 0.6680 - val_loss: 0.4429 - val_accuracy: 0.6620\n",
      "Epoch 124/200\n",
      "500/500 [==============================] - 0s 100us/step - loss: 0.4748 - accuracy: 0.6640 - val_loss: 0.4728 - val_accuracy: 0.6600\n",
      "Epoch 125/200\n",
      "500/500 [==============================] - 0s 82us/step - loss: 0.4737 - accuracy: 0.6600 - val_loss: 0.4446 - val_accuracy: 0.6540\n",
      "Epoch 126/200\n",
      "500/500 [==============================] - 0s 77us/step - loss: 0.4696 - accuracy: 0.6680 - val_loss: 0.4409 - val_accuracy: 0.6500\n",
      "Epoch 127/200\n",
      "500/500 [==============================] - 0s 73us/step - loss: 0.4756 - accuracy: 0.6680 - val_loss: 0.4868 - val_accuracy: 0.6540\n",
      "Epoch 128/200\n",
      "500/500 [==============================] - 0s 78us/step - loss: 0.4724 - accuracy: 0.6560 - val_loss: 0.4529 - val_accuracy: 0.6480\n",
      "Epoch 129/200\n",
      "500/500 [==============================] - 0s 81us/step - loss: 0.4734 - accuracy: 0.6780 - val_loss: 0.4626 - val_accuracy: 0.6680\n",
      "Epoch 130/200\n",
      "500/500 [==============================] - 0s 78us/step - loss: 0.4778 - accuracy: 0.6560 - val_loss: 0.4453 - val_accuracy: 0.6680\n",
      "Epoch 131/200\n",
      "500/500 [==============================] - 0s 73us/step - loss: 0.4856 - accuracy: 0.6660 - val_loss: 0.4652 - val_accuracy: 0.6500\n",
      "Epoch 132/200\n",
      "500/500 [==============================] - 0s 73us/step - loss: 0.4880 - accuracy: 0.6560 - val_loss: 0.4739 - val_accuracy: 0.6420\n",
      "Epoch 133/200\n",
      "500/500 [==============================] - 0s 79us/step - loss: 0.4774 - accuracy: 0.6680 - val_loss: 0.4436 - val_accuracy: 0.6660\n",
      "Epoch 134/200\n",
      "500/500 [==============================] - 0s 75us/step - loss: 0.4697 - accuracy: 0.6820 - val_loss: 0.6092 - val_accuracy: 0.6220\n",
      "Epoch 135/200\n",
      "500/500 [==============================] - 0s 78us/step - loss: 0.5653 - accuracy: 0.6520 - val_loss: 0.5433 - val_accuracy: 0.6360\n",
      "Epoch 136/200\n",
      "500/500 [==============================] - 0s 73us/step - loss: 0.6000 - accuracy: 0.6740 - val_loss: 0.4940 - val_accuracy: 0.6600\n",
      "Epoch 137/200\n",
      "500/500 [==============================] - 0s 76us/step - loss: 0.5021 - accuracy: 0.6700 - val_loss: 0.5554 - val_accuracy: 0.6500\n",
      "Epoch 138/200\n",
      "500/500 [==============================] - 0s 71us/step - loss: 0.5271 - accuracy: 0.6640 - val_loss: 0.4726 - val_accuracy: 0.6320\n",
      "Epoch 139/200\n",
      "500/500 [==============================] - 0s 86us/step - loss: 0.5170 - accuracy: 0.6720 - val_loss: 0.4968 - val_accuracy: 0.6420\n",
      "Epoch 140/200\n",
      "500/500 [==============================] - 0s 92us/step - loss: 0.5091 - accuracy: 0.6460 - val_loss: 0.4722 - val_accuracy: 0.6500\n",
      "Epoch 141/200\n",
      "500/500 [==============================] - 0s 76us/step - loss: 0.5027 - accuracy: 0.6680 - val_loss: 0.4369 - val_accuracy: 0.6520\n",
      "Epoch 142/200\n",
      "500/500 [==============================] - 0s 80us/step - loss: 0.4734 - accuracy: 0.6760 - val_loss: 0.4428 - val_accuracy: 0.6680\n",
      "Epoch 143/200\n",
      "500/500 [==============================] - 0s 79us/step - loss: 0.4821 - accuracy: 0.6700 - val_loss: 0.4460 - val_accuracy: 0.6400\n",
      "Epoch 144/200\n",
      "500/500 [==============================] - 0s 76us/step - loss: 0.5041 - accuracy: 0.6560 - val_loss: 0.4424 - val_accuracy: 0.6460\n",
      "Epoch 145/200\n",
      "500/500 [==============================] - 0s 75us/step - loss: 0.4978 - accuracy: 0.6540 - val_loss: 0.4441 - val_accuracy: 0.6660\n",
      "Epoch 146/200\n",
      "500/500 [==============================] - 0s 73us/step - loss: 0.4866 - accuracy: 0.6540 - val_loss: 0.4689 - val_accuracy: 0.6500\n",
      "Epoch 147/200\n",
      "500/500 [==============================] - 0s 78us/step - loss: 0.4802 - accuracy: 0.6840 - val_loss: 0.4475 - val_accuracy: 0.6760\n",
      "Epoch 148/200\n",
      "500/500 [==============================] - 0s 72us/step - loss: 0.4906 - accuracy: 0.6640 - val_loss: 0.4828 - val_accuracy: 0.6640\n",
      "Epoch 149/200\n",
      "500/500 [==============================] - 0s 78us/step - loss: 0.4900 - accuracy: 0.6780 - val_loss: 0.4651 - val_accuracy: 0.6320\n",
      "Epoch 150/200\n",
      "500/500 [==============================] - 0s 73us/step - loss: 0.4864 - accuracy: 0.6560 - val_loss: 0.4750 - val_accuracy: 0.6380\n",
      "Epoch 151/200\n",
      "500/500 [==============================] - 0s 74us/step - loss: 0.4815 - accuracy: 0.6720 - val_loss: 0.4585 - val_accuracy: 0.6700\n",
      "Epoch 152/200\n",
      "500/500 [==============================] - 0s 77us/step - loss: 0.4866 - accuracy: 0.6720 - val_loss: 0.4440 - val_accuracy: 0.6700\n",
      "Epoch 153/200\n",
      "500/500 [==============================] - 0s 73us/step - loss: 0.4659 - accuracy: 0.6760 - val_loss: 0.4526 - val_accuracy: 0.6380\n",
      "Epoch 154/200\n",
      "500/500 [==============================] - 0s 72us/step - loss: 0.4767 - accuracy: 0.6820 - val_loss: 0.4820 - val_accuracy: 0.6240\n",
      "Epoch 155/200\n",
      "500/500 [==============================] - 0s 78us/step - loss: 0.5137 - accuracy: 0.6780 - val_loss: 0.4693 - val_accuracy: 0.6720\n",
      "Epoch 156/200\n",
      "500/500 [==============================] - 0s 76us/step - loss: 0.4996 - accuracy: 0.6600 - val_loss: 0.4837 - val_accuracy: 0.6720\n",
      "Epoch 157/200\n",
      "500/500 [==============================] - 0s 71us/step - loss: 0.4826 - accuracy: 0.6740 - val_loss: 0.4598 - val_accuracy: 0.6500\n",
      "Epoch 158/200\n",
      "500/500 [==============================] - 0s 84us/step - loss: 0.4795 - accuracy: 0.6820 - val_loss: 0.5137 - val_accuracy: 0.6640\n",
      "Epoch 159/200\n",
      "500/500 [==============================] - 0s 93us/step - loss: 0.5036 - accuracy: 0.6540 - val_loss: 0.4449 - val_accuracy: 0.6560\n",
      "Epoch 160/200\n",
      "500/500 [==============================] - 0s 78us/step - loss: 0.4949 - accuracy: 0.6660 - val_loss: 0.4678 - val_accuracy: 0.6660\n",
      "Epoch 161/200\n",
      "500/500 [==============================] - 0s 73us/step - loss: 0.4773 - accuracy: 0.6680 - val_loss: 0.5307 - val_accuracy: 0.6400\n",
      "Epoch 162/200\n",
      "500/500 [==============================] - 0s 72us/step - loss: 0.5118 - accuracy: 0.6380 - val_loss: 0.4506 - val_accuracy: 0.6500\n",
      "Epoch 163/200\n",
      "500/500 [==============================] - 0s 78us/step - loss: 0.4817 - accuracy: 0.6620 - val_loss: 0.4524 - val_accuracy: 0.6600\n",
      "Epoch 164/200\n",
      "500/500 [==============================] - 0s 72us/step - loss: 0.4696 - accuracy: 0.6780 - val_loss: 0.4483 - val_accuracy: 0.6760\n",
      "Epoch 165/200\n",
      "500/500 [==============================] - 0s 74us/step - loss: 0.4945 - accuracy: 0.6760 - val_loss: 0.4498 - val_accuracy: 0.6700\n",
      "Epoch 166/200\n",
      "500/500 [==============================] - 0s 76us/step - loss: 0.4669 - accuracy: 0.6700 - val_loss: 0.4526 - val_accuracy: 0.6600\n",
      "Epoch 167/200\n",
      "500/500 [==============================] - 0s 73us/step - loss: 0.4763 - accuracy: 0.6680 - val_loss: 0.4946 - val_accuracy: 0.6360\n",
      "Epoch 168/200\n",
      "500/500 [==============================] - 0s 75us/step - loss: 0.4891 - accuracy: 0.6740 - val_loss: 0.4384 - val_accuracy: 0.6720\n",
      "Epoch 169/200\n",
      "500/500 [==============================] - 0s 75us/step - loss: 0.4991 - accuracy: 0.6740 - val_loss: 0.4678 - val_accuracy: 0.6700\n",
      "Epoch 170/200\n",
      "500/500 [==============================] - 0s 72us/step - loss: 0.4895 - accuracy: 0.6880 - val_loss: 0.4833 - val_accuracy: 0.6640\n",
      "Epoch 171/200\n",
      "500/500 [==============================] - 0s 80us/step - loss: 0.4848 - accuracy: 0.6600 - val_loss: 0.4510 - val_accuracy: 0.6500\n",
      "Epoch 172/200\n",
      "500/500 [==============================] - 0s 79us/step - loss: 0.5166 - accuracy: 0.6660 - val_loss: 0.4532 - val_accuracy: 0.6500\n",
      "Epoch 173/200\n",
      "500/500 [==============================] - 0s 78us/step - loss: 0.5148 - accuracy: 0.6640 - val_loss: 0.4650 - val_accuracy: 0.6780\n",
      "Epoch 174/200\n",
      "500/500 [==============================] - 0s 80us/step - loss: 0.5023 - accuracy: 0.6780 - val_loss: 0.4832 - val_accuracy: 0.6740\n",
      "Epoch 175/200\n",
      "500/500 [==============================] - 0s 77us/step - loss: 0.4802 - accuracy: 0.6680 - val_loss: 0.4329 - val_accuracy: 0.6580\n",
      "Epoch 176/200\n",
      "500/500 [==============================] - 0s 73us/step - loss: 0.4818 - accuracy: 0.6820 - val_loss: 0.4559 - val_accuracy: 0.6440\n",
      "Epoch 177/200\n",
      "500/500 [==============================] - 0s 77us/step - loss: 0.5015 - accuracy: 0.6620 - val_loss: 0.5060 - val_accuracy: 0.6320\n",
      "Epoch 178/200\n",
      "500/500 [==============================] - 0s 78us/step - loss: 0.5066 - accuracy: 0.7040 - val_loss: 0.5019 - val_accuracy: 0.6440\n",
      "Epoch 179/200\n",
      "500/500 [==============================] - 0s 73us/step - loss: 0.4992 - accuracy: 0.6780 - val_loss: 0.4495 - val_accuracy: 0.6840\n",
      "Epoch 180/200\n",
      "500/500 [==============================] - 0s 72us/step - loss: 0.4924 - accuracy: 0.6760 - val_loss: 0.4480 - val_accuracy: 0.6820\n",
      "Epoch 181/200\n",
      "500/500 [==============================] - 0s 78us/step - loss: 0.4738 - accuracy: 0.6700 - val_loss: 0.4496 - val_accuracy: 0.6680\n",
      "Epoch 182/200\n",
      "500/500 [==============================] - 0s 73us/step - loss: 0.4882 - accuracy: 0.6620 - val_loss: 0.4740 - val_accuracy: 0.6500\n",
      "Epoch 183/200\n",
      "500/500 [==============================] - 0s 72us/step - loss: 0.5012 - accuracy: 0.6780 - val_loss: 0.4477 - val_accuracy: 0.6780\n",
      "Epoch 184/200\n",
      "500/500 [==============================] - 0s 80us/step - loss: 0.5206 - accuracy: 0.6700 - val_loss: 0.4509 - val_accuracy: 0.6820\n",
      "Epoch 185/200\n",
      "500/500 [==============================] - 0s 80us/step - loss: 0.4680 - accuracy: 0.6680 - val_loss: 0.4404 - val_accuracy: 0.6760\n",
      "Epoch 186/200\n",
      "500/500 [==============================] - 0s 74us/step - loss: 0.4751 - accuracy: 0.6700 - val_loss: 0.4635 - val_accuracy: 0.6500\n",
      "Epoch 187/200\n",
      "500/500 [==============================] - 0s 75us/step - loss: 0.4772 - accuracy: 0.6760 - val_loss: 0.4394 - val_accuracy: 0.6500\n",
      "Epoch 188/200\n",
      "500/500 [==============================] - 0s 74us/step - loss: 0.4664 - accuracy: 0.6820 - val_loss: 0.4839 - val_accuracy: 0.6800\n",
      "Epoch 189/200\n",
      "500/500 [==============================] - 0s 78us/step - loss: 0.4829 - accuracy: 0.6640 - val_loss: 0.4404 - val_accuracy: 0.6600\n",
      "Epoch 190/200\n",
      "500/500 [==============================] - 0s 78us/step - loss: 0.4961 - accuracy: 0.6680 - val_loss: 0.4547 - val_accuracy: 0.6660\n",
      "Epoch 191/200\n",
      "500/500 [==============================] - 0s 71us/step - loss: 0.4794 - accuracy: 0.6780 - val_loss: 0.5224 - val_accuracy: 0.6420\n",
      "Epoch 192/200\n",
      "500/500 [==============================] - 0s 78us/step - loss: 0.4801 - accuracy: 0.6760 - val_loss: 0.4553 - val_accuracy: 0.6800\n",
      "Epoch 193/200\n",
      "500/500 [==============================] - 0s 79us/step - loss: 0.4884 - accuracy: 0.6800 - val_loss: 0.4594 - val_accuracy: 0.6780\n",
      "Epoch 194/200\n",
      "500/500 [==============================] - 0s 78us/step - loss: 0.4991 - accuracy: 0.6720 - val_loss: 0.4631 - val_accuracy: 0.6360\n",
      "Epoch 195/200\n",
      "500/500 [==============================] - 0s 74us/step - loss: 0.5085 - accuracy: 0.6920 - val_loss: 0.4526 - val_accuracy: 0.6600\n",
      "Epoch 196/200\n",
      "500/500 [==============================] - 0s 76us/step - loss: 0.4914 - accuracy: 0.6760 - val_loss: 0.4522 - val_accuracy: 0.6500\n",
      "Epoch 197/200\n",
      "500/500 [==============================] - 0s 78us/step - loss: 0.4838 - accuracy: 0.6600 - val_loss: 0.4410 - val_accuracy: 0.6460\n",
      "Epoch 198/200\n",
      "500/500 [==============================] - 0s 73us/step - loss: 0.4789 - accuracy: 0.6760 - val_loss: 0.4529 - val_accuracy: 0.6760\n",
      "Epoch 199/200\n",
      "500/500 [==============================] - 0s 80us/step - loss: 0.4816 - accuracy: 0.6940 - val_loss: 0.4919 - val_accuracy: 0.6800\n",
      "Epoch 200/200\n",
      "500/500 [==============================] - 0s 71us/step - loss: 0.4775 - accuracy: 0.6680 - val_loss: 0.4417 - val_accuracy: 0.6660\n"
     ]
    }
   ],
   "source": [
    "model = Sequential()\n",
    "model.add(Dense(50, input_dim=2, activation='relu', kernel_initializer='he_uniform'))\n",
    "model.add(Dense(1, activation='tanh'))\n",
    "opt=SGD(lr=0.01, momentum=0.9)\n",
    "model.compile(loss='squared_hinge', optimizer=opt, metrics=['accuracy'])\n",
    "h = model.fit(trainX,trainy,validation_data=(testX,testy), epochs=200, verbose=1)"
   ]
  },
  {
   "cell_type": "code",
   "execution_count": 260,
   "metadata": {},
   "outputs": [
    {
     "name": "stdout",
     "output_type": "stream",
     "text": [
      "['loss', 'accuracy']\n",
      "500/500 [==============================] - 0s 21us/step\n",
      "500/500 [==============================] - 0s 21us/step\n"
     ]
    }
   ],
   "source": [
    "print(model.metrics_names)\n",
    "#res_train = model.evaluate(trainX,trainy)\n",
    "#res_test = model.evaluate(testX, testy)"
   ]
  },
  {
   "cell_type": "code",
   "execution_count": 261,
   "metadata": {},
   "outputs": [
    {
     "name": "stdout",
     "output_type": "stream",
     "text": [
      "Traina cc:0.6820  Test acc:0.6660\n"
     ]
    }
   ],
   "source": [
    "print('Traina cc:{:.4f}  Test acc:{:.4f}'.format(res_train[1], res_test[1]))"
   ]
  },
  {
   "cell_type": "code",
   "execution_count": 262,
   "metadata": {},
   "outputs": [
    {
     "data": {
      "text/plain": [
       "dict_keys(['val_loss', 'val_accuracy', 'loss', 'accuracy'])"
      ]
     },
     "execution_count": 262,
     "metadata": {},
     "output_type": "execute_result"
    }
   ],
   "source": [
    "h.history.keys()"
   ]
  },
  {
   "cell_type": "code",
   "execution_count": 263,
   "metadata": {},
   "outputs": [
    {
     "data": {
      "image/png": "[encoded data removed]",
      "text/plain": [
       "<Figure size 576x144 with 2 Axes>"
      ]
     },
     "metadata": {
      "needs_background": "light"
     },
     "output_type": "display_data"
    }
   ],
   "source": [
    "fig=plt.figure(figsize=(8,2))\n",
    "plt.subplot(121)\n",
    "plt.title(\"LOSS\")\n",
    "plt.plot(h.history['loss'], label='train')\n",
    "plt.plot(h.history['val_loss'], label='test')\n",
    "plt.legend()\n",
    "plt.subplot(122)\n",
    "plt.title(\"ACCURACY\")\n",
    "plt.plot(h.history['accuracy'], label='train')\n",
    "plt.plot(h.history['val_accuracy'], label='test')\n",
    "plt.legend()\n",
    "plt.show()"
   ]
  },
  {
   "cell_type": "markdown",
   "metadata": {},
   "source": [
    "# Multi-class classification\n",
    "### Multi-class cross-entropy # sparse categorical cross-entropy"
   ]
  },
  {
   "cell_type": "code",
   "execution_count": 282,
   "metadata": {},
   "outputs": [],
   "source": [
    "from sklearn.datasets import make_blobs\n",
    "X,y = make_blobs(n_samples=1000, centers=3, n_features=2,\n",
    "                cluster_std=2, random_state=2)"
   ]
  },
  {
   "cell_type": "code",
   "execution_count": 283,
   "metadata": {},
   "outputs": [
    {
     "name": "stdout",
     "output_type": "stream",
     "text": [
      "[[  0.48719811  -0.43160548]\n",
      " [ -1.48958879  -3.47915742]\n",
      " [ -2.06250444  -7.73300419]\n",
      " [ -0.51369303 -10.31546366]\n",
      " [  0.56240126  -2.18246169]]    [2 2 2 0 1]\n"
     ]
    }
   ],
   "source": [
    "print(X[:5], '  ', y[:5])"
   ]
  },
  {
   "cell_type": "code",
   "execution_count": 285,
   "metadata": {},
   "outputs": [
    {
     "data": {
      "image/png": "[encoded data removed]",
      "text/plain": [
       "<Figure size 432x288 with 1 Axes>"
      ]
     },
     "metadata": {
      "needs_background": "light"
     },
     "output_type": "display_data"
    }
   ],
   "source": [
    "for i in range(3):\n",
    "    samples_idx = where(y==i)\n",
    "    plt.scatter(X[samples_idx,0], X[samples_idx,1], label=str(i))\n",
    "\n",
    "plt.legend()\n",
    "plt.show()"
   ]
  },
  {
   "cell_type": "code",
   "execution_count": 336,
   "metadata": {},
   "outputs": [],
   "source": [
    "from keras.utils import to_categorical\n",
    "X,y = make_blobs(n_samples=1000, centers=3, n_features=2,\n",
    "                cluster_std=2, random_state=2)\n",
    "\n",
    "y = to_categorical(y) #NO ONEHOT ENCODING FOR SPARSE\n",
    "\n",
    "n_train=500\n",
    "trainX,testX = X[:n_train,:],X[n_train:,:]\n",
    "trainy,testy=y[:n_train],y[n_train:]"
   ]
  },
  {
   "cell_type": "code",
   "execution_count": 339,
   "metadata": {},
   "outputs": [
    {
     "name": "stdout",
     "output_type": "stream",
     "text": [
      "(500, 3)\n",
      "[[0. 0. 1.]\n",
      " [0. 0. 1.]\n",
      " [0. 0. 1.]\n",
      " [1. 0. 0.]\n",
      " [0. 1. 0.]]\n"
     ]
    }
   ],
   "source": [
    "print(trainy.shape)\n",
    "print(y[:5])"
   ]
  },
  {
   "cell_type": "code",
   "execution_count": 340,
   "metadata": {},
   "outputs": [
    {
     "name": "stdout",
     "output_type": "stream",
     "text": [
      "Train on 500 samples, validate on 500 samples\n",
      "Epoch 1/200\n",
      "500/500 [==============================] - 0s 686us/step - loss: 2.4690 - accuracy: 0.4380 - val_loss: 1.4963 - val_accuracy: 0.6140\n",
      "Epoch 2/200\n",
      "500/500 [==============================] - 0s 81us/step - loss: 1.9970 - accuracy: 0.5540 - val_loss: 3.7954 - val_accuracy: 0.6220\n",
      "Epoch 3/200\n",
      "500/500 [==============================] - 0s 105us/step - loss: 2.7608 - accuracy: 0.5740 - val_loss: 1.4630 - val_accuracy: 0.7000\n",
      "Epoch 4/200\n",
      "500/500 [==============================] - 0s 97us/step - loss: 1.5278 - accuracy: 0.6120 - val_loss: 0.5915 - val_accuracy: 0.7780\n",
      "Epoch 5/200\n",
      "500/500 [==============================] - 0s 114us/step - loss: 0.8942 - accuracy: 0.6600 - val_loss: 0.5917 - val_accuracy: 0.7800\n",
      "Epoch 6/200\n",
      "500/500 [==============================] - 0s 95us/step - loss: 0.6792 - accuracy: 0.6880 - val_loss: 0.5758 - val_accuracy: 0.7620\n",
      "Epoch 7/200\n",
      "500/500 [==============================] - 0s 105us/step - loss: 0.5949 - accuracy: 0.7360 - val_loss: 0.5213 - val_accuracy: 0.7900\n",
      "Epoch 8/200\n",
      "500/500 [==============================] - 0s 94us/step - loss: 0.5825 - accuracy: 0.7460 - val_loss: 0.5523 - val_accuracy: 0.7820\n",
      "Epoch 9/200\n",
      "500/500 [==============================] - 0s 101us/step - loss: 0.5505 - accuracy: 0.7480 - val_loss: 0.5288 - val_accuracy: 0.7680\n",
      "Epoch 10/200\n",
      "500/500 [==============================] - 0s 97us/step - loss: 0.5223 - accuracy: 0.7760 - val_loss: 0.4705 - val_accuracy: 0.7940\n",
      "Epoch 11/200\n",
      "500/500 [==============================] - 0s 91us/step - loss: 0.5564 - accuracy: 0.7640 - val_loss: 0.4782 - val_accuracy: 0.8120\n",
      "Epoch 12/200\n",
      "500/500 [==============================] - 0s 92us/step - loss: 0.5231 - accuracy: 0.7700 - val_loss: 0.4632 - val_accuracy: 0.8220\n",
      "Epoch 13/200\n",
      "500/500 [==============================] - 0s 99us/step - loss: 0.5008 - accuracy: 0.7680 - val_loss: 0.4693 - val_accuracy: 0.8160\n",
      "Epoch 14/200\n",
      "500/500 [==============================] - 0s 97us/step - loss: 0.4731 - accuracy: 0.8040 - val_loss: 0.5049 - val_accuracy: 0.7960\n",
      "Epoch 15/200\n",
      "500/500 [==============================] - 0s 93us/step - loss: 0.5305 - accuracy: 0.7540 - val_loss: 0.5421 - val_accuracy: 0.7720\n",
      "Epoch 16/200\n",
      "500/500 [==============================] - 0s 102us/step - loss: 0.5730 - accuracy: 0.7420 - val_loss: 0.4648 - val_accuracy: 0.8160\n",
      "Epoch 17/200\n",
      "500/500 [==============================] - 0s 101us/step - loss: 0.4609 - accuracy: 0.8060 - val_loss: 0.4206 - val_accuracy: 0.8280\n",
      "Epoch 18/200\n",
      "500/500 [==============================] - 0s 92us/step - loss: 0.4665 - accuracy: 0.7800 - val_loss: 0.5483 - val_accuracy: 0.7780\n",
      "Epoch 19/200\n",
      "500/500 [==============================] - 0s 88us/step - loss: 0.4599 - accuracy: 0.7880 - val_loss: 0.4178 - val_accuracy: 0.8280\n",
      "Epoch 20/200\n",
      "500/500 [==============================] - 0s 98us/step - loss: 0.4265 - accuracy: 0.8120 - val_loss: 0.4580 - val_accuracy: 0.8140\n",
      "Epoch 21/200\n",
      "500/500 [==============================] - 0s 98us/step - loss: 0.4498 - accuracy: 0.8020 - val_loss: 0.4201 - val_accuracy: 0.8220\n",
      "Epoch 22/200\n",
      "500/500 [==============================] - 0s 103us/step - loss: 0.4390 - accuracy: 0.8140 - val_loss: 0.4160 - val_accuracy: 0.8340\n",
      "Epoch 23/200\n",
      "500/500 [==============================] - 0s 100us/step - loss: 0.4685 - accuracy: 0.7920 - val_loss: 0.4636 - val_accuracy: 0.8000\n",
      "Epoch 24/200\n",
      "500/500 [==============================] - 0s 121us/step - loss: 0.4534 - accuracy: 0.7980 - val_loss: 0.4112 - val_accuracy: 0.8360\n",
      "Epoch 25/200\n",
      "500/500 [==============================] - 0s 119us/step - loss: 0.4584 - accuracy: 0.7940 - val_loss: 0.4324 - val_accuracy: 0.8260\n",
      "Epoch 26/200\n",
      "500/500 [==============================] - 0s 119us/step - loss: 0.4713 - accuracy: 0.8000 - val_loss: 0.4311 - val_accuracy: 0.8200\n",
      "Epoch 27/200\n",
      "500/500 [==============================] - 0s 117us/step - loss: 0.4643 - accuracy: 0.8080 - val_loss: 0.4453 - val_accuracy: 0.8140\n",
      "Epoch 28/200\n",
      "500/500 [==============================] - 0s 129us/step - loss: 0.4440 - accuracy: 0.8120 - val_loss: 0.4293 - val_accuracy: 0.8280\n",
      "Epoch 29/200\n",
      "500/500 [==============================] - 0s 113us/step - loss: 0.4307 - accuracy: 0.8100 - val_loss: 0.4502 - val_accuracy: 0.8120\n",
      "Epoch 30/200\n",
      "500/500 [==============================] - 0s 94us/step - loss: 0.4360 - accuracy: 0.8020 - val_loss: 0.4676 - val_accuracy: 0.8060\n",
      "Epoch 31/200\n",
      "500/500 [==============================] - 0s 95us/step - loss: 0.4589 - accuracy: 0.8120 - val_loss: 0.4147 - val_accuracy: 0.8260\n",
      "Epoch 32/200\n",
      "500/500 [==============================] - 0s 95us/step - loss: 0.4262 - accuracy: 0.8040 - val_loss: 0.4152 - val_accuracy: 0.8220\n",
      "Epoch 33/200\n",
      "500/500 [==============================] - 0s 98us/step - loss: 0.4247 - accuracy: 0.8160 - val_loss: 0.4108 - val_accuracy: 0.8200\n",
      "Epoch 34/200\n",
      "500/500 [==============================] - 0s 100us/step - loss: 0.4263 - accuracy: 0.8160 - val_loss: 0.4295 - val_accuracy: 0.8280\n",
      "Epoch 35/200\n",
      "500/500 [==============================] - 0s 126us/step - loss: 0.4462 - accuracy: 0.8060 - val_loss: 0.4520 - val_accuracy: 0.8140\n",
      "Epoch 36/200\n",
      "500/500 [==============================] - 0s 117us/step - loss: 0.4333 - accuracy: 0.8060 - val_loss: 0.4065 - val_accuracy: 0.8300\n",
      "Epoch 37/200\n",
      "500/500 [==============================] - 0s 113us/step - loss: 0.4641 - accuracy: 0.8020 - val_loss: 0.4481 - val_accuracy: 0.8140\n",
      "Epoch 38/200\n",
      "500/500 [==============================] - 0s 102us/step - loss: 0.4763 - accuracy: 0.7940 - val_loss: 0.4467 - val_accuracy: 0.8200\n",
      "Epoch 39/200\n",
      "500/500 [==============================] - 0s 125us/step - loss: 0.4222 - accuracy: 0.8260 - val_loss: 0.4038 - val_accuracy: 0.8260\n",
      "Epoch 40/200\n",
      "500/500 [==============================] - 0s 106us/step - loss: 0.4187 - accuracy: 0.8280 - val_loss: 0.4436 - val_accuracy: 0.8100\n",
      "Epoch 41/200\n",
      "500/500 [==============================] - 0s 102us/step - loss: 0.4392 - accuracy: 0.8100 - val_loss: 0.4216 - val_accuracy: 0.8240\n",
      "Epoch 42/200\n",
      "500/500 [==============================] - 0s 94us/step - loss: 0.4081 - accuracy: 0.8160 - val_loss: 0.4029 - val_accuracy: 0.8320\n",
      "Epoch 43/200\n",
      "500/500 [==============================] - 0s 92us/step - loss: 0.4198 - accuracy: 0.8100 - val_loss: 0.4173 - val_accuracy: 0.8180\n",
      "Epoch 44/200\n",
      "500/500 [==============================] - 0s 92us/step - loss: 0.4184 - accuracy: 0.8180 - val_loss: 0.4109 - val_accuracy: 0.8200\n",
      "Epoch 45/200\n",
      "500/500 [==============================] - 0s 93us/step - loss: 0.4040 - accuracy: 0.8260 - val_loss: 0.4059 - val_accuracy: 0.8320\n",
      "Epoch 46/200\n",
      "500/500 [==============================] - 0s 93us/step - loss: 0.4080 - accuracy: 0.8220 - val_loss: 0.4218 - val_accuracy: 0.8140\n",
      "Epoch 47/200\n",
      "500/500 [==============================] - 0s 91us/step - loss: 0.4078 - accuracy: 0.8280 - val_loss: 0.4163 - val_accuracy: 0.8280\n",
      "Epoch 48/200\n",
      "500/500 [==============================] - 0s 92us/step - loss: 0.4023 - accuracy: 0.8120 - val_loss: 0.4067 - val_accuracy: 0.8220\n",
      "Epoch 49/200\n",
      "500/500 [==============================] - 0s 94us/step - loss: 0.4084 - accuracy: 0.8340 - val_loss: 0.4340 - val_accuracy: 0.8280\n",
      "Epoch 50/200\n",
      "500/500 [==============================] - 0s 89us/step - loss: 0.4547 - accuracy: 0.8100 - val_loss: 0.4174 - val_accuracy: 0.8240\n",
      "Epoch 51/200\n",
      "500/500 [==============================] - 0s 94us/step - loss: 0.4450 - accuracy: 0.8040 - val_loss: 0.4950 - val_accuracy: 0.7780\n",
      "Epoch 52/200\n",
      "500/500 [==============================] - 0s 95us/step - loss: 0.4247 - accuracy: 0.7980 - val_loss: 0.4292 - val_accuracy: 0.8120\n",
      "Epoch 53/200\n",
      "500/500 [==============================] - 0s 92us/step - loss: 0.4314 - accuracy: 0.8180 - val_loss: 0.4172 - val_accuracy: 0.8220\n",
      "Epoch 54/200\n",
      "500/500 [==============================] - 0s 84us/step - loss: 0.4073 - accuracy: 0.8340 - val_loss: 0.4176 - val_accuracy: 0.8140\n",
      "Epoch 55/200\n",
      "500/500 [==============================] - 0s 91us/step - loss: 0.4103 - accuracy: 0.8220 - val_loss: 0.4167 - val_accuracy: 0.8260\n",
      "Epoch 56/200\n",
      "500/500 [==============================] - 0s 89us/step - loss: 0.4054 - accuracy: 0.8300 - val_loss: 0.4656 - val_accuracy: 0.8100\n",
      "Epoch 57/200\n"
     ]
    },
    {
     "name": "stdout",
     "output_type": "stream",
     "text": [
      "500/500 [==============================] - 0s 85us/step - loss: 0.4128 - accuracy: 0.8240 - val_loss: 0.4295 - val_accuracy: 0.8200\n",
      "Epoch 58/200\n",
      "500/500 [==============================] - 0s 88us/step - loss: 0.4080 - accuracy: 0.8280 - val_loss: 0.4056 - val_accuracy: 0.8200\n",
      "Epoch 59/200\n",
      "500/500 [==============================] - 0s 91us/step - loss: 0.4126 - accuracy: 0.8120 - val_loss: 0.4413 - val_accuracy: 0.8120\n",
      "Epoch 60/200\n",
      "500/500 [==============================] - 0s 88us/step - loss: 0.4094 - accuracy: 0.8100 - val_loss: 0.4101 - val_accuracy: 0.8220\n",
      "Epoch 61/200\n",
      "500/500 [==============================] - 0s 92us/step - loss: 0.4214 - accuracy: 0.8220 - val_loss: 0.4608 - val_accuracy: 0.8140\n",
      "Epoch 62/200\n",
      "500/500 [==============================] - 0s 95us/step - loss: 0.4473 - accuracy: 0.8000 - val_loss: 0.4581 - val_accuracy: 0.8040\n",
      "Epoch 63/200\n",
      "500/500 [==============================] - 0s 93us/step - loss: 0.4030 - accuracy: 0.8380 - val_loss: 0.4351 - val_accuracy: 0.8180\n",
      "Epoch 64/200\n",
      "500/500 [==============================] - 0s 92us/step - loss: 0.4384 - accuracy: 0.8080 - val_loss: 0.4561 - val_accuracy: 0.8160\n",
      "Epoch 65/200\n",
      "500/500 [==============================] - 0s 101us/step - loss: 0.4191 - accuracy: 0.8240 - val_loss: 0.4135 - val_accuracy: 0.8240\n",
      "Epoch 66/200\n",
      "500/500 [==============================] - 0s 99us/step - loss: 0.4097 - accuracy: 0.8300 - val_loss: 0.4201 - val_accuracy: 0.8220\n",
      "Epoch 67/200\n",
      "500/500 [==============================] - 0s 90us/step - loss: 0.3918 - accuracy: 0.8180 - val_loss: 0.4704 - val_accuracy: 0.8060\n",
      "Epoch 68/200\n",
      "500/500 [==============================] - 0s 94us/step - loss: 0.4140 - accuracy: 0.8200 - val_loss: 0.4175 - val_accuracy: 0.8200\n",
      "Epoch 69/200\n",
      "500/500 [==============================] - 0s 91us/step - loss: 0.4052 - accuracy: 0.8240 - val_loss: 0.4325 - val_accuracy: 0.8220\n",
      "Epoch 70/200\n",
      "500/500 [==============================] - 0s 91us/step - loss: 0.4150 - accuracy: 0.8180 - val_loss: 0.4390 - val_accuracy: 0.8280\n",
      "Epoch 71/200\n",
      "500/500 [==============================] - 0s 84us/step - loss: 0.4364 - accuracy: 0.8260 - val_loss: 0.4174 - val_accuracy: 0.8220\n",
      "Epoch 72/200\n",
      "500/500 [==============================] - 0s 85us/step - loss: 0.4199 - accuracy: 0.8280 - val_loss: 0.4141 - val_accuracy: 0.8280\n",
      "Epoch 73/200\n",
      "500/500 [==============================] - 0s 85us/step - loss: 0.3958 - accuracy: 0.8320 - val_loss: 0.4483 - val_accuracy: 0.8160\n",
      "Epoch 74/200\n",
      "500/500 [==============================] - 0s 85us/step - loss: 0.4221 - accuracy: 0.8200 - val_loss: 0.4174 - val_accuracy: 0.8260\n",
      "Epoch 75/200\n",
      "500/500 [==============================] - 0s 84us/step - loss: 0.4470 - accuracy: 0.8080 - val_loss: 0.4300 - val_accuracy: 0.8200\n",
      "Epoch 76/200\n",
      "500/500 [==============================] - 0s 85us/step - loss: 0.4129 - accuracy: 0.8080 - val_loss: 0.4078 - val_accuracy: 0.8320\n",
      "Epoch 77/200\n",
      "500/500 [==============================] - 0s 86us/step - loss: 0.4141 - accuracy: 0.8180 - val_loss: 0.4086 - val_accuracy: 0.8260\n",
      "Epoch 78/200\n",
      "500/500 [==============================] - 0s 90us/step - loss: 0.4102 - accuracy: 0.8220 - val_loss: 0.4104 - val_accuracy: 0.8340\n",
      "Epoch 79/200\n",
      "500/500 [==============================] - 0s 84us/step - loss: 0.4002 - accuracy: 0.8180 - val_loss: 0.4213 - val_accuracy: 0.8260\n",
      "Epoch 80/200\n",
      "500/500 [==============================] - 0s 87us/step - loss: 0.4146 - accuracy: 0.8140 - val_loss: 0.4071 - val_accuracy: 0.8240\n",
      "Epoch 81/200\n",
      "500/500 [==============================] - 0s 93us/step - loss: 0.4201 - accuracy: 0.8080 - val_loss: 0.4110 - val_accuracy: 0.8180\n",
      "Epoch 82/200\n",
      "500/500 [==============================] - 0s 114us/step - loss: 0.3955 - accuracy: 0.8260 - val_loss: 0.4283 - val_accuracy: 0.8200\n",
      "Epoch 83/200\n",
      "500/500 [==============================] - 0s 137us/step - loss: 0.4109 - accuracy: 0.8220 - val_loss: 0.4073 - val_accuracy: 0.8220\n",
      "Epoch 84/200\n",
      "500/500 [==============================] - 0s 132us/step - loss: 0.4009 - accuracy: 0.8360 - val_loss: 0.4191 - val_accuracy: 0.8280\n",
      "Epoch 85/200\n",
      "500/500 [==============================] - 0s 132us/step - loss: 0.4039 - accuracy: 0.8160 - val_loss: 0.4098 - val_accuracy: 0.8220\n",
      "Epoch 86/200\n",
      "500/500 [==============================] - 0s 127us/step - loss: 0.4015 - accuracy: 0.8180 - val_loss: 0.4540 - val_accuracy: 0.8080\n",
      "Epoch 87/200\n",
      "500/500 [==============================] - 0s 128us/step - loss: 0.4183 - accuracy: 0.8180 - val_loss: 0.4660 - val_accuracy: 0.8100\n",
      "Epoch 88/200\n",
      "500/500 [==============================] - 0s 130us/step - loss: 0.4451 - accuracy: 0.8040 - val_loss: 0.4237 - val_accuracy: 0.8240\n",
      "Epoch 89/200\n",
      "500/500 [==============================] - 0s 89us/step - loss: 0.4111 - accuracy: 0.8280 - val_loss: 0.4120 - val_accuracy: 0.8200\n",
      "Epoch 90/200\n",
      "500/500 [==============================] - 0s 93us/step - loss: 0.4004 - accuracy: 0.8200 - val_loss: 0.4095 - val_accuracy: 0.8260\n",
      "Epoch 91/200\n",
      "500/500 [==============================] - 0s 88us/step - loss: 0.4166 - accuracy: 0.8140 - val_loss: 0.4488 - val_accuracy: 0.8120\n",
      "Epoch 92/200\n",
      "500/500 [==============================] - 0s 83us/step - loss: 0.4407 - accuracy: 0.8140 - val_loss: 0.4311 - val_accuracy: 0.8280\n",
      "Epoch 93/200\n",
      "500/500 [==============================] - 0s 86us/step - loss: 0.4482 - accuracy: 0.8000 - val_loss: 0.4377 - val_accuracy: 0.8240\n",
      "Epoch 94/200\n",
      "500/500 [==============================] - 0s 92us/step - loss: 0.4185 - accuracy: 0.8260 - val_loss: 0.4221 - val_accuracy: 0.8200\n",
      "Epoch 95/200\n",
      "500/500 [==============================] - 0s 97us/step - loss: 0.4036 - accuracy: 0.8120 - val_loss: 0.4108 - val_accuracy: 0.8320\n",
      "Epoch 96/200\n",
      "500/500 [==============================] - 0s 84us/step - loss: 0.4102 - accuracy: 0.8240 - val_loss: 0.4568 - val_accuracy: 0.8080\n",
      "Epoch 97/200\n",
      "500/500 [==============================] - 0s 88us/step - loss: 0.4063 - accuracy: 0.8160 - val_loss: 0.4637 - val_accuracy: 0.8040\n",
      "Epoch 98/200\n",
      "500/500 [==============================] - 0s 82us/step - loss: 0.4186 - accuracy: 0.8120 - val_loss: 0.4268 - val_accuracy: 0.8180\n",
      "Epoch 99/200\n",
      "500/500 [==============================] - 0s 88us/step - loss: 0.4099 - accuracy: 0.8340 - val_loss: 0.4469 - val_accuracy: 0.8180\n",
      "Epoch 100/200\n",
      "500/500 [==============================] - 0s 93us/step - loss: 0.4104 - accuracy: 0.8080 - val_loss: 0.4145 - val_accuracy: 0.8180\n",
      "Epoch 101/200\n",
      "500/500 [==============================] - 0s 95us/step - loss: 0.4015 - accuracy: 0.8220 - val_loss: 0.4390 - val_accuracy: 0.8120\n",
      "Epoch 102/200\n",
      "500/500 [==============================] - 0s 84us/step - loss: 0.3921 - accuracy: 0.8300 - val_loss: 0.4190 - val_accuracy: 0.8240\n",
      "Epoch 103/200\n",
      "500/500 [==============================] - 0s 96us/step - loss: 0.3975 - accuracy: 0.8300 - val_loss: 0.4168 - val_accuracy: 0.8260\n",
      "Epoch 104/200\n",
      "500/500 [==============================] - 0s 79us/step - loss: 0.4004 - accuracy: 0.8320 - val_loss: 0.4326 - val_accuracy: 0.8240\n",
      "Epoch 105/200\n",
      "500/500 [==============================] - 0s 85us/step - loss: 0.4058 - accuracy: 0.8220 - val_loss: 0.4200 - val_accuracy: 0.8200\n",
      "Epoch 106/200\n",
      "500/500 [==============================] - 0s 109us/step - loss: 0.4141 - accuracy: 0.8080 - val_loss: 0.4202 - val_accuracy: 0.8140\n",
      "Epoch 107/200\n",
      "500/500 [==============================] - 0s 85us/step - loss: 0.4165 - accuracy: 0.8240 - val_loss: 0.4300 - val_accuracy: 0.8180\n",
      "Epoch 108/200\n",
      "500/500 [==============================] - 0s 92us/step - loss: 0.4175 - accuracy: 0.8160 - val_loss: 0.4134 - val_accuracy: 0.8160\n",
      "Epoch 109/200\n",
      "500/500 [==============================] - 0s 89us/step - loss: 0.4122 - accuracy: 0.8280 - val_loss: 0.4233 - val_accuracy: 0.8220\n",
      "Epoch 110/200\n",
      "500/500 [==============================] - 0s 91us/step - loss: 0.4126 - accuracy: 0.8200 - val_loss: 0.4147 - val_accuracy: 0.8140\n",
      "Epoch 111/200\n",
      "500/500 [==============================] - 0s 90us/step - loss: 0.4150 - accuracy: 0.8220 - val_loss: 0.4283 - val_accuracy: 0.8160\n",
      "Epoch 112/200\n",
      "500/500 [==============================] - 0s 88us/step - loss: 0.4169 - accuracy: 0.8200 - val_loss: 0.4232 - val_accuracy: 0.8180\n",
      "Epoch 113/200\n",
      "500/500 [==============================] - 0s 83us/step - loss: 0.4183 - accuracy: 0.8220 - val_loss: 0.4301 - val_accuracy: 0.8160\n",
      "Epoch 114/200\n",
      "500/500 [==============================] - 0s 78us/step - loss: 0.4080 - accuracy: 0.8220 - val_loss: 0.4135 - val_accuracy: 0.8220\n",
      "Epoch 115/200\n",
      "500/500 [==============================] - 0s 77us/step - loss: 0.4116 - accuracy: 0.8240 - val_loss: 0.4243 - val_accuracy: 0.8260\n",
      "Epoch 116/200\n",
      "500/500 [==============================] - 0s 90us/step - loss: 0.3997 - accuracy: 0.8180 - val_loss: 0.4221 - val_accuracy: 0.8160\n",
      "Epoch 117/200\n",
      "500/500 [==============================] - 0s 107us/step - loss: 0.3956 - accuracy: 0.8240 - val_loss: 0.4319 - val_accuracy: 0.8120\n",
      "Epoch 118/200\n",
      "500/500 [==============================] - 0s 91us/step - loss: 0.3942 - accuracy: 0.8300 - val_loss: 0.4143 - val_accuracy: 0.8200\n",
      "Epoch 119/200\n",
      "500/500 [==============================] - 0s 85us/step - loss: 0.4033 - accuracy: 0.8140 - val_loss: 0.4181 - val_accuracy: 0.8320\n",
      "Epoch 120/200\n",
      "500/500 [==============================] - 0s 88us/step - loss: 0.4109 - accuracy: 0.8300 - val_loss: 0.4129 - val_accuracy: 0.8280\n",
      "Epoch 121/200\n",
      "500/500 [==============================] - 0s 85us/step - loss: 0.3902 - accuracy: 0.8320 - val_loss: 0.4243 - val_accuracy: 0.8140\n",
      "Epoch 122/200\n",
      "500/500 [==============================] - 0s 80us/step - loss: 0.3951 - accuracy: 0.8260 - val_loss: 0.4146 - val_accuracy: 0.8160\n",
      "Epoch 123/200\n",
      "500/500 [==============================] - 0s 79us/step - loss: 0.3922 - accuracy: 0.8320 - val_loss: 0.4240 - val_accuracy: 0.8220\n",
      "Epoch 124/200\n",
      "500/500 [==============================] - 0s 87us/step - loss: 0.3991 - accuracy: 0.8160 - val_loss: 0.4141 - val_accuracy: 0.8260\n",
      "Epoch 125/200\n",
      "500/500 [==============================] - 0s 89us/step - loss: 0.3903 - accuracy: 0.8200 - val_loss: 0.4218 - val_accuracy: 0.8160\n",
      "Epoch 126/200\n",
      "500/500 [==============================] - 0s 91us/step - loss: 0.3894 - accuracy: 0.8340 - val_loss: 0.4260 - val_accuracy: 0.8220\n",
      "Epoch 127/200\n",
      "500/500 [==============================] - 0s 84us/step - loss: 0.4025 - accuracy: 0.8220 - val_loss: 0.4208 - val_accuracy: 0.8180\n",
      "Epoch 128/200\n",
      "500/500 [==============================] - 0s 85us/step - loss: 0.3986 - accuracy: 0.8200 - val_loss: 0.4205 - val_accuracy: 0.8260\n",
      "Epoch 129/200\n",
      "500/500 [==============================] - 0s 81us/step - loss: 0.4082 - accuracy: 0.8100 - val_loss: 0.4275 - val_accuracy: 0.8220\n",
      "Epoch 130/200\n",
      "500/500 [==============================] - 0s 91us/step - loss: 0.3891 - accuracy: 0.8400 - val_loss: 0.4248 - val_accuracy: 0.8200\n",
      "Epoch 131/200\n",
      "500/500 [==============================] - 0s 92us/step - loss: 0.3947 - accuracy: 0.8220 - val_loss: 0.4205 - val_accuracy: 0.8220\n",
      "Epoch 132/200\n",
      "500/500 [==============================] - 0s 84us/step - loss: 0.3880 - accuracy: 0.8380 - val_loss: 0.4308 - val_accuracy: 0.8180\n",
      "Epoch 133/200\n",
      "500/500 [==============================] - 0s 81us/step - loss: 0.3981 - accuracy: 0.8260 - val_loss: 0.4261 - val_accuracy: 0.8200\n",
      "Epoch 134/200\n",
      "500/500 [==============================] - 0s 78us/step - loss: 0.3942 - accuracy: 0.8180 - val_loss: 0.4285 - val_accuracy: 0.8180\n",
      "Epoch 135/200\n",
      "500/500 [==============================] - 0s 80us/step - loss: 0.4091 - accuracy: 0.8340 - val_loss: 0.4305 - val_accuracy: 0.8200\n",
      "Epoch 136/200\n",
      "500/500 [==============================] - 0s 77us/step - loss: 0.3923 - accuracy: 0.8240 - val_loss: 0.4209 - val_accuracy: 0.8160\n",
      "Epoch 137/200\n",
      "500/500 [==============================] - 0s 88us/step - loss: 0.3959 - accuracy: 0.8180 - val_loss: 0.4270 - val_accuracy: 0.8240\n",
      "Epoch 138/200\n",
      "500/500 [==============================] - 0s 86us/step - loss: 0.3933 - accuracy: 0.8320 - val_loss: 0.4208 - val_accuracy: 0.8220\n",
      "Epoch 139/200\n",
      "500/500 [==============================] - 0s 87us/step - loss: 0.4086 - accuracy: 0.8220 - val_loss: 0.4593 - val_accuracy: 0.8100\n",
      "Epoch 140/200\n",
      "500/500 [==============================] - 0s 80us/step - loss: 0.4140 - accuracy: 0.8180 - val_loss: 0.4230 - val_accuracy: 0.8200\n",
      "Epoch 141/200\n",
      "500/500 [==============================] - 0s 85us/step - loss: 0.3886 - accuracy: 0.8320 - val_loss: 0.4226 - val_accuracy: 0.8260\n",
      "Epoch 142/200\n",
      "500/500 [==============================] - 0s 85us/step - loss: 0.4047 - accuracy: 0.8300 - val_loss: 0.4904 - val_accuracy: 0.7840\n",
      "Epoch 143/200\n",
      "500/500 [==============================] - 0s 78us/step - loss: 0.4160 - accuracy: 0.8160 - val_loss: 0.4374 - val_accuracy: 0.8100\n",
      "Epoch 144/200\n",
      "500/500 [==============================] - 0s 88us/step - loss: 0.3885 - accuracy: 0.8280 - val_loss: 0.4177 - val_accuracy: 0.8280\n",
      "Epoch 145/200\n",
      "500/500 [==============================] - 0s 88us/step - loss: 0.4066 - accuracy: 0.8280 - val_loss: 0.4325 - val_accuracy: 0.8200\n",
      "Epoch 146/200\n",
      "500/500 [==============================] - 0s 86us/step - loss: 0.4021 - accuracy: 0.8160 - val_loss: 0.4118 - val_accuracy: 0.8240\n",
      "Epoch 147/200\n",
      "500/500 [==============================] - 0s 79us/step - loss: 0.3960 - accuracy: 0.8180 - val_loss: 0.4146 - val_accuracy: 0.8160\n",
      "Epoch 148/200\n",
      "500/500 [==============================] - 0s 91us/step - loss: 0.3943 - accuracy: 0.8240 - val_loss: 0.4370 - val_accuracy: 0.8100\n",
      "Epoch 149/200\n",
      "500/500 [==============================] - 0s 89us/step - loss: 0.3946 - accuracy: 0.8220 - val_loss: 0.4481 - val_accuracy: 0.8080\n",
      "Epoch 150/200\n",
      "500/500 [==============================] - 0s 79us/step - loss: 0.3871 - accuracy: 0.8260 - val_loss: 0.4324 - val_accuracy: 0.8180\n",
      "Epoch 151/200\n",
      "500/500 [==============================] - 0s 86us/step - loss: 0.3895 - accuracy: 0.8360 - val_loss: 0.4150 - val_accuracy: 0.8240\n",
      "Epoch 152/200\n",
      "500/500 [==============================] - 0s 85us/step - loss: 0.4045 - accuracy: 0.8200 - val_loss: 0.4251 - val_accuracy: 0.8300\n",
      "Epoch 153/200\n",
      "500/500 [==============================] - 0s 81us/step - loss: 0.3939 - accuracy: 0.8240 - val_loss: 0.4234 - val_accuracy: 0.8160\n",
      "Epoch 154/200\n",
      "500/500 [==============================] - 0s 85us/step - loss: 0.4001 - accuracy: 0.8140 - val_loss: 0.4298 - val_accuracy: 0.8140\n",
      "Epoch 155/200\n",
      "500/500 [==============================] - 0s 88us/step - loss: 0.3910 - accuracy: 0.8280 - val_loss: 0.4209 - val_accuracy: 0.8180\n",
      "Epoch 156/200\n",
      "500/500 [==============================] - 0s 82us/step - loss: 0.3911 - accuracy: 0.8180 - val_loss: 0.4158 - val_accuracy: 0.8260\n",
      "Epoch 157/200\n",
      "500/500 [==============================] - 0s 84us/step - loss: 0.3909 - accuracy: 0.8240 - val_loss: 0.4249 - val_accuracy: 0.8160\n",
      "Epoch 158/200\n",
      "500/500 [==============================] - 0s 85us/step - loss: 0.3978 - accuracy: 0.8260 - val_loss: 0.4376 - val_accuracy: 0.8140\n",
      "Epoch 159/200\n",
      "500/500 [==============================] - 0s 81us/step - loss: 0.4049 - accuracy: 0.8260 - val_loss: 0.4275 - val_accuracy: 0.8200\n",
      "Epoch 160/200\n",
      "500/500 [==============================] - 0s 85us/step - loss: 0.3861 - accuracy: 0.8260 - val_loss: 0.4530 - val_accuracy: 0.8100\n",
      "Epoch 161/200\n",
      "500/500 [==============================] - 0s 86us/step - loss: 0.3866 - accuracy: 0.8360 - val_loss: 0.4252 - val_accuracy: 0.8220\n",
      "Epoch 162/200\n",
      "500/500 [==============================] - 0s 84us/step - loss: 0.4008 - accuracy: 0.8220 - val_loss: 0.4262 - val_accuracy: 0.8200\n",
      "Epoch 163/200\n",
      "500/500 [==============================] - 0s 80us/step - loss: 0.3950 - accuracy: 0.8320 - val_loss: 0.4215 - val_accuracy: 0.8220\n",
      "Epoch 164/200\n",
      "500/500 [==============================] - 0s 84us/step - loss: 0.3967 - accuracy: 0.8160 - val_loss: 0.4193 - val_accuracy: 0.8140\n",
      "Epoch 165/200\n",
      "500/500 [==============================] - 0s 78us/step - loss: 0.3896 - accuracy: 0.8360 - val_loss: 0.4292 - val_accuracy: 0.8320\n",
      "Epoch 166/200\n",
      "500/500 [==============================] - 0s 85us/step - loss: 0.3954 - accuracy: 0.8180 - val_loss: 0.4231 - val_accuracy: 0.8260\n",
      "Epoch 167/200\n",
      "500/500 [==============================] - 0s 90us/step - loss: 0.3882 - accuracy: 0.8300 - val_loss: 0.4402 - val_accuracy: 0.8160\n",
      "Epoch 168/200\n",
      "500/500 [==============================] - 0s 85us/step - loss: 0.3969 - accuracy: 0.8300 - val_loss: 0.4297 - val_accuracy: 0.8240\n",
      "Epoch 169/200\n"
     ]
    },
    {
     "name": "stdout",
     "output_type": "stream",
     "text": [
      "500/500 [==============================] - 0s 80us/step - loss: 0.3915 - accuracy: 0.8260 - val_loss: 0.4297 - val_accuracy: 0.8160\n",
      "Epoch 170/200\n",
      "500/500 [==============================] - 0s 91us/step - loss: 0.3863 - accuracy: 0.8240 - val_loss: 0.4207 - val_accuracy: 0.8260\n",
      "Epoch 171/200\n",
      "500/500 [==============================] - 0s 94us/step - loss: 0.3862 - accuracy: 0.8300 - val_loss: 0.4496 - val_accuracy: 0.8060\n",
      "Epoch 172/200\n",
      "500/500 [==============================] - 0s 86us/step - loss: 0.3984 - accuracy: 0.8300 - val_loss: 0.4250 - val_accuracy: 0.8120\n",
      "Epoch 173/200\n",
      "500/500 [==============================] - 0s 79us/step - loss: 0.4270 - accuracy: 0.8100 - val_loss: 0.4592 - val_accuracy: 0.8100\n",
      "Epoch 174/200\n",
      "500/500 [==============================] - 0s 77us/step - loss: 0.4164 - accuracy: 0.8260 - val_loss: 0.4254 - val_accuracy: 0.8180\n",
      "Epoch 175/200\n",
      "500/500 [==============================] - 0s 91us/step - loss: 0.4066 - accuracy: 0.8220 - val_loss: 0.4643 - val_accuracy: 0.7980\n",
      "Epoch 176/200\n",
      "500/500 [==============================] - 0s 81us/step - loss: 0.4043 - accuracy: 0.8180 - val_loss: 0.4455 - val_accuracy: 0.8160\n",
      "Epoch 177/200\n",
      "500/500 [==============================] - 0s 81us/step - loss: 0.3914 - accuracy: 0.8300 - val_loss: 0.4153 - val_accuracy: 0.8240\n",
      "Epoch 178/200\n",
      "500/500 [==============================] - 0s 85us/step - loss: 0.3888 - accuracy: 0.8280 - val_loss: 0.4241 - val_accuracy: 0.8240\n",
      "Epoch 179/200\n",
      "500/500 [==============================] - 0s 79us/step - loss: 0.3908 - accuracy: 0.8240 - val_loss: 0.4277 - val_accuracy: 0.8240\n",
      "Epoch 180/200\n",
      "500/500 [==============================] - 0s 89us/step - loss: 0.3913 - accuracy: 0.8400 - val_loss: 0.4262 - val_accuracy: 0.8200\n",
      "Epoch 181/200\n",
      "500/500 [==============================] - 0s 107us/step - loss: 0.3827 - accuracy: 0.8360 - val_loss: 0.4290 - val_accuracy: 0.8260\n",
      "Epoch 182/200\n",
      "500/500 [==============================] - 0s 122us/step - loss: 0.3926 - accuracy: 0.8420 - val_loss: 0.4438 - val_accuracy: 0.8240\n",
      "Epoch 183/200\n",
      "500/500 [==============================] - 0s 127us/step - loss: 0.3854 - accuracy: 0.8260 - val_loss: 0.4263 - val_accuracy: 0.8200\n",
      "Epoch 184/200\n",
      "500/500 [==============================] - 0s 129us/step - loss: 0.4121 - accuracy: 0.8240 - val_loss: 0.4258 - val_accuracy: 0.8200\n",
      "Epoch 185/200\n",
      "500/500 [==============================] - 0s 130us/step - loss: 0.3851 - accuracy: 0.8260 - val_loss: 0.4240 - val_accuracy: 0.8320\n",
      "Epoch 186/200\n",
      "500/500 [==============================] - 0s 107us/step - loss: 0.3977 - accuracy: 0.8400 - val_loss: 0.4286 - val_accuracy: 0.8160\n",
      "Epoch 187/200\n",
      "500/500 [==============================] - 0s 92us/step - loss: 0.3884 - accuracy: 0.8140 - val_loss: 0.4687 - val_accuracy: 0.7940\n",
      "Epoch 188/200\n",
      "500/500 [==============================] - 0s 82us/step - loss: 0.4149 - accuracy: 0.8120 - val_loss: 0.4344 - val_accuracy: 0.8220\n",
      "Epoch 189/200\n",
      "500/500 [==============================] - 0s 83us/step - loss: 0.3932 - accuracy: 0.8340 - val_loss: 0.4211 - val_accuracy: 0.8280\n",
      "Epoch 190/200\n",
      "500/500 [==============================] - 0s 81us/step - loss: 0.3963 - accuracy: 0.8360 - val_loss: 0.4428 - val_accuracy: 0.8240\n",
      "Epoch 191/200\n",
      "500/500 [==============================] - 0s 116us/step - loss: 0.3968 - accuracy: 0.8200 - val_loss: 0.4353 - val_accuracy: 0.8080\n",
      "Epoch 192/200\n",
      "500/500 [==============================] - 0s 137us/step - loss: 0.3929 - accuracy: 0.8260 - val_loss: 0.4235 - val_accuracy: 0.8160\n",
      "Epoch 193/200\n",
      "500/500 [==============================] - 0s 101us/step - loss: 0.3819 - accuracy: 0.8380 - val_loss: 0.4221 - val_accuracy: 0.8220\n",
      "Epoch 194/200\n",
      "500/500 [==============================] - 0s 118us/step - loss: 0.3879 - accuracy: 0.8280 - val_loss: 0.4203 - val_accuracy: 0.8160\n",
      "Epoch 195/200\n",
      "500/500 [==============================] - 0s 105us/step - loss: 0.3903 - accuracy: 0.8240 - val_loss: 0.4249 - val_accuracy: 0.8180\n",
      "Epoch 196/200\n",
      "500/500 [==============================] - 0s 93us/step - loss: 0.3887 - accuracy: 0.8220 - val_loss: 0.4250 - val_accuracy: 0.8160\n",
      "Epoch 197/200\n",
      "500/500 [==============================] - 0s 125us/step - loss: 0.3833 - accuracy: 0.8260 - val_loss: 0.4328 - val_accuracy: 0.8100\n",
      "Epoch 198/200\n",
      "500/500 [==============================] - 0s 126us/step - loss: 0.3907 - accuracy: 0.8260 - val_loss: 0.4211 - val_accuracy: 0.8200\n",
      "Epoch 199/200\n",
      "500/500 [==============================] - 0s 124us/step - loss: 0.3902 - accuracy: 0.8120 - val_loss: 0.4347 - val_accuracy: 0.8180\n",
      "Epoch 200/200\n",
      "500/500 [==============================] - 0s 128us/step - loss: 0.3864 - accuracy: 0.8340 - val_loss: 0.4390 - val_accuracy: 0.8260\n"
     ]
    }
   ],
   "source": [
    "model = Sequential()\n",
    "model.add(Dense(50, input_dim=2, activation='relu', kernel_initializer='he_uniform'))\n",
    "model.add(Dense(3, activation='softmax'))\n",
    "opt=SGD(lr=0.01, momentum=0.9)\n",
    "#model.compile(loss='categorical_crossentropy', optimizer=opt, metrics=['accuracy'])\n",
    "model.compile(loss='categorical_crossentropy', optimizer=opt,\n",
    "             metrics=['accuracy'], )\n",
    "h = model.fit(trainX,trainy,validation_data=(testX,testy), epochs=200, verbose=1)"
   ]
  },
  {
   "cell_type": "code",
   "execution_count": 342,
   "metadata": {},
   "outputs": [
    {
     "data": {
      "text/plain": [
       "['loss', 'accuracy']"
      ]
     },
     "execution_count": 342,
     "metadata": {},
     "output_type": "execute_result"
    }
   ],
   "source": [
    "model.metrics_names"
   ]
  },
  {
   "cell_type": "code",
   "execution_count": 343,
   "metadata": {},
   "outputs": [
    {
     "name": "stdout",
     "output_type": "stream",
     "text": [
      "500/500 [==============================] - 0s 42us/step\n",
      "500/500 [==============================] - 0s 33us/step\n",
      "Train acc:0.8320  Test acc:0.8260\n"
     ]
    }
   ],
   "source": [
    "#res_train = model.evaluate(trainX,trainy)\n",
    "#res_test = model.evaluate(testX, testy)\n",
    "#print('Train acc:{:.4f}  Test acc:{:.4f}'.format(res_train[1], res_test[1]))"
   ]
  },
  {
   "cell_type": "code",
   "execution_count": 344,
   "metadata": {},
   "outputs": [
    {
     "data": {
      "text/plain": [
       "dict_keys(['val_loss', 'val_accuracy', 'loss', 'accuracy'])"
      ]
     },
     "execution_count": 344,
     "metadata": {},
     "output_type": "execute_result"
    }
   ],
   "source": [
    "h.history.keys()"
   ]
  },
  {
   "cell_type": "code",
   "execution_count": 345,
   "metadata": {},
   "outputs": [
    {
     "data": {
      "image/png": "[encoded data removed]",
      "text/plain": [
       "<Figure size 576x144 with 2 Axes>"
      ]
     },
     "metadata": {
      "needs_background": "light"
     },
     "output_type": "display_data"
    }
   ],
   "source": [
    "fig=plt.figure(figsize=(8,2))\n",
    "plt.subplot(121)\n",
    "plt.title(\"LOSS\")\n",
    "plt.plot(h.history['loss'], label='train')\n",
    "plt.plot(h.history['val_loss'], label='test')\n",
    "plt.legend()\n",
    "plt.subplot(122)\n",
    "plt.title(\"ACCURACY\")\n",
    "plt.plot(h.history['accuracy'], label='train')\n",
    "plt.plot(h.history['val_accuracy'], label='test')\n",
    "plt.legend()\n",
    "plt.show()"
   ]
  },
  {
   "cell_type": "markdown",
   "metadata": {},
   "source": [
    "### Sparse multi-class cross-entropy"
   ]
  },
  {
   "cell_type": "code",
   "execution_count": 349,
   "metadata": {},
   "outputs": [
    {
     "name": "stdout",
     "output_type": "stream",
     "text": [
      "(500,)\n",
      "[2 2 2 0 1]\n"
     ]
    }
   ],
   "source": [
    "from keras.utils import to_categorical\n",
    "X,y = make_blobs(n_samples=1000, centers=3, n_features=2,\n",
    "                cluster_std=2, random_state=2)\n",
    "\n",
    "#y = to_categorical(y) NO ONEHOT ENCODING FOR SPARSE\n",
    "\n",
    "n_train=500\n",
    "trainX,testX = X[:n_train,:],X[n_train:,:]\n",
    "trainy,testy=y[:n_train],y[n_train:]\n",
    "\n",
    "print(trainy.shape)\n",
    "print(y[:5])"
   ]
  },
  {
   "cell_type": "code",
   "execution_count": 346,
   "metadata": {},
   "outputs": [
    {
     "name": "stdout",
     "output_type": "stream",
     "text": [
      "(500,)\n",
      "[2 2 2 0 1]\n",
      "Train on 500 samples, validate on 500 samples\n",
      "Epoch 1/200\n",
      "500/500 [==============================] - 0s 705us/step - loss: 2.2811 - accuracy: 0.4880 - val_loss: 1.7288 - val_accuracy: 0.5140\n",
      "Epoch 2/200\n",
      "500/500 [==============================] - 0s 79us/step - loss: 1.3664 - accuracy: 0.5560 - val_loss: 1.0118 - val_accuracy: 0.6620\n",
      "Epoch 3/200\n",
      "500/500 [==============================] - 0s 105us/step - loss: 1.0256 - accuracy: 0.6300 - val_loss: 0.7930 - val_accuracy: 0.7000\n",
      "Epoch 4/200\n",
      "500/500 [==============================] - 0s 98us/step - loss: 0.7563 - accuracy: 0.6840 - val_loss: 0.6401 - val_accuracy: 0.7020\n",
      "Epoch 5/200\n",
      "500/500 [==============================] - 0s 109us/step - loss: 0.6075 - accuracy: 0.7400 - val_loss: 0.5677 - val_accuracy: 0.7600\n",
      "Epoch 6/200\n",
      "500/500 [==============================] - 0s 109us/step - loss: 0.7119 - accuracy: 0.6580 - val_loss: 0.5961 - val_accuracy: 0.7840\n",
      "Epoch 7/200\n",
      "500/500 [==============================] - 0s 109us/step - loss: 0.5912 - accuracy: 0.7600 - val_loss: 0.5029 - val_accuracy: 0.7740\n",
      "Epoch 8/200\n",
      "500/500 [==============================] - 0s 105us/step - loss: 0.5683 - accuracy: 0.7500 - val_loss: 0.5202 - val_accuracy: 0.8120\n",
      "Epoch 9/200\n",
      "500/500 [==============================] - 0s 110us/step - loss: 0.5332 - accuracy: 0.7780 - val_loss: 0.4758 - val_accuracy: 0.8140\n",
      "Epoch 10/200\n",
      "500/500 [==============================] - 0s 96us/step - loss: 0.5048 - accuracy: 0.7840 - val_loss: 0.4808 - val_accuracy: 0.7880\n",
      "Epoch 11/200\n",
      "500/500 [==============================] - 0s 109us/step - loss: 0.5072 - accuracy: 0.7960 - val_loss: 0.4648 - val_accuracy: 0.8360\n",
      "Epoch 12/200\n",
      "500/500 [==============================] - 0s 103us/step - loss: 0.4865 - accuracy: 0.7960 - val_loss: 0.4410 - val_accuracy: 0.8320\n",
      "Epoch 13/200\n",
      "500/500 [==============================] - 0s 110us/step - loss: 0.5019 - accuracy: 0.7900 - val_loss: 0.4619 - val_accuracy: 0.8340\n",
      "Epoch 14/200\n",
      "500/500 [==============================] - 0s 101us/step - loss: 0.5257 - accuracy: 0.7660 - val_loss: 0.4960 - val_accuracy: 0.8080\n",
      "Epoch 15/200\n",
      "500/500 [==============================] - 0s 102us/step - loss: 0.5558 - accuracy: 0.7580 - val_loss: 0.9737 - val_accuracy: 0.5920\n",
      "Epoch 16/200\n",
      "500/500 [==============================] - 0s 92us/step - loss: 0.5665 - accuracy: 0.7480 - val_loss: 0.4243 - val_accuracy: 0.8320\n",
      "Epoch 17/200\n",
      "500/500 [==============================] - 0s 96us/step - loss: 0.4871 - accuracy: 0.7980 - val_loss: 0.4499 - val_accuracy: 0.8200\n",
      "Epoch 18/200\n",
      "500/500 [==============================] - 0s 100us/step - loss: 0.5819 - accuracy: 0.7300 - val_loss: 0.4354 - val_accuracy: 0.8340\n",
      "Epoch 19/200\n",
      "500/500 [==============================] - 0s 99us/step - loss: 0.5330 - accuracy: 0.7820 - val_loss: 0.4992 - val_accuracy: 0.7660\n",
      "Epoch 20/200\n",
      "500/500 [==============================] - 0s 104us/step - loss: 0.4851 - accuracy: 0.7980 - val_loss: 0.5530 - val_accuracy: 0.7980\n",
      "Epoch 21/200\n",
      "500/500 [==============================] - 0s 102us/step - loss: 0.5373 - accuracy: 0.7760 - val_loss: 0.4501 - val_accuracy: 0.8200\n",
      "Epoch 22/200\n",
      "500/500 [==============================] - 0s 94us/step - loss: 0.4412 - accuracy: 0.8080 - val_loss: 0.4386 - val_accuracy: 0.8220\n",
      "Epoch 23/200\n",
      "500/500 [==============================] - 0s 103us/step - loss: 0.4506 - accuracy: 0.8180 - val_loss: 0.4193 - val_accuracy: 0.8300\n",
      "Epoch 24/200\n",
      "500/500 [==============================] - 0s 107us/step - loss: 0.4306 - accuracy: 0.8140 - val_loss: 0.4344 - val_accuracy: 0.8160\n",
      "Epoch 25/200\n",
      "500/500 [==============================] - 0s 102us/step - loss: 0.4420 - accuracy: 0.8080 - val_loss: 0.4159 - val_accuracy: 0.8220\n",
      "Epoch 26/200\n",
      "500/500 [==============================] - 0s 108us/step - loss: 0.4407 - accuracy: 0.8300 - val_loss: 0.4087 - val_accuracy: 0.8340\n",
      "Epoch 27/200\n",
      "500/500 [==============================] - 0s 97us/step - loss: 0.4144 - accuracy: 0.8280 - val_loss: 0.4167 - val_accuracy: 0.8260\n",
      "Epoch 28/200\n",
      "500/500 [==============================] - 0s 105us/step - loss: 0.4229 - accuracy: 0.8140 - val_loss: 0.4378 - val_accuracy: 0.8100\n",
      "Epoch 29/200\n",
      "500/500 [==============================] - 0s 102us/step - loss: 0.4236 - accuracy: 0.8100 - val_loss: 0.4588 - val_accuracy: 0.8220\n",
      "Epoch 30/200\n",
      "500/500 [==============================] - 0s 101us/step - loss: 0.4317 - accuracy: 0.8080 - val_loss: 0.4455 - val_accuracy: 0.8140\n",
      "Epoch 31/200\n",
      "500/500 [==============================] - 0s 101us/step - loss: 0.4371 - accuracy: 0.8100 - val_loss: 0.4094 - val_accuracy: 0.8360\n",
      "Epoch 32/200\n",
      "500/500 [==============================] - 0s 99us/step - loss: 0.4400 - accuracy: 0.8180 - val_loss: 0.4105 - val_accuracy: 0.8280\n",
      "Epoch 33/200\n",
      "500/500 [==============================] - 0s 93us/step - loss: 0.4286 - accuracy: 0.8160 - val_loss: 0.4130 - val_accuracy: 0.8320\n",
      "Epoch 34/200\n",
      "500/500 [==============================] - 0s 97us/step - loss: 0.4231 - accuracy: 0.8140 - val_loss: 0.4589 - val_accuracy: 0.8080\n",
      "Epoch 35/200\n",
      "500/500 [==============================] - 0s 98us/step - loss: 0.4435 - accuracy: 0.8220 - val_loss: 0.4085 - val_accuracy: 0.8320\n",
      "Epoch 36/200\n",
      "500/500 [==============================] - 0s 102us/step - loss: 0.4417 - accuracy: 0.8240 - val_loss: 0.4338 - val_accuracy: 0.8140\n",
      "Epoch 37/200\n",
      "500/500 [==============================] - 0s 105us/step - loss: 0.4261 - accuracy: 0.8180 - val_loss: 0.5756 - val_accuracy: 0.7540\n",
      "Epoch 38/200\n",
      "500/500 [==============================] - 0s 105us/step - loss: 0.4467 - accuracy: 0.8100 - val_loss: 0.4114 - val_accuracy: 0.8260\n",
      "Epoch 39/200\n",
      "500/500 [==============================] - 0s 96us/step - loss: 0.4425 - accuracy: 0.8120 - val_loss: 0.4314 - val_accuracy: 0.8240\n",
      "Epoch 40/200\n",
      "500/500 [==============================] - 0s 96us/step - loss: 0.4268 - accuracy: 0.8160 - val_loss: 0.4083 - val_accuracy: 0.8280\n",
      "Epoch 41/200\n",
      "500/500 [==============================] - 0s 95us/step - loss: 0.4064 - accuracy: 0.8260 - val_loss: 0.4111 - val_accuracy: 0.8240\n",
      "Epoch 42/200\n",
      "500/500 [==============================] - 0s 95us/step - loss: 0.4059 - accuracy: 0.8180 - val_loss: 0.4212 - val_accuracy: 0.8180\n",
      "Epoch 43/200\n",
      "500/500 [==============================] - 0s 86us/step - loss: 0.4057 - accuracy: 0.8320 - val_loss: 0.4119 - val_accuracy: 0.8340\n",
      "Epoch 44/200\n",
      "500/500 [==============================] - 0s 90us/step - loss: 0.4287 - accuracy: 0.8280 - val_loss: 0.4196 - val_accuracy: 0.8300\n",
      "Epoch 45/200\n",
      "500/500 [==============================] - 0s 95us/step - loss: 0.4154 - accuracy: 0.8140 - val_loss: 0.4154 - val_accuracy: 0.8240\n",
      "Epoch 46/200\n",
      "500/500 [==============================] - 0s 96us/step - loss: 0.4203 - accuracy: 0.8220 - val_loss: 0.4134 - val_accuracy: 0.8300\n",
      "Epoch 47/200\n",
      "500/500 [==============================] - 0s 97us/step - loss: 0.4393 - accuracy: 0.8200 - val_loss: 0.5880 - val_accuracy: 0.7360\n",
      "Epoch 48/200\n",
      "500/500 [==============================] - 0s 96us/step - loss: 0.4321 - accuracy: 0.8120 - val_loss: 0.5589 - val_accuracy: 0.7700\n",
      "Epoch 49/200\n",
      "500/500 [==============================] - 0s 95us/step - loss: 0.4513 - accuracy: 0.8040 - val_loss: 0.4041 - val_accuracy: 0.8300\n",
      "Epoch 50/200\n",
      "500/500 [==============================] - 0s 87us/step - loss: 0.4057 - accuracy: 0.8360 - val_loss: 0.4206 - val_accuracy: 0.8280\n",
      "Epoch 51/200\n",
      "500/500 [==============================] - 0s 91us/step - loss: 0.4087 - accuracy: 0.8240 - val_loss: 0.4252 - val_accuracy: 0.8280\n",
      "Epoch 52/200\n",
      "500/500 [==============================] - 0s 99us/step - loss: 0.4276 - accuracy: 0.8280 - val_loss: 0.4161 - val_accuracy: 0.8220\n",
      "Epoch 53/200\n",
      "500/500 [==============================] - 0s 111us/step - loss: 0.4647 - accuracy: 0.7880 - val_loss: 0.4254 - val_accuracy: 0.8200\n",
      "Epoch 54/200\n",
      "500/500 [==============================] - 0s 100us/step - loss: 0.4334 - accuracy: 0.8200 - val_loss: 0.4145 - val_accuracy: 0.8160\n",
      "Epoch 55/200\n",
      "500/500 [==============================] - 0s 90us/step - loss: 0.4154 - accuracy: 0.8220 - val_loss: 0.4153 - val_accuracy: 0.8200\n",
      "Epoch 56/200\n",
      "500/500 [==============================] - 0s 102us/step - loss: 0.4017 - accuracy: 0.8300 - val_loss: 0.4156 - val_accuracy: 0.8200\n"
     ]
    },
    {
     "name": "stdout",
     "output_type": "stream",
     "text": [
      "Epoch 57/200\n",
      "500/500 [==============================] - 0s 92us/step - loss: 0.3954 - accuracy: 0.8320 - val_loss: 0.4156 - val_accuracy: 0.8280\n",
      "Epoch 58/200\n",
      "500/500 [==============================] - 0s 88us/step - loss: 0.3968 - accuracy: 0.8240 - val_loss: 0.4117 - val_accuracy: 0.8200\n",
      "Epoch 59/200\n",
      "500/500 [==============================] - 0s 93us/step - loss: 0.4014 - accuracy: 0.8280 - val_loss: 0.4219 - val_accuracy: 0.8200\n",
      "Epoch 60/200\n",
      "500/500 [==============================] - 0s 85us/step - loss: 0.4250 - accuracy: 0.8200 - val_loss: 0.4292 - val_accuracy: 0.8200\n",
      "Epoch 61/200\n",
      "500/500 [==============================] - 0s 82us/step - loss: 0.4144 - accuracy: 0.8200 - val_loss: 0.4218 - val_accuracy: 0.8320\n",
      "Epoch 62/200\n",
      "500/500 [==============================] - 0s 83us/step - loss: 0.4157 - accuracy: 0.8220 - val_loss: 0.4191 - val_accuracy: 0.8240\n",
      "Epoch 63/200\n",
      "500/500 [==============================] - 0s 94us/step - loss: 0.4244 - accuracy: 0.8140 - val_loss: 0.4214 - val_accuracy: 0.8240\n",
      "Epoch 64/200\n",
      "500/500 [==============================] - 0s 83us/step - loss: 0.4052 - accuracy: 0.8280 - val_loss: 0.4410 - val_accuracy: 0.8120\n",
      "Epoch 65/200\n",
      "500/500 [==============================] - 0s 86us/step - loss: 0.4069 - accuracy: 0.8240 - val_loss: 0.4610 - val_accuracy: 0.8100\n",
      "Epoch 66/200\n",
      "500/500 [==============================] - 0s 86us/step - loss: 0.4135 - accuracy: 0.8280 - val_loss: 0.4247 - val_accuracy: 0.8240\n",
      "Epoch 67/200\n",
      "500/500 [==============================] - 0s 88us/step - loss: 0.4380 - accuracy: 0.8060 - val_loss: 0.4313 - val_accuracy: 0.8300\n",
      "Epoch 68/200\n",
      "500/500 [==============================] - 0s 83us/step - loss: 0.4728 - accuracy: 0.7980 - val_loss: 0.4268 - val_accuracy: 0.8280\n",
      "Epoch 69/200\n",
      "500/500 [==============================] - 0s 79us/step - loss: 0.4176 - accuracy: 0.8080 - val_loss: 0.4315 - val_accuracy: 0.8220\n",
      "Epoch 70/200\n",
      "500/500 [==============================] - 0s 89us/step - loss: 0.4266 - accuracy: 0.8140 - val_loss: 0.4208 - val_accuracy: 0.8320\n",
      "Epoch 71/200\n",
      "500/500 [==============================] - 0s 87us/step - loss: 0.4152 - accuracy: 0.8260 - val_loss: 0.4273 - val_accuracy: 0.8140\n",
      "Epoch 72/200\n",
      "500/500 [==============================] - 0s 102us/step - loss: 0.3976 - accuracy: 0.8160 - val_loss: 0.4314 - val_accuracy: 0.8180\n",
      "Epoch 73/200\n",
      "500/500 [==============================] - 0s 118us/step - loss: 0.3957 - accuracy: 0.8220 - val_loss: 0.4686 - val_accuracy: 0.7980\n",
      "Epoch 74/200\n",
      "500/500 [==============================] - 0s 91us/step - loss: 0.4173 - accuracy: 0.8200 - val_loss: 0.4095 - val_accuracy: 0.8220\n",
      "Epoch 75/200\n",
      "500/500 [==============================] - 0s 97us/step - loss: 0.4063 - accuracy: 0.8160 - val_loss: 0.4187 - val_accuracy: 0.8200\n",
      "Epoch 76/200\n",
      "500/500 [==============================] - 0s 131us/step - loss: 0.4003 - accuracy: 0.8140 - val_loss: 0.4334 - val_accuracy: 0.8160\n",
      "Epoch 77/200\n",
      "500/500 [==============================] - 0s 131us/step - loss: 0.3993 - accuracy: 0.8200 - val_loss: 0.4291 - val_accuracy: 0.8220\n",
      "Epoch 78/200\n",
      "500/500 [==============================] - 0s 133us/step - loss: 0.4030 - accuracy: 0.8140 - val_loss: 0.4149 - val_accuracy: 0.8220\n",
      "Epoch 79/200\n",
      "500/500 [==============================] - 0s 118us/step - loss: 0.3978 - accuracy: 0.8260 - val_loss: 0.4184 - val_accuracy: 0.8180\n",
      "Epoch 80/200\n",
      "500/500 [==============================] - 0s 87us/step - loss: 0.4408 - accuracy: 0.8080 - val_loss: 0.4159 - val_accuracy: 0.8300\n",
      "Epoch 81/200\n",
      "500/500 [==============================] - 0s 85us/step - loss: 0.4182 - accuracy: 0.8180 - val_loss: 0.4201 - val_accuracy: 0.8200\n",
      "Epoch 82/200\n",
      "500/500 [==============================] - 0s 80us/step - loss: 0.3888 - accuracy: 0.8340 - val_loss: 0.4121 - val_accuracy: 0.8300\n",
      "Epoch 83/200\n",
      "500/500 [==============================] - 0s 82us/step - loss: 0.3947 - accuracy: 0.8360 - val_loss: 0.4362 - val_accuracy: 0.8180\n",
      "Epoch 84/200\n",
      "500/500 [==============================] - 0s 85us/step - loss: 0.3977 - accuracy: 0.8180 - val_loss: 0.4358 - val_accuracy: 0.8260\n",
      "Epoch 85/200\n",
      "500/500 [==============================] - 0s 79us/step - loss: 0.3903 - accuracy: 0.8360 - val_loss: 0.4208 - val_accuracy: 0.8180\n",
      "Epoch 86/200\n",
      "500/500 [==============================] - 0s 80us/step - loss: 0.3880 - accuracy: 0.8300 - val_loss: 0.4176 - val_accuracy: 0.8260\n",
      "Epoch 87/200\n",
      "500/500 [==============================] - 0s 85us/step - loss: 0.3910 - accuracy: 0.8280 - val_loss: 0.4240 - val_accuracy: 0.8160\n",
      "Epoch 88/200\n",
      "500/500 [==============================] - 0s 87us/step - loss: 0.4099 - accuracy: 0.8240 - val_loss: 0.4165 - val_accuracy: 0.8260\n",
      "Epoch 89/200\n",
      "500/500 [==============================] - 0s 87us/step - loss: 0.4102 - accuracy: 0.8200 - val_loss: 0.4360 - val_accuracy: 0.8240\n",
      "Epoch 90/200\n",
      "500/500 [==============================] - 0s 84us/step - loss: 0.3964 - accuracy: 0.8220 - val_loss: 0.4269 - val_accuracy: 0.8180\n",
      "Epoch 91/200\n",
      "500/500 [==============================] - 0s 83us/step - loss: 0.3855 - accuracy: 0.8300 - val_loss: 0.4317 - val_accuracy: 0.8200\n",
      "Epoch 92/200\n",
      "500/500 [==============================] - 0s 87us/step - loss: 0.3894 - accuracy: 0.8280 - val_loss: 0.4152 - val_accuracy: 0.8200\n",
      "Epoch 93/200\n",
      "500/500 [==============================] - 0s 87us/step - loss: 0.3978 - accuracy: 0.8220 - val_loss: 0.4157 - val_accuracy: 0.8320\n",
      "Epoch 94/200\n",
      "500/500 [==============================] - 0s 84us/step - loss: 0.4091 - accuracy: 0.8120 - val_loss: 0.4301 - val_accuracy: 0.8300\n",
      "Epoch 95/200\n",
      "500/500 [==============================] - 0s 90us/step - loss: 0.4056 - accuracy: 0.8260 - val_loss: 0.4160 - val_accuracy: 0.8240\n",
      "Epoch 96/200\n",
      "500/500 [==============================] - 0s 88us/step - loss: 0.4013 - accuracy: 0.8200 - val_loss: 0.4252 - val_accuracy: 0.8140\n",
      "Epoch 97/200\n",
      "500/500 [==============================] - 0s 84us/step - loss: 0.4241 - accuracy: 0.8140 - val_loss: 0.4597 - val_accuracy: 0.7980\n",
      "Epoch 98/200\n",
      "500/500 [==============================] - 0s 85us/step - loss: 0.4209 - accuracy: 0.8160 - val_loss: 0.4219 - val_accuracy: 0.8180\n",
      "Epoch 99/200\n",
      "500/500 [==============================] - 0s 83us/step - loss: 0.4007 - accuracy: 0.8240 - val_loss: 0.4556 - val_accuracy: 0.8060\n",
      "Epoch 100/200\n",
      "500/500 [==============================] - 0s 80us/step - loss: 0.3948 - accuracy: 0.8300 - val_loss: 0.4297 - val_accuracy: 0.8160\n",
      "Epoch 101/200\n",
      "500/500 [==============================] - 0s 83us/step - loss: 0.3899 - accuracy: 0.8280 - val_loss: 0.4776 - val_accuracy: 0.7940\n",
      "Epoch 102/200\n",
      "500/500 [==============================] - 0s 83us/step - loss: 0.3942 - accuracy: 0.8180 - val_loss: 0.4161 - val_accuracy: 0.8160\n",
      "Epoch 103/200\n",
      "500/500 [==============================] - 0s 86us/step - loss: 0.3946 - accuracy: 0.8180 - val_loss: 0.4194 - val_accuracy: 0.8180\n",
      "Epoch 104/200\n",
      "500/500 [==============================] - 0s 84us/step - loss: 0.3877 - accuracy: 0.8280 - val_loss: 0.4263 - val_accuracy: 0.8160\n",
      "Epoch 105/200\n",
      "500/500 [==============================] - 0s 84us/step - loss: 0.3984 - accuracy: 0.8180 - val_loss: 0.4241 - val_accuracy: 0.8200\n",
      "Epoch 106/200\n",
      "500/500 [==============================] - 0s 84us/step - loss: 0.4386 - accuracy: 0.7940 - val_loss: 0.4273 - val_accuracy: 0.8200\n",
      "Epoch 107/200\n",
      "500/500 [==============================] - 0s 84us/step - loss: 0.4263 - accuracy: 0.8160 - val_loss: 0.4212 - val_accuracy: 0.8200\n",
      "Epoch 108/200\n",
      "500/500 [==============================] - 0s 83us/step - loss: 0.4285 - accuracy: 0.8040 - val_loss: 0.4371 - val_accuracy: 0.8160\n",
      "Epoch 109/200\n",
      "500/500 [==============================] - 0s 86us/step - loss: 0.4228 - accuracy: 0.8280 - val_loss: 0.4454 - val_accuracy: 0.8220\n",
      "Epoch 110/200\n",
      "500/500 [==============================] - 0s 84us/step - loss: 0.4247 - accuracy: 0.8240 - val_loss: 0.4234 - val_accuracy: 0.8180\n",
      "Epoch 111/200\n",
      "500/500 [==============================] - 0s 85us/step - loss: 0.3921 - accuracy: 0.8360 - val_loss: 0.4241 - val_accuracy: 0.8140\n",
      "Epoch 112/200\n",
      "500/500 [==============================] - 0s 82us/step - loss: 0.3952 - accuracy: 0.8260 - val_loss: 0.4202 - val_accuracy: 0.8280\n",
      "Epoch 113/200\n",
      "500/500 [==============================] - 0s 85us/step - loss: 0.3960 - accuracy: 0.8200 - val_loss: 0.4311 - val_accuracy: 0.8280\n",
      "Epoch 114/200\n",
      "500/500 [==============================] - 0s 85us/step - loss: 0.4020 - accuracy: 0.8180 - val_loss: 0.4246 - val_accuracy: 0.8180\n",
      "Epoch 115/200\n",
      "500/500 [==============================] - 0s 85us/step - loss: 0.3964 - accuracy: 0.8240 - val_loss: 0.4424 - val_accuracy: 0.8080\n",
      "Epoch 116/200\n",
      "500/500 [==============================] - 0s 84us/step - loss: 0.3972 - accuracy: 0.8260 - val_loss: 0.4287 - val_accuracy: 0.8220\n",
      "Epoch 117/200\n",
      "500/500 [==============================] - 0s 89us/step - loss: 0.4035 - accuracy: 0.8080 - val_loss: 0.4255 - val_accuracy: 0.8240\n",
      "Epoch 118/200\n",
      "500/500 [==============================] - 0s 82us/step - loss: 0.3892 - accuracy: 0.8400 - val_loss: 0.4287 - val_accuracy: 0.8220\n",
      "Epoch 119/200\n",
      "500/500 [==============================] - 0s 86us/step - loss: 0.3921 - accuracy: 0.8280 - val_loss: 0.4261 - val_accuracy: 0.8260\n",
      "Epoch 120/200\n",
      "500/500 [==============================] - 0s 88us/step - loss: 0.3954 - accuracy: 0.8240 - val_loss: 0.4359 - val_accuracy: 0.8120\n",
      "Epoch 121/200\n",
      "500/500 [==============================] - 0s 86us/step - loss: 0.3917 - accuracy: 0.8320 - val_loss: 0.4401 - val_accuracy: 0.8140\n",
      "Epoch 122/200\n",
      "500/500 [==============================] - 0s 81us/step - loss: 0.3874 - accuracy: 0.8260 - val_loss: 0.4225 - val_accuracy: 0.8260\n",
      "Epoch 123/200\n",
      "500/500 [==============================] - 0s 86us/step - loss: 0.3945 - accuracy: 0.8420 - val_loss: 0.4526 - val_accuracy: 0.8180\n",
      "Epoch 124/200\n",
      "500/500 [==============================] - 0s 85us/step - loss: 0.3945 - accuracy: 0.8300 - val_loss: 0.4387 - val_accuracy: 0.8220\n",
      "Epoch 125/200\n",
      "500/500 [==============================] - 0s 83us/step - loss: 0.3922 - accuracy: 0.8260 - val_loss: 0.4231 - val_accuracy: 0.8140\n",
      "Epoch 126/200\n",
      "500/500 [==============================] - 0s 82us/step - loss: 0.3926 - accuracy: 0.8240 - val_loss: 0.4295 - val_accuracy: 0.8260\n",
      "Epoch 127/200\n",
      "500/500 [==============================] - 0s 83us/step - loss: 0.3904 - accuracy: 0.8300 - val_loss: 0.4290 - val_accuracy: 0.8220\n",
      "Epoch 128/200\n",
      "500/500 [==============================] - 0s 83us/step - loss: 0.3878 - accuracy: 0.8220 - val_loss: 0.4319 - val_accuracy: 0.8160\n",
      "Epoch 129/200\n",
      "500/500 [==============================] - 0s 85us/step - loss: 0.3852 - accuracy: 0.8280 - val_loss: 0.4384 - val_accuracy: 0.8220\n",
      "Epoch 130/200\n",
      "500/500 [==============================] - 0s 83us/step - loss: 0.3943 - accuracy: 0.8220 - val_loss: 0.4211 - val_accuracy: 0.8160\n",
      "Epoch 131/200\n",
      "500/500 [==============================] - 0s 80us/step - loss: 0.3827 - accuracy: 0.8380 - val_loss: 0.4218 - val_accuracy: 0.8200\n",
      "Epoch 132/200\n",
      "500/500 [==============================] - 0s 87us/step - loss: 0.3888 - accuracy: 0.8180 - val_loss: 0.4205 - val_accuracy: 0.8200\n",
      "Epoch 133/200\n",
      "500/500 [==============================] - 0s 92us/step - loss: 0.3870 - accuracy: 0.8220 - val_loss: 0.4233 - val_accuracy: 0.8160\n",
      "Epoch 134/200\n",
      "500/500 [==============================] - 0s 91us/step - loss: 0.3909 - accuracy: 0.8280 - val_loss: 0.4557 - val_accuracy: 0.8060\n",
      "Epoch 135/200\n",
      "500/500 [==============================] - 0s 97us/step - loss: 0.4136 - accuracy: 0.8060 - val_loss: 0.4200 - val_accuracy: 0.8240\n",
      "Epoch 136/200\n",
      "500/500 [==============================] - 0s 103us/step - loss: 0.3959 - accuracy: 0.8200 - val_loss: 0.4238 - val_accuracy: 0.8160\n",
      "Epoch 137/200\n",
      "500/500 [==============================] - 0s 80us/step - loss: 0.4104 - accuracy: 0.8320 - val_loss: 0.4385 - val_accuracy: 0.8180\n",
      "Epoch 138/200\n",
      "500/500 [==============================] - 0s 85us/step - loss: 0.4081 - accuracy: 0.8180 - val_loss: 0.4472 - val_accuracy: 0.8080\n",
      "Epoch 139/200\n",
      "500/500 [==============================] - 0s 90us/step - loss: 0.3881 - accuracy: 0.8220 - val_loss: 0.4422 - val_accuracy: 0.8140\n",
      "Epoch 140/200\n",
      "500/500 [==============================] - 0s 89us/step - loss: 0.3917 - accuracy: 0.8340 - val_loss: 0.4631 - val_accuracy: 0.7980\n",
      "Epoch 141/200\n",
      "500/500 [==============================] - 0s 87us/step - loss: 0.3939 - accuracy: 0.8200 - val_loss: 0.4153 - val_accuracy: 0.8200\n",
      "Epoch 142/200\n",
      "500/500 [==============================] - 0s 91us/step - loss: 0.3880 - accuracy: 0.8320 - val_loss: 0.4257 - val_accuracy: 0.8240\n",
      "Epoch 143/200\n",
      "500/500 [==============================] - 0s 83us/step - loss: 0.3969 - accuracy: 0.8320 - val_loss: 0.4251 - val_accuracy: 0.8240\n",
      "Epoch 144/200\n",
      "500/500 [==============================] - 0s 86us/step - loss: 0.4041 - accuracy: 0.8140 - val_loss: 0.4172 - val_accuracy: 0.8180\n",
      "Epoch 145/200\n",
      "500/500 [==============================] - 0s 89us/step - loss: 0.4077 - accuracy: 0.8180 - val_loss: 0.4383 - val_accuracy: 0.8180\n",
      "Epoch 146/200\n",
      "500/500 [==============================] - 0s 88us/step - loss: 0.3877 - accuracy: 0.8300 - val_loss: 0.4211 - val_accuracy: 0.8260\n",
      "Epoch 147/200\n",
      "500/500 [==============================] - 0s 80us/step - loss: 0.4027 - accuracy: 0.8240 - val_loss: 0.4282 - val_accuracy: 0.8180\n",
      "Epoch 148/200\n",
      "500/500 [==============================] - 0s 87us/step - loss: 0.3834 - accuracy: 0.8260 - val_loss: 0.4343 - val_accuracy: 0.8180\n",
      "Epoch 149/200\n",
      "500/500 [==============================] - 0s 92us/step - loss: 0.3846 - accuracy: 0.8340 - val_loss: 0.4345 - val_accuracy: 0.8120\n",
      "Epoch 150/200\n",
      "500/500 [==============================] - 0s 95us/step - loss: 0.3844 - accuracy: 0.8320 - val_loss: 0.4291 - val_accuracy: 0.8240\n",
      "Epoch 151/200\n",
      "500/500 [==============================] - 0s 83us/step - loss: 0.3916 - accuracy: 0.8240 - val_loss: 0.4363 - val_accuracy: 0.8220\n",
      "Epoch 152/200\n",
      "500/500 [==============================] - 0s 86us/step - loss: 0.4172 - accuracy: 0.8140 - val_loss: 0.4233 - val_accuracy: 0.8240\n",
      "Epoch 153/200\n",
      "500/500 [==============================] - 0s 83us/step - loss: 0.4009 - accuracy: 0.8060 - val_loss: 0.4300 - val_accuracy: 0.8140\n",
      "Epoch 154/200\n",
      "500/500 [==============================] - 0s 89us/step - loss: 0.3891 - accuracy: 0.8300 - val_loss: 0.4321 - val_accuracy: 0.8180\n",
      "Epoch 155/200\n",
      "500/500 [==============================] - 0s 91us/step - loss: 0.3825 - accuracy: 0.8240 - val_loss: 0.4193 - val_accuracy: 0.8160\n",
      "Epoch 156/200\n",
      "500/500 [==============================] - 0s 101us/step - loss: 0.3943 - accuracy: 0.8180 - val_loss: 0.4374 - val_accuracy: 0.8160\n",
      "Epoch 157/200\n",
      "500/500 [==============================] - 0s 110us/step - loss: 0.3919 - accuracy: 0.8380 - val_loss: 0.4249 - val_accuracy: 0.8220\n",
      "Epoch 158/200\n",
      "500/500 [==============================] - 0s 108us/step - loss: 0.3973 - accuracy: 0.8160 - val_loss: 0.4198 - val_accuracy: 0.8220\n",
      "Epoch 159/200\n",
      "500/500 [==============================] - 0s 97us/step - loss: 0.3897 - accuracy: 0.8240 - val_loss: 0.4400 - val_accuracy: 0.8180\n",
      "Epoch 160/200\n",
      "500/500 [==============================] - 0s 98us/step - loss: 0.3918 - accuracy: 0.8320 - val_loss: 0.4157 - val_accuracy: 0.8280\n",
      "Epoch 161/200\n",
      "500/500 [==============================] - 0s 100us/step - loss: 0.4016 - accuracy: 0.8160 - val_loss: 0.4284 - val_accuracy: 0.8280\n",
      "Epoch 162/200\n",
      "500/500 [==============================] - 0s 92us/step - loss: 0.4005 - accuracy: 0.8220 - val_loss: 0.4305 - val_accuracy: 0.8240\n",
      "Epoch 163/200\n",
      "500/500 [==============================] - 0s 95us/step - loss: 0.3939 - accuracy: 0.8240 - val_loss: 0.4229 - val_accuracy: 0.8200\n",
      "Epoch 164/200\n",
      "500/500 [==============================] - 0s 96us/step - loss: 0.3901 - accuracy: 0.8240 - val_loss: 0.4179 - val_accuracy: 0.8260\n",
      "Epoch 165/200\n",
      "500/500 [==============================] - 0s 98us/step - loss: 0.3927 - accuracy: 0.8300 - val_loss: 0.4241 - val_accuracy: 0.8340\n",
      "Epoch 166/200\n",
      "500/500 [==============================] - 0s 99us/step - loss: 0.3949 - accuracy: 0.8200 - val_loss: 0.4204 - val_accuracy: 0.8220\n",
      "Epoch 167/200\n",
      "500/500 [==============================] - 0s 96us/step - loss: 0.3802 - accuracy: 0.8200 - val_loss: 0.4187 - val_accuracy: 0.8220\n",
      "Epoch 168/200\n",
      "500/500 [==============================] - 0s 82us/step - loss: 0.3875 - accuracy: 0.8260 - val_loss: 0.4310 - val_accuracy: 0.8200\n",
      "Epoch 169/200\n"
     ]
    },
    {
     "name": "stdout",
     "output_type": "stream",
     "text": [
      "500/500 [==============================] - 0s 86us/step - loss: 0.3873 - accuracy: 0.8200 - val_loss: 0.4308 - val_accuracy: 0.8240\n",
      "Epoch 170/200\n",
      "500/500 [==============================] - 0s 89us/step - loss: 0.3925 - accuracy: 0.8320 - val_loss: 0.4392 - val_accuracy: 0.8260\n",
      "Epoch 171/200\n",
      "500/500 [==============================] - 0s 91us/step - loss: 0.3872 - accuracy: 0.8220 - val_loss: 0.4473 - val_accuracy: 0.8200\n",
      "Epoch 172/200\n",
      "500/500 [==============================] - 0s 87us/step - loss: 0.3957 - accuracy: 0.8340 - val_loss: 0.4533 - val_accuracy: 0.8140\n",
      "Epoch 173/200\n",
      "500/500 [==============================] - 0s 79us/step - loss: 0.3845 - accuracy: 0.8300 - val_loss: 0.4236 - val_accuracy: 0.8180\n",
      "Epoch 174/200\n",
      "500/500 [==============================] - 0s 87us/step - loss: 0.3847 - accuracy: 0.8300 - val_loss: 0.4272 - val_accuracy: 0.8160\n",
      "Epoch 175/200\n",
      "500/500 [==============================] - 0s 86us/step - loss: 0.3908 - accuracy: 0.8320 - val_loss: 0.4553 - val_accuracy: 0.8180\n",
      "Epoch 176/200\n",
      "500/500 [==============================] - 0s 87us/step - loss: 0.3985 - accuracy: 0.8140 - val_loss: 0.4302 - val_accuracy: 0.8200\n",
      "Epoch 177/200\n",
      "500/500 [==============================] - 0s 92us/step - loss: 0.3928 - accuracy: 0.8200 - val_loss: 0.4331 - val_accuracy: 0.8120\n",
      "Epoch 178/200\n",
      "500/500 [==============================] - 0s 84us/step - loss: 0.3855 - accuracy: 0.8380 - val_loss: 0.4277 - val_accuracy: 0.8200\n",
      "Epoch 179/200\n",
      "500/500 [==============================] - 0s 98us/step - loss: 0.3980 - accuracy: 0.8200 - val_loss: 0.4245 - val_accuracy: 0.8240\n",
      "Epoch 180/200\n",
      "500/500 [==============================] - 0s 96us/step - loss: 0.3871 - accuracy: 0.8220 - val_loss: 0.4286 - val_accuracy: 0.8220\n",
      "Epoch 181/200\n",
      "500/500 [==============================] - 0s 101us/step - loss: 0.3805 - accuracy: 0.8320 - val_loss: 0.4407 - val_accuracy: 0.8180\n",
      "Epoch 182/200\n",
      "500/500 [==============================] - 0s 91us/step - loss: 0.3823 - accuracy: 0.8280 - val_loss: 0.4633 - val_accuracy: 0.8060\n",
      "Epoch 183/200\n",
      "500/500 [==============================] - 0s 94us/step - loss: 0.3961 - accuracy: 0.8140 - val_loss: 0.4240 - val_accuracy: 0.8280\n",
      "Epoch 184/200\n",
      "500/500 [==============================] - 0s 93us/step - loss: 0.4045 - accuracy: 0.8240 - val_loss: 0.4287 - val_accuracy: 0.8240\n",
      "Epoch 185/200\n",
      "500/500 [==============================] - 0s 91us/step - loss: 0.4010 - accuracy: 0.8120 - val_loss: 0.4245 - val_accuracy: 0.8300\n",
      "Epoch 186/200\n",
      "500/500 [==============================] - 0s 84us/step - loss: 0.3876 - accuracy: 0.8380 - val_loss: 0.4646 - val_accuracy: 0.8120\n",
      "Epoch 187/200\n",
      "500/500 [==============================] - 0s 81us/step - loss: 0.3847 - accuracy: 0.8200 - val_loss: 0.4293 - val_accuracy: 0.8120\n",
      "Epoch 188/200\n",
      "500/500 [==============================] - 0s 78us/step - loss: 0.3870 - accuracy: 0.8300 - val_loss: 0.4263 - val_accuracy: 0.8180\n",
      "Epoch 189/200\n",
      "500/500 [==============================] - 0s 93us/step - loss: 0.3881 - accuracy: 0.8220 - val_loss: 0.4530 - val_accuracy: 0.8200\n",
      "Epoch 190/200\n",
      "500/500 [==============================] - 0s 113us/step - loss: 0.3940 - accuracy: 0.8220 - val_loss: 0.4341 - val_accuracy: 0.8140\n",
      "Epoch 191/200\n",
      "500/500 [==============================] - 0s 94us/step - loss: 0.3880 - accuracy: 0.8380 - val_loss: 0.4345 - val_accuracy: 0.8200\n",
      "Epoch 192/200\n",
      "500/500 [==============================] - 0s 102us/step - loss: 0.3934 - accuracy: 0.8300 - val_loss: 0.4286 - val_accuracy: 0.8300\n",
      "Epoch 193/200\n",
      "500/500 [==============================] - 0s 94us/step - loss: 0.3840 - accuracy: 0.8380 - val_loss: 0.4544 - val_accuracy: 0.8240\n",
      "Epoch 194/200\n",
      "500/500 [==============================] - 0s 103us/step - loss: 0.3841 - accuracy: 0.8380 - val_loss: 0.4295 - val_accuracy: 0.8180\n",
      "Epoch 195/200\n",
      "500/500 [==============================] - 0s 86us/step - loss: 0.3844 - accuracy: 0.8220 - val_loss: 0.4329 - val_accuracy: 0.8160\n",
      "Epoch 196/200\n",
      "500/500 [==============================] - 0s 85us/step - loss: 0.3848 - accuracy: 0.8340 - val_loss: 0.4387 - val_accuracy: 0.8200\n",
      "Epoch 197/200\n",
      "500/500 [==============================] - 0s 85us/step - loss: 0.3769 - accuracy: 0.8300 - val_loss: 0.4173 - val_accuracy: 0.8280\n",
      "Epoch 198/200\n",
      "500/500 [==============================] - 0s 80us/step - loss: 0.3835 - accuracy: 0.8240 - val_loss: 0.4278 - val_accuracy: 0.8160\n",
      "Epoch 199/200\n",
      "500/500 [==============================] - 0s 87us/step - loss: 0.3809 - accuracy: 0.8300 - val_loss: 0.4284 - val_accuracy: 0.8200\n",
      "Epoch 200/200\n",
      "500/500 [==============================] - 0s 89us/step - loss: 0.3907 - accuracy: 0.8180 - val_loss: 0.4234 - val_accuracy: 0.8240\n",
      "500/500 [==============================] - 0s 27us/step\n",
      "500/500 [==============================] - 0s 33us/step\n",
      "Train acc:0.8380  Test acc:0.8240\n"
     ]
    }
   ],
   "source": [
    "model = Sequential()\n",
    "model.add(Dense(50, input_dim=2, activation='relu', kernel_initializer='he_uniform'))\n",
    "model.add(Dense(3, activation='softmax'))\n",
    "opt=SGD(lr=0.01, momentum=0.9)\n",
    "#model.compile(loss='categorical_crossentropy', optimizer=opt, metrics=['accuracy'])\n",
    "model.compile(loss='sparse_categorical_crossentropy', optimizer=opt,\n",
    "             metrics=['accuracy'], )\n",
    "h = model.fit(trainX,trainy,validation_data=(testX,testy), epochs=200, verbose=1)\n",
    "\n",
    "#res_train = model.evaluate(trainX,trainy)\n",
    "#res_test = model.evaluate(testX, testy)\n",
    "#print('Train acc:{:.4f}  Test acc:{:.4f}'.format(res_train[1], res_test[1]))\n"
   ]
  },
  {
   "cell_type": "code",
   "execution_count": 350,
   "metadata": {},
   "outputs": [
    {
     "data": {
      "image/png": "[encoded data removed]",
      "text/plain": [
       "<Figure size 576x144 with 2 Axes>"
      ]
     },
     "metadata": {
      "needs_background": "light"
     },
     "output_type": "display_data"
    }
   ],
   "source": [
    "\n",
    "fig=plt.figure(figsize=(8,2))\n",
    "plt.subplot(121)\n",
    "plt.title(\"LOSS\")\n",
    "plt.plot(h.history['loss'], label='train')\n",
    "plt.plot(h.history['val_loss'], label='test')\n",
    "plt.legend()\n",
    "plt.subplot(122)\n",
    "plt.title(\"ACCURACY\")\n",
    "plt.plot(h.history['accuracy'], label='train')\n",
    "plt.plot(h.history['val_accuracy'], label='test')\n",
    "plt.legend()\n",
    "plt.show()"
   ]
  },
  {
   "cell_type": "markdown",
   "metadata": {},
   "source": [
    "### Kullback Leibler Divergence\n",
    "Measure of how one probablity distribution differs form another\n",
    "KL Div = 0 suggest dist are identical \n",
    "autoenoder used for learning dense featue representation under a model that must reconstruct the original input "
   ]
  },
  {
   "cell_type": "code",
   "execution_count": 351,
   "metadata": {},
   "outputs": [],
   "source": [
    "from sklearn.datasets import  make_blobs\n",
    "from keras.layers import Dense\n",
    "from keras.models import Sequential\n",
    "from keras.optimizers import SGD\n",
    "from keras.utils import to_categorical\n",
    "import matplotlib.pyplot as plt"
   ]
  },
  {
   "cell_type": "code",
   "execution_count": 353,
   "metadata": {},
   "outputs": [],
   "source": [
    "X,y = make_blobs(n_samples=1000,centers=3,n_features=2, cluster_std=2,\n",
    "                 random_state=2)"
   ]
  },
  {
   "cell_type": "code",
   "execution_count": 354,
   "metadata": {},
   "outputs": [
    {
     "data": {
      "text/plain": [
       "array([2, 2, 2, 0, 1])"
      ]
     },
     "execution_count": 354,
     "metadata": {},
     "output_type": "execute_result"
    }
   ],
   "source": [
    "y[:5]"
   ]
  },
  {
   "cell_type": "code",
   "execution_count": 355,
   "metadata": {},
   "outputs": [],
   "source": [
    "y = to_categorical(y)"
   ]
  },
  {
   "cell_type": "code",
   "execution_count": 356,
   "metadata": {},
   "outputs": [
    {
     "data": {
      "text/plain": [
       "array([[0., 0., 1.],\n",
       "       [0., 0., 1.],\n",
       "       [0., 0., 1.],\n",
       "       [1., 0., 0.],\n",
       "       [0., 1., 0.]], dtype=float32)"
      ]
     },
     "execution_count": 356,
     "metadata": {},
     "output_type": "execute_result"
    }
   ],
   "source": [
    "y[:5]"
   ]
  },
  {
   "cell_type": "code",
   "execution_count": 357,
   "metadata": {},
   "outputs": [],
   "source": [
    "n_train=500\n",
    "trainX,testX = X[:n_train,:],X[n_train:,:]\n",
    "trainy, testy = y[n_train:],y[:n_train]"
   ]
  },
  {
   "cell_type": "code",
   "execution_count": 359,
   "metadata": {},
   "outputs": [],
   "source": [
    "model= Sequential()\n",
    "model.add(Dense(50, input_dim=2, activation='relu',\n",
    "               kernel_initializer='he_uniform'))\n",
    "model.add(Dense(3, activation='softmax'))\n",
    "opt=SGD(lr=0.01, momentum=0.9)\n",
    "model.compile(loss='kullback_leibler_divergence', optimizer=opt, metrics=['accuracy'])"
   ]
  },
  {
   "cell_type": "code",
   "execution_count": 362,
   "metadata": {},
   "outputs": [
    {
     "name": "stdout",
     "output_type": "stream",
     "text": [
      "Train on 500 samples, validate on 500 samples\n",
      "Epoch 1/100\n",
      "500/500 [==============================] - 0s 861us/step - loss: 3.2222 - accuracy: 0.3300 - val_loss: 1.8527 - val_accuracy: 0.3240\n",
      "Epoch 2/100\n",
      "500/500 [==============================] - 0s 88us/step - loss: 2.6674 - accuracy: 0.3320 - val_loss: 2.3745 - val_accuracy: 0.3500\n",
      "Epoch 3/100\n",
      "500/500 [==============================] - 0s 100us/step - loss: 1.6799 - accuracy: 0.3460 - val_loss: 1.2340 - val_accuracy: 0.3360\n",
      "Epoch 4/100\n",
      "500/500 [==============================] - 0s 117us/step - loss: 1.3474 - accuracy: 0.3560 - val_loss: 1.2829 - val_accuracy: 0.3220\n",
      "Epoch 5/100\n",
      "500/500 [==============================] - 0s 108us/step - loss: 1.3284 - accuracy: 0.3320 - val_loss: 1.1483 - val_accuracy: 0.3400\n",
      "Epoch 6/100\n",
      "500/500 [==============================] - 0s 116us/step - loss: 1.2210 - accuracy: 0.3760 - val_loss: 1.1812 - val_accuracy: 0.3500\n",
      "Epoch 7/100\n",
      "500/500 [==============================] - 0s 102us/step - loss: 1.1702 - accuracy: 0.3520 - val_loss: 1.2355 - val_accuracy: 0.3360\n",
      "Epoch 8/100\n",
      "500/500 [==============================] - 0s 106us/step - loss: 1.1384 - accuracy: 0.3820 - val_loss: 1.2959 - val_accuracy: 0.3460\n",
      "Epoch 9/100\n",
      "500/500 [==============================] - 0s 112us/step - loss: 1.1838 - accuracy: 0.3440 - val_loss: 1.1849 - val_accuracy: 0.3500\n",
      "Epoch 10/100\n",
      "500/500 [==============================] - 0s 100us/step - loss: 1.1211 - accuracy: 0.3680 - val_loss: 1.2346 - val_accuracy: 0.3180\n",
      "Epoch 11/100\n",
      "500/500 [==============================] - 0s 97us/step - loss: 1.1470 - accuracy: 0.3660 - val_loss: 1.1245 - val_accuracy: 0.3420\n",
      "Epoch 12/100\n",
      "500/500 [==============================] - 0s 105us/step - loss: 1.1295 - accuracy: 0.3960 - val_loss: 1.1514 - val_accuracy: 0.3480\n",
      "Epoch 13/100\n",
      "500/500 [==============================] - 0s 109us/step - loss: 1.1227 - accuracy: 0.3520 - val_loss: 1.1897 - val_accuracy: 0.3320\n",
      "Epoch 14/100\n",
      "500/500 [==============================] - 0s 103us/step - loss: 1.0881 - accuracy: 0.4080 - val_loss: 1.1442 - val_accuracy: 0.3560\n",
      "Epoch 15/100\n",
      "500/500 [==============================] - 0s 114us/step - loss: 1.0992 - accuracy: 0.3720 - val_loss: 1.1352 - val_accuracy: 0.3420\n",
      "Epoch 16/100\n",
      "500/500 [==============================] - 0s 100us/step - loss: 1.1192 - accuracy: 0.3960 - val_loss: 1.1492 - val_accuracy: 0.3340\n",
      "Epoch 17/100\n",
      "500/500 [==============================] - 0s 118us/step - loss: 1.1133 - accuracy: 0.3800 - val_loss: 1.1378 - val_accuracy: 0.3300\n",
      "Epoch 18/100\n",
      "500/500 [==============================] - 0s 102us/step - loss: 1.0943 - accuracy: 0.3840 - val_loss: 1.1536 - val_accuracy: 0.3480\n",
      "Epoch 19/100\n",
      "500/500 [==============================] - 0s 109us/step - loss: 1.1221 - accuracy: 0.3760 - val_loss: 1.1696 - val_accuracy: 0.3340\n",
      "Epoch 20/100\n",
      "500/500 [==============================] - 0s 111us/step - loss: 1.1225 - accuracy: 0.3900 - val_loss: 1.1497 - val_accuracy: 0.3220\n",
      "Epoch 21/100\n",
      "500/500 [==============================] - 0s 108us/step - loss: 1.1019 - accuracy: 0.3680 - val_loss: 1.1143 - val_accuracy: 0.3500\n",
      "Epoch 22/100\n",
      "500/500 [==============================] - 0s 117us/step - loss: 1.0987 - accuracy: 0.3700 - val_loss: 1.1454 - val_accuracy: 0.3280\n",
      "Epoch 23/100\n",
      "500/500 [==============================] - 0s 118us/step - loss: 1.0859 - accuracy: 0.3980 - val_loss: 1.1275 - val_accuracy: 0.3300\n",
      "Epoch 24/100\n",
      "500/500 [==============================] - 0s 130us/step - loss: 1.0961 - accuracy: 0.4080 - val_loss: 1.1751 - val_accuracy: 0.3300\n",
      "Epoch 25/100\n",
      "500/500 [==============================] - 0s 131us/step - loss: 1.1071 - accuracy: 0.4120 - val_loss: 1.1246 - val_accuracy: 0.3300\n",
      "Epoch 26/100\n",
      "500/500 [==============================] - 0s 139us/step - loss: 1.1038 - accuracy: 0.3980 - val_loss: 1.1721 - val_accuracy: 0.3440\n",
      "Epoch 27/100\n",
      "500/500 [==============================] - 0s 136us/step - loss: 1.1078 - accuracy: 0.3500 - val_loss: 1.1264 - val_accuracy: 0.3580\n",
      "Epoch 28/100\n",
      "500/500 [==============================] - 0s 127us/step - loss: 1.0936 - accuracy: 0.3920 - val_loss: 1.1211 - val_accuracy: 0.3540\n",
      "Epoch 29/100\n",
      "500/500 [==============================] - 0s 138us/step - loss: 1.1104 - accuracy: 0.3580 - val_loss: 1.1711 - val_accuracy: 0.3580\n",
      "Epoch 30/100\n",
      "500/500 [==============================] - 0s 143us/step - loss: 1.1015 - accuracy: 0.3980 - val_loss: 1.1348 - val_accuracy: 0.3600\n",
      "Epoch 31/100\n",
      "500/500 [==============================] - 0s 131us/step - loss: 1.1067 - accuracy: 0.3680 - val_loss: 1.1434 - val_accuracy: 0.3340\n",
      "Epoch 32/100\n",
      "500/500 [==============================] - 0s 131us/step - loss: 1.1100 - accuracy: 0.3720 - val_loss: 1.1350 - val_accuracy: 0.3400\n",
      "Epoch 33/100\n",
      "500/500 [==============================] - 0s 133us/step - loss: 1.1067 - accuracy: 0.3980 - val_loss: 1.1212 - val_accuracy: 0.3580\n",
      "Epoch 34/100\n",
      "500/500 [==============================] - 0s 129us/step - loss: 1.0859 - accuracy: 0.3600 - val_loss: 1.1164 - val_accuracy: 0.3520\n",
      "Epoch 35/100\n",
      "500/500 [==============================] - 0s 119us/step - loss: 1.0951 - accuracy: 0.3820 - val_loss: 1.1342 - val_accuracy: 0.3480\n",
      "Epoch 36/100\n",
      "500/500 [==============================] - 0s 98us/step - loss: 1.1196 - accuracy: 0.3700 - val_loss: 1.1668 - val_accuracy: 0.3500\n",
      "Epoch 37/100\n",
      "500/500 [==============================] - 0s 94us/step - loss: 1.0993 - accuracy: 0.3760 - val_loss: 1.1479 - val_accuracy: 0.3120\n",
      "Epoch 38/100\n",
      "500/500 [==============================] - 0s 110us/step - loss: 1.0995 - accuracy: 0.3720 - val_loss: 1.1283 - val_accuracy: 0.3320\n",
      "Epoch 39/100\n",
      "500/500 [==============================] - 0s 102us/step - loss: 1.0895 - accuracy: 0.4000 - val_loss: 1.1426 - val_accuracy: 0.3480\n",
      "Epoch 40/100\n",
      "500/500 [==============================] - 0s 94us/step - loss: 1.0808 - accuracy: 0.4080 - val_loss: 1.1288 - val_accuracy: 0.3580\n",
      "Epoch 41/100\n",
      "500/500 [==============================] - 0s 90us/step - loss: 1.0863 - accuracy: 0.3980 - val_loss: 1.1187 - val_accuracy: 0.3440\n",
      "Epoch 42/100\n",
      "500/500 [==============================] - 0s 102us/step - loss: 1.0833 - accuracy: 0.3880 - val_loss: 1.1287 - val_accuracy: 0.3540\n",
      "Epoch 43/100\n",
      "500/500 [==============================] - 0s 97us/step - loss: 1.0891 - accuracy: 0.4240 - val_loss: 1.1204 - val_accuracy: 0.3580\n",
      "Epoch 44/100\n",
      "500/500 [==============================] - 0s 104us/step - loss: 1.0961 - accuracy: 0.4020 - val_loss: 1.1448 - val_accuracy: 0.3480\n",
      "Epoch 45/100\n",
      "500/500 [==============================] - 0s 103us/step - loss: 1.0927 - accuracy: 0.3940 - val_loss: 1.1288 - val_accuracy: 0.3540\n",
      "Epoch 46/100\n",
      "500/500 [==============================] - 0s 104us/step - loss: 1.0777 - accuracy: 0.4020 - val_loss: 1.1272 - val_accuracy: 0.3580\n",
      "Epoch 47/100\n",
      "500/500 [==============================] - 0s 100us/step - loss: 1.0854 - accuracy: 0.3720 - val_loss: 1.1317 - val_accuracy: 0.3420\n",
      "Epoch 48/100\n",
      "500/500 [==============================] - 0s 107us/step - loss: 1.0723 - accuracy: 0.4060 - val_loss: 1.1284 - val_accuracy: 0.3640\n",
      "Epoch 49/100\n",
      "500/500 [==============================] - 0s 118us/step - loss: 1.0926 - accuracy: 0.3800 - val_loss: 1.1306 - val_accuracy: 0.3460\n",
      "Epoch 50/100\n",
      "500/500 [==============================] - 0s 109us/step - loss: 1.0785 - accuracy: 0.4060 - val_loss: 1.1317 - val_accuracy: 0.3600\n",
      "Epoch 51/100\n",
      "500/500 [==============================] - 0s 103us/step - loss: 1.0839 - accuracy: 0.3740 - val_loss: 1.1269 - val_accuracy: 0.3640\n",
      "Epoch 52/100\n",
      "500/500 [==============================] - 0s 123us/step - loss: 1.0810 - accuracy: 0.3860 - val_loss: 1.1360 - val_accuracy: 0.3560\n",
      "Epoch 53/100\n",
      "500/500 [==============================] - 0s 89us/step - loss: 1.0839 - accuracy: 0.3840 - val_loss: 1.1242 - val_accuracy: 0.3640\n",
      "Epoch 54/100\n",
      "500/500 [==============================] - 0s 111us/step - loss: 1.0861 - accuracy: 0.3980 - val_loss: 1.1437 - val_accuracy: 0.3580\n",
      "Epoch 55/100\n",
      "500/500 [==============================] - 0s 106us/step - loss: 1.0731 - accuracy: 0.3880 - val_loss: 1.1140 - val_accuracy: 0.3660\n",
      "Epoch 56/100\n",
      "500/500 [==============================] - 0s 101us/step - loss: 1.0809 - accuracy: 0.4020 - val_loss: 1.1610 - val_accuracy: 0.3360\n"
     ]
    },
    {
     "name": "stdout",
     "output_type": "stream",
     "text": [
      "Epoch 57/100\n",
      "500/500 [==============================] - 0s 105us/step - loss: 1.0781 - accuracy: 0.3980 - val_loss: 1.1489 - val_accuracy: 0.3680\n",
      "Epoch 58/100\n",
      "500/500 [==============================] - 0s 94us/step - loss: 1.0874 - accuracy: 0.4000 - val_loss: 1.1351 - val_accuracy: 0.3400\n",
      "Epoch 59/100\n",
      "500/500 [==============================] - 0s 91us/step - loss: 1.0826 - accuracy: 0.3980 - val_loss: 1.1200 - val_accuracy: 0.3680\n",
      "Epoch 60/100\n",
      "500/500 [==============================] - 0s 88us/step - loss: 1.0754 - accuracy: 0.3920 - val_loss: 1.1585 - val_accuracy: 0.3300\n",
      "Epoch 61/100\n",
      "500/500 [==============================] - 0s 97us/step - loss: 1.0890 - accuracy: 0.3940 - val_loss: 1.1718 - val_accuracy: 0.3580\n",
      "Epoch 62/100\n",
      "500/500 [==============================] - 0s 93us/step - loss: 1.0889 - accuracy: 0.3840 - val_loss: 1.1730 - val_accuracy: 0.3420\n",
      "Epoch 63/100\n",
      "500/500 [==============================] - 0s 94us/step - loss: 1.0821 - accuracy: 0.4040 - val_loss: 1.1326 - val_accuracy: 0.3580\n",
      "Epoch 64/100\n",
      "500/500 [==============================] - 0s 95us/step - loss: 1.0879 - accuracy: 0.3960 - val_loss: 1.1403 - val_accuracy: 0.3620\n",
      "Epoch 65/100\n",
      "500/500 [==============================] - 0s 100us/step - loss: 1.0923 - accuracy: 0.3900 - val_loss: 1.1938 - val_accuracy: 0.3600\n",
      "Epoch 66/100\n",
      "500/500 [==============================] - 0s 106us/step - loss: 1.1103 - accuracy: 0.3580 - val_loss: 1.1249 - val_accuracy: 0.3600\n",
      "Epoch 67/100\n",
      "500/500 [==============================] - 0s 95us/step - loss: 1.0821 - accuracy: 0.4000 - val_loss: 1.1405 - val_accuracy: 0.3480\n",
      "Epoch 68/100\n",
      "500/500 [==============================] - 0s 87us/step - loss: 1.0736 - accuracy: 0.4180 - val_loss: 1.1333 - val_accuracy: 0.3480\n",
      "Epoch 69/100\n",
      "500/500 [==============================] - 0s 84us/step - loss: 1.0772 - accuracy: 0.4100 - val_loss: 1.1324 - val_accuracy: 0.3440\n",
      "Epoch 70/100\n",
      "500/500 [==============================] - 0s 95us/step - loss: 1.0841 - accuracy: 0.3820 - val_loss: 1.1616 - val_accuracy: 0.3500\n",
      "Epoch 71/100\n",
      "500/500 [==============================] - 0s 94us/step - loss: 1.0819 - accuracy: 0.3880 - val_loss: 1.1491 - val_accuracy: 0.3520\n",
      "Epoch 72/100\n",
      "500/500 [==============================] - 0s 94us/step - loss: 1.0922 - accuracy: 0.3900 - val_loss: 1.1559 - val_accuracy: 0.3520\n",
      "Epoch 73/100\n",
      "500/500 [==============================] - 0s 92us/step - loss: 1.1082 - accuracy: 0.3820 - val_loss: 1.1378 - val_accuracy: 0.3440\n",
      "Epoch 74/100\n",
      "500/500 [==============================] - 0s 86us/step - loss: 1.0973 - accuracy: 0.4020 - val_loss: 1.1567 - val_accuracy: 0.3600\n",
      "Epoch 75/100\n",
      "500/500 [==============================] - 0s 91us/step - loss: 1.0982 - accuracy: 0.3920 - val_loss: 1.1398 - val_accuracy: 0.3380\n",
      "Epoch 76/100\n",
      "500/500 [==============================] - 0s 90us/step - loss: 1.0817 - accuracy: 0.4020 - val_loss: 1.1480 - val_accuracy: 0.3480\n",
      "Epoch 77/100\n",
      "500/500 [==============================] - 0s 100us/step - loss: 1.0861 - accuracy: 0.4140 - val_loss: 1.1387 - val_accuracy: 0.3480\n",
      "Epoch 78/100\n",
      "500/500 [==============================] - 0s 91us/step - loss: 1.0747 - accuracy: 0.3960 - val_loss: 1.1228 - val_accuracy: 0.3640\n",
      "Epoch 79/100\n",
      "500/500 [==============================] - 0s 94us/step - loss: 1.0756 - accuracy: 0.3960 - val_loss: 1.1544 - val_accuracy: 0.3340\n",
      "Epoch 80/100\n",
      "500/500 [==============================] - 0s 95us/step - loss: 1.1018 - accuracy: 0.3760 - val_loss: 1.1342 - val_accuracy: 0.3640\n",
      "Epoch 81/100\n",
      "500/500 [==============================] - 0s 95us/step - loss: 1.0778 - accuracy: 0.3960 - val_loss: 1.1506 - val_accuracy: 0.3500\n",
      "Epoch 82/100\n",
      "500/500 [==============================] - 0s 93us/step - loss: 1.0756 - accuracy: 0.4100 - val_loss: 1.1302 - val_accuracy: 0.3580\n",
      "Epoch 83/100\n",
      "500/500 [==============================] - 0s 93us/step - loss: 1.0705 - accuracy: 0.3920 - val_loss: 1.1197 - val_accuracy: 0.3720\n",
      "Epoch 84/100\n",
      "500/500 [==============================] - 0s 95us/step - loss: 1.0730 - accuracy: 0.3960 - val_loss: 1.1302 - val_accuracy: 0.3760\n",
      "Epoch 85/100\n",
      "500/500 [==============================] - 0s 95us/step - loss: 1.0943 - accuracy: 0.3720 - val_loss: 1.1299 - val_accuracy: 0.3660\n",
      "Epoch 86/100\n",
      "500/500 [==============================] - 0s 91us/step - loss: 1.0821 - accuracy: 0.4120 - val_loss: 1.2098 - val_accuracy: 0.3420\n",
      "Epoch 87/100\n",
      "500/500 [==============================] - 0s 92us/step - loss: 1.0927 - accuracy: 0.3880 - val_loss: 1.1247 - val_accuracy: 0.3680\n",
      "Epoch 88/100\n",
      "500/500 [==============================] - 0s 103us/step - loss: 1.0742 - accuracy: 0.3900 - val_loss: 1.1231 - val_accuracy: 0.3580\n",
      "Epoch 89/100\n",
      "500/500 [==============================] - 0s 93us/step - loss: 1.0728 - accuracy: 0.3920 - val_loss: 1.1298 - val_accuracy: 0.3520\n",
      "Epoch 90/100\n",
      "500/500 [==============================] - 0s 95us/step - loss: 1.0862 - accuracy: 0.3920 - val_loss: 1.1388 - val_accuracy: 0.3600\n",
      "Epoch 91/100\n",
      "500/500 [==============================] - 0s 98us/step - loss: 1.0752 - accuracy: 0.4060 - val_loss: 1.1332 - val_accuracy: 0.3620\n",
      "Epoch 92/100\n",
      "500/500 [==============================] - 0s 91us/step - loss: 1.0759 - accuracy: 0.3820 - val_loss: 1.1293 - val_accuracy: 0.3480\n",
      "Epoch 93/100\n",
      "500/500 [==============================] - 0s 93us/step - loss: 1.0681 - accuracy: 0.4120 - val_loss: 1.1527 - val_accuracy: 0.3440\n",
      "Epoch 94/100\n",
      "500/500 [==============================] - 0s 93us/step - loss: 1.0874 - accuracy: 0.3780 - val_loss: 1.1461 - val_accuracy: 0.3440\n",
      "Epoch 95/100\n",
      "500/500 [==============================] - 0s 94us/step - loss: 1.0766 - accuracy: 0.3880 - val_loss: 1.1234 - val_accuracy: 0.3700\n",
      "Epoch 96/100\n",
      "500/500 [==============================] - 0s 90us/step - loss: 1.0749 - accuracy: 0.3880 - val_loss: 1.1604 - val_accuracy: 0.3540\n",
      "Epoch 97/100\n",
      "500/500 [==============================] - 0s 97us/step - loss: 1.0813 - accuracy: 0.3580 - val_loss: 1.1169 - val_accuracy: 0.3520\n",
      "Epoch 98/100\n",
      "500/500 [==============================] - 0s 93us/step - loss: 1.0648 - accuracy: 0.4040 - val_loss: 1.1258 - val_accuracy: 0.3660\n",
      "Epoch 99/100\n",
      "500/500 [==============================] - 0s 85us/step - loss: 1.0715 - accuracy: 0.4040 - val_loss: 1.1351 - val_accuracy: 0.3620\n",
      "Epoch 100/100\n",
      "500/500 [==============================] - 0s 88us/step - loss: 1.0859 - accuracy: 0.3920 - val_loss: 1.1438 - val_accuracy: 0.3500\n"
     ]
    }
   ],
   "source": [
    "h = model.fit(trainX ,trainy, validation_data=(testX, testy),\n",
    "             epochs =100, verbose=1)"
   ]
  },
  {
   "cell_type": "code",
   "execution_count": 366,
   "metadata": {},
   "outputs": [
    {
     "name": "stdout",
     "output_type": "stream",
     "text": [
      "500/500 [==============================] - 0s 49us/step\n"
     ]
    },
    {
     "data": {
      "text/plain": [
       "[1.0587191171646118, 0.41600000858306885]"
      ]
     },
     "execution_count": 366,
     "metadata": {},
     "output_type": "execute_result"
    }
   ],
   "source": [
    "#model.evaluate(trainX,trainy,verbose=1)"
   ]
  },
  {
   "cell_type": "code",
   "execution_count": 363,
   "metadata": {},
   "outputs": [
    {
     "data": {
      "text/plain": [
       "['loss', 'accuracy']"
      ]
     },
     "execution_count": 363,
     "metadata": {},
     "output_type": "execute_result"
    }
   ],
   "source": [
    "model.metrics_names"
   ]
  },
  {
   "cell_type": "code",
   "execution_count": 364,
   "metadata": {},
   "outputs": [
    {
     "data": {
      "text/plain": [
       "dict_keys(['val_loss', 'val_accuracy', 'loss', 'accuracy'])"
      ]
     },
     "execution_count": 364,
     "metadata": {},
     "output_type": "execute_result"
    }
   ],
   "source": [
    "h.history.keys()"
   ]
  },
  {
   "cell_type": "code",
   "execution_count": 365,
   "metadata": {},
   "outputs": [
    {
     "data": {
      "image/png": "[encoded data removed]",
      "text/plain": [
       "<Figure size 576x144 with 2 Axes>"
      ]
     },
     "metadata": {
      "needs_background": "light"
     },
     "output_type": "display_data"
    }
   ],
   "source": [
    "fig=plt.figure(figsize=(8,2))\n",
    "plt.subplot(121)\n",
    "plt.title(\"LOSS\")\n",
    "plt.plot(h.history['loss'], label='train')\n",
    "plt.plot(h.history['val_loss'], label='test')\n",
    "plt.legend()\n",
    "plt.subplot(122)\n",
    "plt.title(\"ACCURACY\")\n",
    "plt.plot(h.history['accuracy'], label='train')\n",
    "plt.plot(h.history['val_accuracy'], label='test')\n",
    "plt.legend()\n",
    "plt.show()"
   ]
  },
  {
   "cell_type": "markdown",
   "metadata": {},
   "source": [
    "FIN"
   ]
  },
  {
   "cell_type": "code",
   "execution_count": null,
   "metadata": {},
   "outputs": [],
   "source": []
  }
 ],
 "metadata": {
  "kernelspec": {
   "display_name": "Python 3",
   "language": "python",
   "name": "python3"
  },
  "language_info": {
   "codemirror_mode": {
    "name": "ipython",
    "version": 3
   },
   "file_extension": ".py",
   "mimetype": "text/x-python",
   "name": "python",
   "nbconvert_exporter": "python",
   "pygments_lexer": "ipython3",
   "version": "3.7.6"
  }
 },
 "nbformat": 4,
 "nbformat_minor": 4
}
